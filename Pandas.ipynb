{
  "nbformat": 4,
  "nbformat_minor": 0,
  "metadata": {
    "colab": {
      "name": "Pandas.ipynb",
      "version": "0.3.2",
      "provenance": []
    },
    "kernelspec": {
      "name": "python3",
      "display_name": "Python 3"
    }
  },
  "cells": [
    {
      "metadata": {
        "id": "H4uLkvtROlv2",
        "colab_type": "text"
      },
      "cell_type": "markdown",
      "source": [
        "# Introduction\n",
        "Welcome to the Pandas track. These hands-on exercises are targeted for someone who has worked with Pandas a little before. \n",
        "Each page has a list of `relevant resources` you can use if you get stumped. The top item in each list has been custom-made to help you with the exercises on that page.\n",
        "\n",
        "The first step in most data analytics projects is reading the data file. In this section, you'll create `Series` and `DataFrame` objects, both by hand and by reading data files.\n",
        "\n"
      ]
    },
    {
      "metadata": {
        "id": "rFw0JE8zOTMU",
        "colab_type": "code",
        "colab": {}
      },
      "cell_type": "code",
      "source": [
        "import numpy as np\n",
        "import pandas as pd # This imports pandas\n"
      ],
      "execution_count": 0,
      "outputs": []
    },
    {
      "metadata": {
        "id": "xmZjhXZXOZMg",
        "colab_type": "code",
        "colab": {}
      },
      "cell_type": "code",
      "source": [
        "first_series = pd.Series(list('abcdef'))"
      ],
      "execution_count": 0,
      "outputs": []
    },
    {
      "metadata": {
        "id": "wltUaKvZOerl",
        "colab_type": "code",
        "colab": {
          "base_uri": "https://localhost:8080/",
          "height": 136
        },
        "outputId": "8e41d4c6-2f38-4c22-e41c-cdad24b67dce"
      },
      "cell_type": "code",
      "source": [
        "print(first_series)"
      ],
      "execution_count": 4,
      "outputs": [
        {
          "output_type": "stream",
          "text": [
            "0    a\n",
            "1    b\n",
            "2    c\n",
            "3    d\n",
            "4    e\n",
            "5    f\n",
            "dtype: object\n"
          ],
          "name": "stdout"
        }
      ]
    },
    {
      "metadata": {
        "id": "2gCforeuOhOM",
        "colab_type": "code",
        "colab": {}
      },
      "cell_type": "code",
      "source": [
        "# Create a series from an array\n",
        "np_country = np.array(['Luxembourg','Norway','Japan','Switzerland','US','Qatar','Iceland','Sweden','Singapore','Denmark'])"
      ],
      "execution_count": 0,
      "outputs": []
    },
    {
      "metadata": {
        "id": "amuUYhfsPGh2",
        "colab_type": "code",
        "colab": {}
      },
      "cell_type": "code",
      "source": [
        "s_country = pd.Series(np_country) # Convert Numpy array to Series"
      ],
      "execution_count": 0,
      "outputs": []
    },
    {
      "metadata": {
        "id": "IMfPR-0tPJcv",
        "colab_type": "code",
        "colab": {
          "base_uri": "https://localhost:8080/",
          "height": 204
        },
        "outputId": "d1b93fd3-6b2f-4595-e948-348fb27a2633"
      },
      "cell_type": "code",
      "source": [
        "print(s_country)"
      ],
      "execution_count": 9,
      "outputs": [
        {
          "output_type": "stream",
          "text": [
            "0     Luxembourg\n",
            "1         Norway\n",
            "2          Japan\n",
            "3    Switzerland\n",
            "4             US\n",
            "5          Qatar\n",
            "6        Iceland\n",
            "7         Sweden\n",
            "8      Singapore\n",
            "9        Denmark\n",
            "dtype: object\n"
          ],
          "name": "stdout"
        }
      ]
    },
    {
      "metadata": {
        "id": "2Sm68LFTPNqt",
        "colab_type": "code",
        "colab": {
          "base_uri": "https://localhost:8080/",
          "height": 119
        },
        "outputId": "ad42c4e0-47ed-4f99-b280-5a8a5ef5edc8"
      },
      "cell_type": "code",
      "source": [
        "#Create a series from a scalar\n",
        "scalar_series = pd.Series(5., index = ['a','b','c','d','e'])\n",
        "scalar_series\n"
      ],
      "execution_count": 10,
      "outputs": [
        {
          "output_type": "execute_result",
          "data": {
            "text/plain": [
              "a    5.0\n",
              "b    5.0\n",
              "c    5.0\n",
              "d    5.0\n",
              "e    5.0\n",
              "dtype: float64"
            ]
          },
          "metadata": {
            "tags": []
          },
          "execution_count": 10
        }
      ]
    },
    {
      "metadata": {
        "id": "lgQHk9uXPlqi",
        "colab_type": "code",
        "colab": {}
      },
      "cell_type": "code",
      "source": [
        "#Access elements in a series\n",
        "# First Checkpoint\n",
        "dict_country_gdp.loc['US']\n",
        "dict_country_gdp.iloc[0]\n"
      ],
      "execution_count": 0,
      "outputs": []
    },
    {
      "metadata": {
        "id": "zy0KfR28Tx0v",
        "colab_type": "code",
        "colab": {}
      },
      "cell_type": "code",
      "source": [
        "#Vectorized operation in series\n",
        "first_vector_series = pd.Series([1,2,3,4],index = ['a','b','c','d'])\n",
        "second_vector_series = pd.Series([10,20,30,40],index = ['a','b','c','d'])\n"
      ],
      "execution_count": 0,
      "outputs": []
    },
    {
      "metadata": {
        "id": "wmzfKEc5UB8v",
        "colab_type": "code",
        "colab": {
          "base_uri": "https://localhost:8080/",
          "height": 102
        },
        "outputId": "66d818fb-f0b7-44eb-f2c5-de2f5ec1886a"
      },
      "cell_type": "code",
      "source": [
        "first_vector_series + second_vector_series"
      ],
      "execution_count": 17,
      "outputs": [
        {
          "output_type": "execute_result",
          "data": {
            "text/plain": [
              "a    11\n",
              "b    22\n",
              "c    33\n",
              "d    44\n",
              "dtype: int64"
            ]
          },
          "metadata": {
            "tags": []
          },
          "execution_count": 17
        }
      ]
    },
    {
      "metadata": {
        "id": "gZ_qPSqVUGgo",
        "colab_type": "code",
        "colab": {
          "base_uri": "https://localhost:8080/",
          "height": 102
        },
        "outputId": "b725dc7e-a0ee-48dc-ceca-9a97fba54ff8"
      },
      "cell_type": "code",
      "source": [
        "second_vector_series = pd.Series([10,20,30,40], index = ['a','d','b','c'])\n",
        "first_vector_series + second_vector_series"
      ],
      "execution_count": 19,
      "outputs": [
        {
          "output_type": "execute_result",
          "data": {
            "text/plain": [
              "a    11\n",
              "b    32\n",
              "c    43\n",
              "d    24\n",
              "dtype: int64"
            ]
          },
          "metadata": {
            "tags": []
          },
          "execution_count": 19
        }
      ]
    },
    {
      "metadata": {
        "id": "qdw9I5QjUeZA",
        "colab_type": "code",
        "colab": {
          "base_uri": "https://localhost:8080/",
          "height": 136
        },
        "outputId": "5b9e29e6-ee92-433a-c795-9df3bd8e03b6"
      },
      "cell_type": "code",
      "source": [
        "# Replace few indexes with new ones in second vector series\n",
        "second_vector_series = pd.Series([10,20,30,40], index = ['a','b','e','f'])\n",
        "first_vector_series + second_vector_series"
      ],
      "execution_count": 22,
      "outputs": [
        {
          "output_type": "execute_result",
          "data": {
            "text/plain": [
              "a    11.0\n",
              "b    22.0\n",
              "c     NaN\n",
              "d     NaN\n",
              "e     NaN\n",
              "f     NaN\n",
              "dtype: float64"
            ]
          },
          "metadata": {
            "tags": []
          },
          "execution_count": 22
        }
      ]
    },
    {
      "metadata": {
        "id": "bhs6iJpEU7yP",
        "colab_type": "code",
        "colab": {}
      },
      "cell_type": "code",
      "source": [
        "# Create a dataframe\n",
        "\n",
        "import pandas as pd\n",
        "olympic_data_list = {\"HostCity\":[\"London\",\"Beijing\",\"Athens\",'Sydney','Atlanta'],\n",
        "                    'Year':[2012,2008,2004,2000,1996],\n",
        "                    \"No. of participating countries\":[205,204,201,200,197]}"
      ],
      "execution_count": 0,
      "outputs": []
    },
    {
      "metadata": {
        "id": "tR84znWrgGIF",
        "colab_type": "code",
        "colab": {}
      },
      "cell_type": "code",
      "source": [
        "df_olympic_data = pd.DataFrame(olympic_data_list)"
      ],
      "execution_count": 0,
      "outputs": []
    },
    {
      "metadata": {
        "id": "_ZNbbhW4gMT0",
        "colab_type": "code",
        "colab": {
          "base_uri": "https://localhost:8080/",
          "height": 204
        },
        "outputId": "bcf9ec12-2982-418d-c23a-d31eae629379"
      },
      "cell_type": "code",
      "source": [
        "df_olympic_data"
      ],
      "execution_count": 25,
      "outputs": [
        {
          "output_type": "execute_result",
          "data": {
            "text/html": [
              "<div>\n",
              "<style scoped>\n",
              "    .dataframe tbody tr th:only-of-type {\n",
              "        vertical-align: middle;\n",
              "    }\n",
              "\n",
              "    .dataframe tbody tr th {\n",
              "        vertical-align: top;\n",
              "    }\n",
              "\n",
              "    .dataframe thead th {\n",
              "        text-align: right;\n",
              "    }\n",
              "</style>\n",
              "<table border=\"1\" class=\"dataframe\">\n",
              "  <thead>\n",
              "    <tr style=\"text-align: right;\">\n",
              "      <th></th>\n",
              "      <th>HostCity</th>\n",
              "      <th>No. of participating countries</th>\n",
              "      <th>Year</th>\n",
              "    </tr>\n",
              "  </thead>\n",
              "  <tbody>\n",
              "    <tr>\n",
              "      <th>0</th>\n",
              "      <td>London</td>\n",
              "      <td>205</td>\n",
              "      <td>2012</td>\n",
              "    </tr>\n",
              "    <tr>\n",
              "      <th>1</th>\n",
              "      <td>Beijing</td>\n",
              "      <td>204</td>\n",
              "      <td>2008</td>\n",
              "    </tr>\n",
              "    <tr>\n",
              "      <th>2</th>\n",
              "      <td>Athens</td>\n",
              "      <td>201</td>\n",
              "      <td>2004</td>\n",
              "    </tr>\n",
              "    <tr>\n",
              "      <th>3</th>\n",
              "      <td>Sydney</td>\n",
              "      <td>200</td>\n",
              "      <td>2000</td>\n",
              "    </tr>\n",
              "    <tr>\n",
              "      <th>4</th>\n",
              "      <td>Atlanta</td>\n",
              "      <td>197</td>\n",
              "      <td>1996</td>\n",
              "    </tr>\n",
              "  </tbody>\n",
              "</table>\n",
              "</div>"
            ],
            "text/plain": [
              "  HostCity  No. of participating countries  Year\n",
              "0   London                             205  2012\n",
              "1  Beijing                             204  2008\n",
              "2   Athens                             201  2004\n",
              "3   Sydney                             200  2000\n",
              "4  Atlanta                             197  1996"
            ]
          },
          "metadata": {
            "tags": []
          },
          "execution_count": 25
        }
      ]
    },
    {
      "metadata": {
        "id": "CT3pAJG-gNfr",
        "colab_type": "code",
        "colab": {}
      },
      "cell_type": "code",
      "source": [
        "# Create a dataframe from a series of Dictionaries\n",
        "\n",
        "olympic_data_dict = {'London':{2012:205}, \n",
        "                     'Beijing':{2008:204}}"
      ],
      "execution_count": 0,
      "outputs": []
    },
    {
      "metadata": {
        "id": "FIOjspS9kVRk",
        "colab_type": "code",
        "colab": {
          "base_uri": "https://localhost:8080/",
          "height": 111
        },
        "outputId": "b7c2ddbc-6de9-45ef-e456-84ef6d2613ad"
      },
      "cell_type": "code",
      "source": [
        "df_olympic_data_dict = pd.DataFrame(olympic_data_dict)\n",
        "df_olympic_data_dict"
      ],
      "execution_count": 33,
      "outputs": [
        {
          "output_type": "execute_result",
          "data": {
            "text/html": [
              "<div>\n",
              "<style scoped>\n",
              "    .dataframe tbody tr th:only-of-type {\n",
              "        vertical-align: middle;\n",
              "    }\n",
              "\n",
              "    .dataframe tbody tr th {\n",
              "        vertical-align: top;\n",
              "    }\n",
              "\n",
              "    .dataframe thead th {\n",
              "        text-align: right;\n",
              "    }\n",
              "</style>\n",
              "<table border=\"1\" class=\"dataframe\">\n",
              "  <thead>\n",
              "    <tr style=\"text-align: right;\">\n",
              "      <th></th>\n",
              "      <th>Beijing</th>\n",
              "      <th>London</th>\n",
              "    </tr>\n",
              "  </thead>\n",
              "  <tbody>\n",
              "    <tr>\n",
              "      <th>2008</th>\n",
              "      <td>204.0</td>\n",
              "      <td>NaN</td>\n",
              "    </tr>\n",
              "    <tr>\n",
              "      <th>2012</th>\n",
              "      <td>NaN</td>\n",
              "      <td>205.0</td>\n",
              "    </tr>\n",
              "  </tbody>\n",
              "</table>\n",
              "</div>"
            ],
            "text/plain": [
              "      Beijing  London\n",
              "2008    204.0     NaN\n",
              "2012      NaN   205.0"
            ]
          },
          "metadata": {
            "tags": []
          },
          "execution_count": 33
        }
      ]
    },
    {
      "metadata": {
        "id": "uBkfUb4vkcO4",
        "colab_type": "code",
        "colab": {
          "base_uri": "https://localhost:8080/",
          "height": 119
        },
        "outputId": "201e0e83-d977-4161-f802-4c8bd97888d8"
      },
      "cell_type": "code",
      "source": [
        "#View DataFrame\n",
        "df_olympic_data.HostCity"
      ],
      "execution_count": 34,
      "outputs": [
        {
          "output_type": "execute_result",
          "data": {
            "text/plain": [
              "0     London\n",
              "1    Beijing\n",
              "2     Athens\n",
              "3     Sydney\n",
              "4    Atlanta\n",
              "Name: HostCity, dtype: object"
            ]
          },
          "metadata": {
            "tags": []
          },
          "execution_count": 34
        }
      ]
    },
    {
      "metadata": {
        "id": "ln77IUVeliF_",
        "colab_type": "code",
        "colab": {
          "base_uri": "https://localhost:8080/",
          "height": 119
        },
        "outputId": "42cdcd0e-41b2-4dc5-b5fe-66dc21e757f1"
      },
      "cell_type": "code",
      "source": [
        "#Describe DataFrame\n",
        "df_olympic_data.describe"
      ],
      "execution_count": 35,
      "outputs": [
        {
          "output_type": "execute_result",
          "data": {
            "text/plain": [
              "<bound method NDFrame.describe of   HostCity  No. of participating countries  Year\n",
              "0   London                             205  2012\n",
              "1  Beijing                             204  2008\n",
              "2   Athens                             201  2004\n",
              "3   Sydney                             200  2000\n",
              "4  Atlanta                             197  1996>"
            ]
          },
          "metadata": {
            "tags": []
          },
          "execution_count": 35
        }
      ]
    },
    {
      "metadata": {
        "id": "nOYketG3loD3",
        "colab_type": "code",
        "colab": {}
      },
      "cell_type": "code",
      "source": [
        "# Create df from a dict of series\n",
        "\n",
        "olympic_series_participation = pd.Series([205,204,201,200,197], index = [2012,2008,2004,2000,1996])\n",
        "olympic_series_country = pd.Series(['London','Beijing','Athens','Sydney','Atlanta'], index = [2012,2008,2004,2000,1996])"
      ],
      "execution_count": 0,
      "outputs": []
    },
    {
      "metadata": {
        "id": "Rp0A1dppmTKZ",
        "colab_type": "code",
        "colab": {}
      },
      "cell_type": "code",
      "source": [
        "import pandas as pd\n",
        "df_olympic_series = pd.DataFrame({'No. of Participating Countries': olympic_series_participation,\n",
        "                                   'Host Cities': olympic_series_country})"
      ],
      "execution_count": 0,
      "outputs": []
    },
    {
      "metadata": {
        "id": "8cTxov7cmlUE",
        "colab_type": "code",
        "colab": {
          "base_uri": "https://localhost:8080/",
          "height": 204
        },
        "outputId": "d21c04fc-2433-4599-c8b3-ad5fc8d0c9a4"
      },
      "cell_type": "code",
      "source": [
        "df_olympic_series"
      ],
      "execution_count": 42,
      "outputs": [
        {
          "output_type": "execute_result",
          "data": {
            "text/html": [
              "<div>\n",
              "<style scoped>\n",
              "    .dataframe tbody tr th:only-of-type {\n",
              "        vertical-align: middle;\n",
              "    }\n",
              "\n",
              "    .dataframe tbody tr th {\n",
              "        vertical-align: top;\n",
              "    }\n",
              "\n",
              "    .dataframe thead th {\n",
              "        text-align: right;\n",
              "    }\n",
              "</style>\n",
              "<table border=\"1\" class=\"dataframe\">\n",
              "  <thead>\n",
              "    <tr style=\"text-align: right;\">\n",
              "      <th></th>\n",
              "      <th>Host Cities</th>\n",
              "      <th>No. of Participating Countries</th>\n",
              "    </tr>\n",
              "  </thead>\n",
              "  <tbody>\n",
              "    <tr>\n",
              "      <th>2012</th>\n",
              "      <td>London</td>\n",
              "      <td>205</td>\n",
              "    </tr>\n",
              "    <tr>\n",
              "      <th>2008</th>\n",
              "      <td>Beijing</td>\n",
              "      <td>204</td>\n",
              "    </tr>\n",
              "    <tr>\n",
              "      <th>2004</th>\n",
              "      <td>Athens</td>\n",
              "      <td>201</td>\n",
              "    </tr>\n",
              "    <tr>\n",
              "      <th>2000</th>\n",
              "      <td>Sydney</td>\n",
              "      <td>200</td>\n",
              "    </tr>\n",
              "    <tr>\n",
              "      <th>1996</th>\n",
              "      <td>Atlanta</td>\n",
              "      <td>197</td>\n",
              "    </tr>\n",
              "  </tbody>\n",
              "</table>\n",
              "</div>"
            ],
            "text/plain": [
              "     Host Cities  No. of Participating Countries\n",
              "2012      London                             205\n",
              "2008     Beijing                             204\n",
              "2004      Athens                             201\n",
              "2000      Sydney                             200\n",
              "1996     Atlanta                             197"
            ]
          },
          "metadata": {
            "tags": []
          },
          "execution_count": 42
        }
      ]
    },
    {
      "metadata": {
        "id": "bE8v7Jm4mzHx",
        "colab_type": "code",
        "colab": {}
      },
      "cell_type": "code",
      "source": [
        "# Checkpoint # Please work this in your notebook!\n",
        "\n",
        "# Create a dataframe from an ndarray\n",
        "import numpy as np\n",
        "np_array = np.array ([2012, 2008, 2004, 2006])\n",
        "dict_ndarray = {'year':np_array}\n"
      ],
      "execution_count": 0,
      "outputs": []
    },
    {
      "metadata": {
        "id": "KmYLsiUiorhG",
        "colab_type": "code",
        "colab": {}
      },
      "cell_type": "code",
      "source": [
        "df_ndarray = pd.DataFrame(dict_ndarray)"
      ],
      "execution_count": 0,
      "outputs": []
    },
    {
      "metadata": {
        "id": "1nqOCbL6o2RO",
        "colab_type": "code",
        "colab": {
          "base_uri": "https://localhost:8080/",
          "height": 173
        },
        "outputId": "f1b4d371-11b2-4b27-ce8f-bd1d2feb778a"
      },
      "cell_type": "code",
      "source": [
        "df_ndarray"
      ],
      "execution_count": 46,
      "outputs": [
        {
          "output_type": "execute_result",
          "data": {
            "text/html": [
              "<div>\n",
              "<style scoped>\n",
              "    .dataframe tbody tr th:only-of-type {\n",
              "        vertical-align: middle;\n",
              "    }\n",
              "\n",
              "    .dataframe tbody tr th {\n",
              "        vertical-align: top;\n",
              "    }\n",
              "\n",
              "    .dataframe thead th {\n",
              "        text-align: right;\n",
              "    }\n",
              "</style>\n",
              "<table border=\"1\" class=\"dataframe\">\n",
              "  <thead>\n",
              "    <tr style=\"text-align: right;\">\n",
              "      <th></th>\n",
              "      <th>year</th>\n",
              "    </tr>\n",
              "  </thead>\n",
              "  <tbody>\n",
              "    <tr>\n",
              "      <th>0</th>\n",
              "      <td>2012</td>\n",
              "    </tr>\n",
              "    <tr>\n",
              "      <th>1</th>\n",
              "      <td>2008</td>\n",
              "    </tr>\n",
              "    <tr>\n",
              "      <th>2</th>\n",
              "      <td>2004</td>\n",
              "    </tr>\n",
              "    <tr>\n",
              "      <th>3</th>\n",
              "      <td>2006</td>\n",
              "    </tr>\n",
              "  </tbody>\n",
              "</table>\n",
              "</div>"
            ],
            "text/plain": [
              "   year\n",
              "0  2012\n",
              "1  2008\n",
              "2  2004\n",
              "3  2006"
            ]
          },
          "metadata": {
            "tags": []
          },
          "execution_count": 46
        }
      ]
    },
    {
      "metadata": {
        "id": "HquxEe-ao3lb",
        "colab_type": "code",
        "colab": {}
      },
      "cell_type": "code",
      "source": [
        "# Create a df from a df\n",
        "\n",
        "df_from_df = pd.DataFrame(df_olympic_series)"
      ],
      "execution_count": 0,
      "outputs": []
    },
    {
      "metadata": {
        "id": "doW2wRwHpEam",
        "colab_type": "code",
        "colab": {
          "base_uri": "https://localhost:8080/",
          "height": 204
        },
        "outputId": "b652a4cd-27b5-4394-df3d-a0d34b31b4cd"
      },
      "cell_type": "code",
      "source": [
        "df_from_df"
      ],
      "execution_count": 48,
      "outputs": [
        {
          "output_type": "execute_result",
          "data": {
            "text/html": [
              "<div>\n",
              "<style scoped>\n",
              "    .dataframe tbody tr th:only-of-type {\n",
              "        vertical-align: middle;\n",
              "    }\n",
              "\n",
              "    .dataframe tbody tr th {\n",
              "        vertical-align: top;\n",
              "    }\n",
              "\n",
              "    .dataframe thead th {\n",
              "        text-align: right;\n",
              "    }\n",
              "</style>\n",
              "<table border=\"1\" class=\"dataframe\">\n",
              "  <thead>\n",
              "    <tr style=\"text-align: right;\">\n",
              "      <th></th>\n",
              "      <th>Host Cities</th>\n",
              "      <th>No. of Participating Countries</th>\n",
              "    </tr>\n",
              "  </thead>\n",
              "  <tbody>\n",
              "    <tr>\n",
              "      <th>2012</th>\n",
              "      <td>London</td>\n",
              "      <td>205</td>\n",
              "    </tr>\n",
              "    <tr>\n",
              "      <th>2008</th>\n",
              "      <td>Beijing</td>\n",
              "      <td>204</td>\n",
              "    </tr>\n",
              "    <tr>\n",
              "      <th>2004</th>\n",
              "      <td>Athens</td>\n",
              "      <td>201</td>\n",
              "    </tr>\n",
              "    <tr>\n",
              "      <th>2000</th>\n",
              "      <td>Sydney</td>\n",
              "      <td>200</td>\n",
              "    </tr>\n",
              "    <tr>\n",
              "      <th>1996</th>\n",
              "      <td>Atlanta</td>\n",
              "      <td>197</td>\n",
              "    </tr>\n",
              "  </tbody>\n",
              "</table>\n",
              "</div>"
            ],
            "text/plain": [
              "     Host Cities  No. of Participating Countries\n",
              "2012      London                             205\n",
              "2008     Beijing                             204\n",
              "2004      Athens                             201\n",
              "2000      Sydney                             200\n",
              "1996     Atlanta                             197"
            ]
          },
          "metadata": {
            "tags": []
          },
          "execution_count": 48
        }
      ]
    },
    {
      "metadata": {
        "id": "HwWDKNbVpF3N",
        "colab_type": "code",
        "colab": {}
      },
      "cell_type": "code",
      "source": [
        "# Handling Missing Values\n",
        "\n",
        "first_series = pd.Series([1,2,3,4,5], index = ['a','b','c','d','e'])\n",
        "\n",
        "second_series = pd.Series([10,20,30,40,50], index = ['c','e','f','g','h'])\n",
        "\n",
        "sum_of_series = first_series + second_series"
      ],
      "execution_count": 0,
      "outputs": []
    },
    {
      "metadata": {
        "id": "xwcLFaecp-iN",
        "colab_type": "code",
        "colab": {
          "base_uri": "https://localhost:8080/",
          "height": 170
        },
        "outputId": "086c980c-11ec-4534-a424-f25abb8207ba"
      },
      "cell_type": "code",
      "source": [
        "sum_of_series # Sometimes missing values can be 'NaN', '?', '0'. It depends on the dataset"
      ],
      "execution_count": 51,
      "outputs": [
        {
          "output_type": "execute_result",
          "data": {
            "text/plain": [
              "a     NaN\n",
              "b     NaN\n",
              "c    13.0\n",
              "d     NaN\n",
              "e    25.0\n",
              "f     NaN\n",
              "g     NaN\n",
              "h     NaN\n",
              "dtype: float64"
            ]
          },
          "metadata": {
            "tags": []
          },
          "execution_count": 51
        }
      ]
    },
    {
      "metadata": {
        "id": "dCaqMqRfqNyT",
        "colab_type": "code",
        "colab": {}
      },
      "cell_type": "code",
      "source": [
        "# Handling missing values with Functions\n",
        "#dropna\n",
        "dropna_s = sum_of_series.dropna() # Drop all rows with missing values"
      ],
      "execution_count": 0,
      "outputs": []
    },
    {
      "metadata": {
        "id": "rWgdv8-nqjxG",
        "colab_type": "code",
        "colab": {
          "base_uri": "https://localhost:8080/",
          "height": 68
        },
        "outputId": "eff71307-97e1-48e9-a7ca-ad5de2e4fd48"
      },
      "cell_type": "code",
      "source": [
        "dropna_s"
      ],
      "execution_count": 53,
      "outputs": [
        {
          "output_type": "execute_result",
          "data": {
            "text/plain": [
              "c    13.0\n",
              "e    25.0\n",
              "dtype: float64"
            ]
          },
          "metadata": {
            "tags": []
          },
          "execution_count": 53
        }
      ]
    },
    {
      "metadata": {
        "id": "v_rZH06Cqlbc",
        "colab_type": "code",
        "colab": {}
      },
      "cell_type": "code",
      "source": [
        "# Fillna function\n",
        "fillna_s = sum_of_series.fillna(0)"
      ],
      "execution_count": 0,
      "outputs": []
    },
    {
      "metadata": {
        "id": "tFe7sLQwq30V",
        "colab_type": "code",
        "colab": {
          "base_uri": "https://localhost:8080/",
          "height": 170
        },
        "outputId": "1ec9af82-da82-45e6-a8f4-fef27bda3c29"
      },
      "cell_type": "code",
      "source": [
        "fillna_s"
      ],
      "execution_count": 55,
      "outputs": [
        {
          "output_type": "execute_result",
          "data": {
            "text/plain": [
              "a     0.0\n",
              "b     0.0\n",
              "c    13.0\n",
              "d     0.0\n",
              "e    25.0\n",
              "f     0.0\n",
              "g     0.0\n",
              "h     0.0\n",
              "dtype: float64"
            ]
          },
          "metadata": {
            "tags": []
          },
          "execution_count": 55
        }
      ]
    },
    {
      "metadata": {
        "id": "c92aG70Yq5lv",
        "colab_type": "code",
        "colab": {}
      },
      "cell_type": "code",
      "source": [
        "fill_NaN_with_zeros_before_sum = first_series.add(second_series, fill_value =0)"
      ],
      "execution_count": 0,
      "outputs": []
    },
    {
      "metadata": {
        "id": "ceVL9rnqrSwW",
        "colab_type": "code",
        "colab": {
          "base_uri": "https://localhost:8080/",
          "height": 170
        },
        "outputId": "897bd436-9194-4940-a43b-e3cdbf898712"
      },
      "cell_type": "code",
      "source": [
        "fill_NaN_with_zeros_before_sum"
      ],
      "execution_count": 57,
      "outputs": [
        {
          "output_type": "execute_result",
          "data": {
            "text/plain": [
              "a     1.0\n",
              "b     2.0\n",
              "c    13.0\n",
              "d     4.0\n",
              "e    25.0\n",
              "f    30.0\n",
              "g    40.0\n",
              "h    50.0\n",
              "dtype: float64"
            ]
          },
          "metadata": {
            "tags": []
          },
          "execution_count": 57
        }
      ]
    },
    {
      "metadata": {
        "id": "_qM6OotdrVAO",
        "colab_type": "code",
        "colab": {}
      },
      "cell_type": "code",
      "source": [
        ""
      ],
      "execution_count": 0,
      "outputs": []
    }
  ]
}