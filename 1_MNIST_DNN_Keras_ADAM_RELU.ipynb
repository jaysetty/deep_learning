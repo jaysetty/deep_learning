{
  "nbformat": 4,
  "nbformat_minor": 0,
  "metadata": {
    "colab": {
      "name": "7. MNIST_DNN_Keras_ADAM_RELU.ipynb",
      "version": "0.3.2",
      "provenance": []
    },
    "kernelspec": {
      "display_name": "Python 3",
      "language": "python",
      "name": "python3"
    }
  },
  "cells": [
    {
      "metadata": {
        "slideshow": {
          "slide_type": "slide"
        },
        "id": "ay4Cl8fT7DS5",
        "colab_type": "text"
      },
      "cell_type": "markdown",
      "source": [
        "### Load tensorflow"
      ]
    },
    {
      "metadata": {
        "id": "qs_XjpJ_7DS8",
        "colab_type": "code",
        "colab": {}
      },
      "cell_type": "code",
      "source": [
        "import tensorflow as tf\n",
        "tf.reset_default_graph()\n",
        "tf.set_random_seed(42)"
      ],
      "execution_count": 0,
      "outputs": []
    },
    {
      "metadata": {
        "slideshow": {
          "slide_type": "slide"
        },
        "id": "6W-1jwt07DTD",
        "colab_type": "text"
      },
      "cell_type": "markdown",
      "source": [
        "### Collect Data"
      ]
    },
    {
      "metadata": {
        "id": "PKk96vb57DTF",
        "colab_type": "code",
        "colab": {
          "base_uri": "https://localhost:8080/",
          "height": 51
        },
        "outputId": "c0696034-4771-4991-bff7-7dee59a7a503"
      },
      "cell_type": "code",
      "source": [
        "(trainX, trainY),(testX, testY) = tf.keras.datasets.mnist.load_data()"
      ],
      "execution_count": 2,
      "outputs": [
        {
          "output_type": "stream",
          "text": [
            "Downloading data from https://storage.googleapis.com/tensorflow/tf-keras-datasets/mnist.npz\n",
            "11493376/11490434 [==============================] - 0s 0us/step\n"
          ],
          "name": "stdout"
        }
      ]
    },
    {
      "metadata": {
        "slideshow": {
          "slide_type": "slide"
        },
        "id": "AKyaOB4X7DTK",
        "colab_type": "text"
      },
      "cell_type": "markdown",
      "source": [
        "### Convert Output label to multiple values"
      ]
    },
    {
      "metadata": {
        "id": "crewgfgQ7DTM",
        "colab_type": "code",
        "colab": {}
      },
      "cell_type": "code",
      "source": [
        "trainY = tf.keras.utils.to_categorical(trainY, num_classes=10)\n",
        "testY = tf.keras.utils.to_categorical(testY, num_classes=10)"
      ],
      "execution_count": 0,
      "outputs": []
    },
    {
      "metadata": {
        "slideshow": {
          "slide_type": "slide"
        },
        "id": "x_av6fOx7DTP",
        "colab_type": "text"
      },
      "cell_type": "markdown",
      "source": [
        "## Build the Graph"
      ]
    },
    {
      "metadata": {
        "slideshow": {
          "slide_type": "fragment"
        },
        "id": "PoE2XZ267DTQ",
        "colab_type": "code",
        "colab": {
          "base_uri": "https://localhost:8080/",
          "height": 88
        },
        "outputId": "55097063-586c-47eb-9157-876ccb50d14a"
      },
      "cell_type": "code",
      "source": [
        "#Initialize model, reshape & normalize data\n",
        "model = tf.keras.models.Sequential()\n",
        "model.add(tf.keras.layers.Reshape((784,),input_shape=(28,28,)))\n",
        "model.add(tf.keras.layers.BatchNormalization())"
      ],
      "execution_count": 4,
      "outputs": [
        {
          "output_type": "stream",
          "text": [
            "WARNING:tensorflow:From /usr/local/lib/python3.6/dist-packages/tensorflow/python/ops/resource_variable_ops.py:435: colocate_with (from tensorflow.python.framework.ops) is deprecated and will be removed in a future version.\n",
            "Instructions for updating:\n",
            "Colocations handled automatically by placer.\n"
          ],
          "name": "stdout"
        }
      ]
    },
    {
      "metadata": {
        "slideshow": {
          "slide_type": "slide"
        },
        "id": "hjImBt0e7DTS",
        "colab_type": "text"
      },
      "cell_type": "markdown",
      "source": [
        "### Apply ReLU and Dropout"
      ]
    },
    {
      "metadata": {
        "slideshow": {
          "slide_type": "fragment"
        },
        "id": "TNwbCacQ7DTT",
        "colab_type": "code",
        "colab": {
          "base_uri": "https://localhost:8080/",
          "height": 88
        },
        "outputId": "4ff894b0-4392-484e-f7ca-d0cac6bd83a0"
      },
      "cell_type": "code",
      "source": [
        "#Hidden layers\n",
        "model.add(tf.keras.layers.Dense(200, activation='relu', name='Layer_1'))\n",
        "model.add(tf.keras.layers.Dense(100, activation='relu', name='Layer_2'))\n",
        "\n",
        "#Dropout layer\n",
        "model.add(tf.keras.layers.Dropout(0.5))\n",
        "\n",
        "#Hidden layers\n",
        "model.add(tf.keras.layers.Dense(60, activation='relu', name='Layer_3'))\n",
        "model.add(tf.keras.layers.Dense(30, activation='relu', name='Layer_4'))\n",
        "\n",
        "#Dropout layer\n",
        "model.add(tf.keras.layers.Dropout(0.3))"
      ],
      "execution_count": 5,
      "outputs": [
        {
          "output_type": "stream",
          "text": [
            "WARNING:tensorflow:From /usr/local/lib/python3.6/dist-packages/tensorflow/python/keras/layers/core.py:143: calling dropout (from tensorflow.python.ops.nn_ops) with keep_prob is deprecated and will be removed in a future version.\n",
            "Instructions for updating:\n",
            "Please use `rate` instead of `keep_prob`. Rate should be set to `rate = 1 - keep_prob`.\n"
          ],
          "name": "stdout"
        }
      ]
    },
    {
      "metadata": {
        "slideshow": {
          "slide_type": "fragment"
        },
        "id": "0Fb3Y7u87DTW",
        "colab_type": "code",
        "colab": {}
      },
      "cell_type": "code",
      "source": [
        "#Output layer\n",
        "model.add(tf.keras.layers.Dense(10, activation='softmax', name='Output'))"
      ],
      "execution_count": 0,
      "outputs": []
    },
    {
      "metadata": {
        "id": "CqgrSG-s7DTY",
        "colab_type": "code",
        "colab": {}
      },
      "cell_type": "code",
      "source": [
        "model.compile(optimizer='adam', loss='categorical_crossentropy', metrics=['accuracy'])"
      ],
      "execution_count": 0,
      "outputs": []
    },
    {
      "metadata": {
        "slideshow": {
          "slide_type": "slide"
        },
        "id": "rYtf9d3F7DTe",
        "colab_type": "text"
      },
      "cell_type": "markdown",
      "source": [
        "### Execute Graph"
      ]
    },
    {
      "metadata": {
        "slideshow": {
          "slide_type": "fragment"
        },
        "id": "qmH5bhCq7DTg",
        "colab_type": "code",
        "colab": {
          "base_uri": "https://localhost:8080/",
          "height": 1142
        },
        "outputId": "6f981526-c661-4d8f-b684-13bcd23aa73f"
      },
      "cell_type": "code",
      "source": [
        "#Train the model\n",
        "model.fit(trainX,trainY,          \n",
        "          validation_data=(testX,testY),\n",
        "          epochs=30,\n",
        "          batch_size=32)"
      ],
      "execution_count": 8,
      "outputs": [
        {
          "output_type": "stream",
          "text": [
            "Train on 60000 samples, validate on 10000 samples\n",
            "WARNING:tensorflow:From /usr/local/lib/python3.6/dist-packages/tensorflow/python/ops/math_ops.py:3066: to_int32 (from tensorflow.python.ops.math_ops) is deprecated and will be removed in a future version.\n",
            "Instructions for updating:\n",
            "Use tf.cast instead.\n",
            "Epoch 1/30\n",
            "60000/60000 [==============================] - 13s 223us/sample - loss: 0.5072 - acc: 0.8544 - val_loss: 0.2108 - val_acc: 0.9512\n",
            "Epoch 2/30\n",
            "60000/60000 [==============================] - 13s 213us/sample - loss: 0.2444 - acc: 0.9375 - val_loss: 0.1743 - val_acc: 0.9631\n",
            "Epoch 3/30\n",
            "60000/60000 [==============================] - 12s 208us/sample - loss: 0.1848 - acc: 0.9529 - val_loss: 0.1695 - val_acc: 0.9627\n",
            "Epoch 4/30\n",
            "60000/60000 [==============================] - 13s 210us/sample - loss: 0.1585 - acc: 0.9600 - val_loss: 0.1527 - val_acc: 0.9691\n",
            "Epoch 5/30\n",
            "60000/60000 [==============================] - 13s 211us/sample - loss: 0.1351 - acc: 0.9652 - val_loss: 0.1702 - val_acc: 0.9712\n",
            "Epoch 6/30\n",
            "60000/60000 [==============================] - 13s 211us/sample - loss: 0.1230 - acc: 0.9691 - val_loss: 0.1559 - val_acc: 0.9698\n",
            "Epoch 7/30\n",
            "60000/60000 [==============================] - 12s 208us/sample - loss: 0.1077 - acc: 0.9730 - val_loss: 0.1602 - val_acc: 0.9715\n",
            "Epoch 8/30\n",
            "60000/60000 [==============================] - 13s 210us/sample - loss: 0.0979 - acc: 0.9749 - val_loss: 0.1872 - val_acc: 0.9689\n",
            "Epoch 9/30\n",
            "60000/60000 [==============================] - 13s 219us/sample - loss: 0.0947 - acc: 0.9762 - val_loss: 0.1574 - val_acc: 0.9702\n",
            "Epoch 10/30\n",
            "60000/60000 [==============================] - 13s 214us/sample - loss: 0.0858 - acc: 0.9782 - val_loss: 0.1682 - val_acc: 0.9702\n",
            "Epoch 11/30\n",
            "60000/60000 [==============================] - 13s 209us/sample - loss: 0.0781 - acc: 0.9797 - val_loss: 0.1653 - val_acc: 0.9733\n",
            "Epoch 12/30\n",
            "60000/60000 [==============================] - 12s 208us/sample - loss: 0.0738 - acc: 0.9810 - val_loss: 0.1882 - val_acc: 0.9714\n",
            "Epoch 13/30\n",
            "60000/60000 [==============================] - 12s 206us/sample - loss: 0.0704 - acc: 0.9819 - val_loss: 0.1859 - val_acc: 0.9714\n",
            "Epoch 14/30\n",
            "60000/60000 [==============================] - 12s 203us/sample - loss: 0.0679 - acc: 0.9826 - val_loss: 0.1607 - val_acc: 0.9727\n",
            "Epoch 15/30\n",
            "60000/60000 [==============================] - 12s 207us/sample - loss: 0.0649 - acc: 0.9831 - val_loss: 0.1876 - val_acc: 0.9716\n",
            "Epoch 16/30\n",
            "60000/60000 [==============================] - 13s 210us/sample - loss: 0.0622 - acc: 0.9839 - val_loss: 0.1827 - val_acc: 0.9728\n",
            "Epoch 17/30\n",
            "60000/60000 [==============================] - 13s 209us/sample - loss: 0.0588 - acc: 0.9843 - val_loss: 0.1845 - val_acc: 0.9718\n",
            "Epoch 18/30\n",
            "60000/60000 [==============================] - 13s 211us/sample - loss: 0.0587 - acc: 0.9850 - val_loss: 0.1754 - val_acc: 0.9749\n",
            "Epoch 19/30\n",
            "60000/60000 [==============================] - 12s 204us/sample - loss: 0.0568 - acc: 0.9851 - val_loss: 0.1876 - val_acc: 0.9755\n",
            "Epoch 20/30\n",
            "60000/60000 [==============================] - 13s 208us/sample - loss: 0.0535 - acc: 0.9866 - val_loss: 0.1860 - val_acc: 0.9732\n",
            "Epoch 21/30\n",
            "60000/60000 [==============================] - 13s 219us/sample - loss: 0.0510 - acc: 0.9872 - val_loss: 0.2036 - val_acc: 0.9693\n",
            "Epoch 22/30\n",
            "60000/60000 [==============================] - 13s 208us/sample - loss: 0.0517 - acc: 0.9867 - val_loss: 0.1822 - val_acc: 0.9736\n",
            "Epoch 23/30\n",
            "60000/60000 [==============================] - 12s 206us/sample - loss: 0.0498 - acc: 0.9871 - val_loss: 0.1899 - val_acc: 0.9713\n",
            "Epoch 24/30\n",
            "60000/60000 [==============================] - 12s 206us/sample - loss: 0.0475 - acc: 0.9879 - val_loss: 0.1862 - val_acc: 0.9729\n",
            "Epoch 25/30\n",
            "60000/60000 [==============================] - 13s 212us/sample - loss: 0.0489 - acc: 0.9876 - val_loss: 0.2009 - val_acc: 0.9707\n",
            "Epoch 26/30\n",
            "60000/60000 [==============================] - 13s 213us/sample - loss: 0.0455 - acc: 0.9884 - val_loss: 0.1868 - val_acc: 0.9711\n",
            "Epoch 27/30\n",
            "60000/60000 [==============================] - 13s 210us/sample - loss: 0.0450 - acc: 0.9885 - val_loss: 0.1834 - val_acc: 0.9724\n",
            "Epoch 28/30\n",
            "60000/60000 [==============================] - 13s 210us/sample - loss: 0.0468 - acc: 0.9887 - val_loss: 0.1828 - val_acc: 0.9712\n",
            "Epoch 29/30\n",
            "60000/60000 [==============================] - 13s 210us/sample - loss: 0.0420 - acc: 0.9893 - val_loss: 0.1944 - val_acc: 0.9716\n",
            "Epoch 30/30\n",
            "60000/60000 [==============================] - 13s 211us/sample - loss: 0.0411 - acc: 0.9891 - val_loss: 0.1907 - val_acc: 0.9738\n"
          ],
          "name": "stdout"
        },
        {
          "output_type": "execute_result",
          "data": {
            "text/plain": [
              "<tensorflow.python.keras.callbacks.History at 0x7fc11cef5c18>"
            ]
          },
          "metadata": {
            "tags": []
          },
          "execution_count": 8
        }
      ]
    },
    {
      "metadata": {
        "id": "FfFIP7pG7Jws",
        "colab_type": "code",
        "colab": {}
      },
      "cell_type": "code",
      "source": [
        ""
      ],
      "execution_count": 0,
      "outputs": []
    }
  ]
}