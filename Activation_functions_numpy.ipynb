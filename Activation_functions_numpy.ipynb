{
  "nbformat": 4,
  "nbformat_minor": 0,
  "metadata": {
    "colab": {
      "name": "Activation_functions_numpy.ipynb",
      "version": "0.3.2",
      "provenance": []
    },
    "kernelspec": {
      "name": "python3",
      "display_name": "Python 3"
    }
  },
  "cells": [
    {
      "metadata": {
        "id": "fTUXSXq1rJFj",
        "colab_type": "code",
        "colab": {}
      },
      "cell_type": "code",
      "source": [
        "import numpy as np"
      ],
      "execution_count": 0,
      "outputs": []
    },
    {
      "metadata": {
        "id": "2bg1pGe6rNIZ",
        "colab_type": "code",
        "colab": {}
      },
      "cell_type": "code",
      "source": [
        "X = np.array([1, 1.4, 2.5]) # Input values\n",
        "w = np.array([0.4, 0.3, 0.5]) # Weights that need to be found out"
      ],
      "execution_count": 0,
      "outputs": []
    },
    {
      "metadata": {
        "id": "-RrESN6GraiO",
        "colab_type": "code",
        "colab": {}
      },
      "cell_type": "code",
      "source": [
        "#Simple function that returns the dot product of the X, w\n",
        "def net_input(X,w):\n",
        "  return np.dot(X,w)"
      ],
      "execution_count": 0,
      "outputs": []
    },
    {
      "metadata": {
        "id": "4Z-SaKEPrfOV",
        "colab_type": "code",
        "colab": {}
      },
      "cell_type": "code",
      "source": [
        "# Basic Sigmoid function\n",
        "def logistic(z):\n",
        "  return 1.0/(1.0+np.exp(-z))"
      ],
      "execution_count": 0,
      "outputs": []
    },
    {
      "metadata": {
        "id": "70LTd806rxaT",
        "colab_type": "code",
        "colab": {}
      },
      "cell_type": "code",
      "source": [
        "def logistic_activation(X,w):\n",
        "  z = net_input(X,w)\n",
        "  return logistic(z)"
      ],
      "execution_count": 0,
      "outputs": []
    },
    {
      "metadata": {
        "id": "oe59RV5mr5UZ",
        "colab_type": "code",
        "colab": {
          "base_uri": "https://localhost:8080/",
          "height": 34
        },
        "outputId": "46f1e695-e54e-41be-bd5a-e80e8ad4ea1e"
      },
      "cell_type": "code",
      "source": [
        "print('P(y=1|x) = %0.3f'% logistic_activation(X,w))"
      ],
      "execution_count": 6,
      "outputs": [
        {
          "output_type": "stream",
          "text": [
            "P(y=1|x) = 0.888\n"
          ],
          "name": "stdout"
        }
      ]
    },
    {
      "metadata": {
        "id": "Ohug0v1Xxa1w",
        "colab_type": "code",
        "colab": {
          "base_uri": "https://localhost:8080/",
          "height": 68
        },
        "outputId": "b902096c-0a65-4957-bc82-93227f3ab77c"
      },
      "cell_type": "code",
      "source": [
        "# Define the tanh(z) function here\n",
        "\n",
        "def softmax(x):\n",
        "  return np.exp(x)/np.sum(np.exp(z))\n",
        "\n",
        "y_probas = softmax(z)\n",
        "print(\"Probabilities:\\n\", y_probas)"
      ],
      "execution_count": 11,
      "outputs": [
        {
          "output_type": "stream",
          "text": [
            "Probabilities:\n",
            " [2.27578427e-07 2.28719169e-07 2.29865628e-07 ... 4.93811834e-03\n",
            " 4.96287076e-03 4.98774725e-03]\n"
          ],
          "name": "stdout"
        }
      ]
    },
    {
      "metadata": {
        "id": "yC3j6TAOw40H",
        "colab_type": "code",
        "colab": {}
      },
      "cell_type": "code",
      "source": [
        "# Define the tanh(z) function here\n",
        "def tanh(z):\n",
        "  e_p = np.exp(z)\n",
        "  e_m = np.exp(-z)\n",
        "  return (e_p-e_m)/(e_p+e_m)\n",
        "\n",
        "z = np.arange(-5,5, 0.005)\n",
        "\n",
        "log_act = logistic(z)\n",
        "tanh_act = tanh(z)"
      ],
      "execution_count": 0,
      "outputs": []
    },
    {
      "metadata": {
        "id": "fKvneGjksFUR",
        "colab_type": "code",
        "colab": {
          "base_uri": "https://localhost:8080/",
          "height": 51
        },
        "outputId": "644711d5-ee6f-4e8a-e38a-0298c77bdef1"
      },
      "cell_type": "code",
      "source": [
        "# Write the sinhx activation fucntion in numpy array & calculate \n",
        "# z = np.arange(-5,5, 0.005)\n",
        "\n",
        "##Your code here##\n",
        "##Your code here##\n",
        "##Your code here##\n",
        "\n",
        "def sinh(z):\n",
        "  e_p = np.exp(z) # Write the exponenetial positive\n",
        "  e_m = np.exp(-z) # Write the exponential negative\n",
        "  return 0.5*(e_p-e_m) # Return this particular value (Definition of sinhx)\n",
        "\n",
        "z = np.arange(-5,5, 0.005)\n",
        "print(sinh(z))\n"
      ],
      "execution_count": 13,
      "outputs": [
        {
          "output_type": "stream",
          "text": [
            "[-74.20321058 -73.83308683 -73.46480892 ...  73.09836762  73.46480892\n",
            "  73.83308683]\n"
          ],
          "name": "stdout"
        }
      ]
    },
    {
      "metadata": {
        "id": "FowYFWl2zPop",
        "colab_type": "code",
        "colab": {}
      },
      "cell_type": "code",
      "source": [
        ""
      ],
      "execution_count": 0,
      "outputs": []
    }
  ]
}