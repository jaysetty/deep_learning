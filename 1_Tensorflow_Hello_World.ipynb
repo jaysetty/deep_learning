{
  "nbformat": 4,
  "nbformat_minor": 0,
  "metadata": {
    "colab": {
      "name": "1. Tensorflow_Hello_World.ipynb",
      "version": "0.3.2",
      "provenance": []
    },
    "kernelspec": {
      "display_name": "Python 2",
      "language": "python",
      "name": "python2"
    }
  },
  "cells": [
    {
      "metadata": {
        "id": "CZcfA5z6QhYS",
        "colab_type": "text"
      },
      "cell_type": "markdown",
      "source": [
        "# A basic \"Hello World\" code for running tensorflow"
      ]
    },
    {
      "metadata": {
        "slideshow": {
          "slide_type": "slide"
        },
        "id": "WwIGJ2aXPyoe",
        "colab_type": "text"
      },
      "cell_type": "markdown",
      "source": [
        "### Load tensorflow"
      ]
    },
    {
      "metadata": {
        "slideshow": {
          "slide_type": "fragment"
        },
        "id": "kvH6NcwLPyog",
        "colab_type": "code",
        "colab": {}
      },
      "cell_type": "code",
      "source": [
        "import tensorflow as tf"
      ],
      "execution_count": 0,
      "outputs": []
    },
    {
      "metadata": {
        "slideshow": {
          "slide_type": "slide"
        },
        "id": "RYD4l_-iPyol",
        "colab_type": "text"
      },
      "cell_type": "markdown",
      "source": [
        "### Create a constant tensor"
      ]
    },
    {
      "metadata": {
        "slideshow": {
          "slide_type": "fragment"
        },
        "id": "iRalUhrbPyom",
        "colab_type": "code",
        "colab": {}
      },
      "cell_type": "code",
      "source": [
        "hello = tf.constant('Hello World', name='Hello')"
      ],
      "execution_count": 0,
      "outputs": []
    },
    {
      "metadata": {
        "slideshow": {
          "slide_type": "fragment"
        },
        "id": "LC8gPmJyPyop",
        "colab_type": "code",
        "colab": {},
        "outputId": "d77b0c55-bbac-4a57-dbe7-04cc0f2b6c5d"
      },
      "cell_type": "code",
      "source": [
        "print(hello)"
      ],
      "execution_count": 0,
      "outputs": [
        {
          "output_type": "stream",
          "text": [
            "Tensor(\"Hello:0\", shape=(), dtype=string)\n"
          ],
          "name": "stdout"
        }
      ]
    },
    {
      "metadata": {
        "slideshow": {
          "slide_type": "slide"
        },
        "id": "lB22CXhtPyov",
        "colab_type": "text"
      },
      "cell_type": "markdown",
      "source": [
        "### Defining shape"
      ]
    },
    {
      "metadata": {
        "slideshow": {
          "slide_type": "fragment"
        },
        "id": "ao5eQgYnPyow",
        "colab_type": "code",
        "colab": {},
        "outputId": "1b616ea5-c557-4416-c0ae-cea70ac9cc57"
      },
      "cell_type": "code",
      "source": [
        "hello_2 =  tf.constant('Hello World', shape=[6,2])\n",
        "print(hello_2)"
      ],
      "execution_count": 0,
      "outputs": [
        {
          "output_type": "stream",
          "text": [
            "Tensor(\"Const_1:0\", shape=(6, 2), dtype=string)\n"
          ],
          "name": "stdout"
        }
      ]
    },
    {
      "metadata": {
        "slideshow": {
          "slide_type": "slide"
        },
        "id": "PoKDdWp0Pyo0",
        "colab_type": "text"
      },
      "cell_type": "markdown",
      "source": [
        "<center><h2>How do I print Hello World</h2></center>"
      ]
    },
    {
      "metadata": {
        "slideshow": {
          "slide_type": "slide"
        },
        "id": "u3jIeSycPyo1",
        "colab_type": "text"
      },
      "cell_type": "markdown",
      "source": [
        "Start a session"
      ]
    },
    {
      "metadata": {
        "slideshow": {
          "slide_type": "fragment"
        },
        "id": "uVwIxLA-Pyo2",
        "colab_type": "code",
        "colab": {}
      },
      "cell_type": "code",
      "source": [
        "sess = tf.Session()"
      ],
      "execution_count": 0,
      "outputs": []
    },
    {
      "metadata": {
        "slideshow": {
          "slide_type": "fragment"
        },
        "id": "_3vF7pO0Pyo6",
        "colab_type": "code",
        "colab": {},
        "outputId": "41442cb3-b6bc-45de-e7ff-4d7804c09232"
      },
      "cell_type": "code",
      "source": [
        "print(sess.run(hello))"
      ],
      "execution_count": 0,
      "outputs": [
        {
          "output_type": "stream",
          "text": [
            "b'Hello World'\n"
          ],
          "name": "stdout"
        }
      ]
    },
    {
      "metadata": {
        "slideshow": {
          "slide_type": "fragment"
        },
        "id": "feSWy38-PypA",
        "colab_type": "code",
        "colab": {},
        "outputId": "a203a2aa-7663-48df-f9ed-058fdc11ce1f"
      },
      "cell_type": "code",
      "source": [
        "print(sess.run(hello_2))"
      ],
      "execution_count": 0,
      "outputs": [
        {
          "output_type": "stream",
          "text": [
            "[[b'Hello World' b'Hello World']\n",
            " [b'Hello World' b'Hello World']\n",
            " [b'Hello World' b'Hello World']\n",
            " [b'Hello World' b'Hello World']\n",
            " [b'Hello World' b'Hello World']\n",
            " [b'Hello World' b'Hello World']]\n"
          ],
          "name": "stdout"
        }
      ]
    },
    {
      "metadata": {
        "slideshow": {
          "slide_type": "slide"
        },
        "id": "bgalnYziPypJ",
        "colab_type": "text"
      },
      "cell_type": "markdown",
      "source": [
        "Close the session"
      ]
    },
    {
      "metadata": {
        "slideshow": {
          "slide_type": "fragment"
        },
        "id": "tAPWkZUOPypN",
        "colab_type": "code",
        "colab": {}
      },
      "cell_type": "code",
      "source": [
        "sess.close()"
      ],
      "execution_count": 0,
      "outputs": []
    }
  ]
}