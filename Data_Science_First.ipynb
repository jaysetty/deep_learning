{
  "nbformat": 4,
  "nbformat_minor": 0,
  "metadata": {
    "colab": {
      "name": "Data_Science_First.ipynb",
      "version": "0.3.2",
      "provenance": [],
      "collapsed_sections": []
    },
    "kernelspec": {
      "name": "python3",
      "display_name": "Python 3"
    }
  },
  "cells": [
    {
      "metadata": {
        "id": "DCmGl4hAZcLN",
        "colab_type": "text"
      },
      "cell_type": "markdown",
      "source": [
        "**This is the first notebook with Python basics. All the very best!**\n",
        "\n",
        "1. Here we are goint to be printing \"Hello world\"\n",
        "2. Python basics - Lists, Dictionaries, Operators, etc\n"
      ]
    },
    {
      "metadata": {
        "id": "mgICJQdkYuaw",
        "colab_type": "code",
        "outputId": "e7163316-6192-43ee-bf37-d6544b6130bf",
        "colab": {
          "base_uri": "https://localhost:8080/",
          "height": 34
        }
      },
      "cell_type": "code",
      "source": [
        "print(\"Hello World\")"
      ],
      "execution_count": 0,
      "outputs": [
        {
          "output_type": "stream",
          "text": [
            "Hello World\n"
          ],
          "name": "stdout"
        }
      ]
    },
    {
      "metadata": {
        "id": "cXWQJh1EYzRP",
        "colab_type": "code",
        "outputId": "2393a812-7aa9-4599-ed9a-a3ddc93f20e1",
        "colab": {
          "base_uri": "https://localhost:8080/",
          "height": 51
        }
      },
      "cell_type": "code",
      "source": [
        "# Make sure you have the correct versions running across your entire code\n",
        "import sys\n",
        "print(sys.version)"
      ],
      "execution_count": 0,
      "outputs": [
        {
          "output_type": "stream",
          "text": [
            "3.6.7 (default, Oct 22 2018, 11:32:17) \n",
            "[GCC 8.2.0]\n"
          ],
          "name": "stdout"
        }
      ]
    },
    {
      "metadata": {
        "id": "tEDVDqTjahCE",
        "colab_type": "code",
        "outputId": "cad54ef8-f781-4b7c-a58d-20ef66aa1e1d",
        "colab": {
          "base_uri": "https://localhost:8080/",
          "height": 34
        }
      },
      "cell_type": "code",
      "source": [
        "3+5"
      ],
      "execution_count": 0,
      "outputs": [
        {
          "output_type": "execute_result",
          "data": {
            "text/plain": [
              "8"
            ]
          },
          "metadata": {
            "tags": []
          },
          "execution_count": 8
        }
      ]
    },
    {
      "metadata": {
        "id": "LiNGCI8TbKis",
        "colab_type": "code",
        "outputId": "efa677c7-ca40-4296-b4e1-899c7b8206d4",
        "colab": {
          "base_uri": "https://localhost:8080/",
          "height": 34
        }
      },
      "cell_type": "code",
      "source": [
        "x=3\n",
        "type(x)"
      ],
      "execution_count": 0,
      "outputs": [
        {
          "output_type": "execute_result",
          "data": {
            "text/plain": [
              "int"
            ]
          },
          "metadata": {
            "tags": []
          },
          "execution_count": 9
        }
      ]
    },
    {
      "metadata": {
        "id": "H_PVLIa4bQC6",
        "colab_type": "code",
        "outputId": "ec5747e6-d428-49cd-d876-cc261700cb86",
        "colab": {
          "base_uri": "https://localhost:8080/",
          "height": 34
        }
      },
      "cell_type": "code",
      "source": [
        "y = 3.14\n",
        "type(y)"
      ],
      "execution_count": 0,
      "outputs": [
        {
          "output_type": "execute_result",
          "data": {
            "text/plain": [
              "float"
            ]
          },
          "metadata": {
            "tags": []
          },
          "execution_count": 10
        }
      ]
    },
    {
      "metadata": {
        "id": "gQ7mz6hsbVkz",
        "colab_type": "code",
        "outputId": "e9a12ce8-2f45-466c-aba5-9206851ecd64",
        "colab": {
          "base_uri": "https://localhost:8080/",
          "height": 34
        }
      },
      "cell_type": "code",
      "source": [
        "z = 'data'\n",
        "type(z)"
      ],
      "execution_count": 0,
      "outputs": [
        {
          "output_type": "execute_result",
          "data": {
            "text/plain": [
              "str"
            ]
          },
          "metadata": {
            "tags": []
          },
          "execution_count": 11
        }
      ]
    },
    {
      "metadata": {
        "id": "IRLfA6gYbYfk",
        "colab_type": "code",
        "colab": {}
      },
      "cell_type": "code",
      "source": [
        "jayanth_first_string_variable = 'india will win the game'\n",
        "jayanth_first_int_variable = 123"
      ],
      "execution_count": 0,
      "outputs": []
    },
    {
      "metadata": {
        "id": "zv5j4sP1bn3f",
        "colab_type": "code",
        "outputId": "14eed002-dfbe-422c-efdf-0a9f43ac2f4a",
        "colab": {
          "base_uri": "https://localhost:8080/",
          "height": 51
        }
      },
      "cell_type": "code",
      "source": [
        "print(jayanth_first_string_variable)\n",
        "print(jayanth_first_int_variable)"
      ],
      "execution_count": 0,
      "outputs": [
        {
          "output_type": "stream",
          "text": [
            "india will win the game\n",
            "123\n"
          ],
          "name": "stdout"
        }
      ]
    },
    {
      "metadata": {
        "id": "qmOS5CXXb2V3",
        "colab_type": "code",
        "outputId": "e0abd6f8-0061-4a0b-b714-5c90bf5808a6",
        "colab": {
          "base_uri": "https://localhost:8080/",
          "height": 51
        }
      },
      "cell_type": "code",
      "source": [
        "print(type(jayanth_first_int_variable))\n",
        "print(type(jayanth_first_string_variable))"
      ],
      "execution_count": 0,
      "outputs": [
        {
          "output_type": "stream",
          "text": [
            "<class 'int'>\n",
            "<class 'str'>\n"
          ],
          "name": "stdout"
        }
      ]
    },
    {
      "metadata": {
        "id": "N1slbqsGcM7I",
        "colab_type": "code",
        "outputId": "9b7977f4-d280-4817-d821-5843b73a437e",
        "colab": {
          "base_uri": "https://localhost:8080/",
          "height": 164
        }
      },
      "cell_type": "code",
      "source": [
        "kohli\n",
        "#This must throw an error as I haven't defined Kohli"
      ],
      "execution_count": 0,
      "outputs": [
        {
          "output_type": "error",
          "ename": "NameError",
          "evalue": "ignored",
          "traceback": [
            "\u001b[0;31m---------------------------------------------------------------------------\u001b[0m",
            "\u001b[0;31mNameError\u001b[0m                                 Traceback (most recent call last)",
            "\u001b[0;32m<ipython-input-17-1c8570d2d85b>\u001b[0m in \u001b[0;36m<module>\u001b[0;34m()\u001b[0m\n\u001b[0;32m----> 1\u001b[0;31m \u001b[0mkohli\u001b[0m\u001b[0;34m\u001b[0m\u001b[0;34m\u001b[0m\u001b[0m\n\u001b[0m",
            "\u001b[0;31mNameError\u001b[0m: name 'kohli' is not defined"
          ]
        }
      ]
    },
    {
      "metadata": {
        "id": "T0Ru3TdxcUyN",
        "colab_type": "code",
        "outputId": "acb5963b-672c-4a64-fdfe-51af80b87b8d",
        "colab": {
          "base_uri": "https://localhost:8080/",
          "height": 34
        }
      },
      "cell_type": "code",
      "source": [
        "kohli = 100\n",
        "kohli"
      ],
      "execution_count": 0,
      "outputs": [
        {
          "output_type": "execute_result",
          "data": {
            "text/plain": [
              "100"
            ]
          },
          "metadata": {
            "tags": []
          },
          "execution_count": 19
        }
      ]
    },
    {
      "metadata": {
        "id": "75715YTZcdC2",
        "colab_type": "code",
        "colab": {}
      },
      "cell_type": "code",
      "source": [
        "sharma = 134\n",
        "dhoni = 91"
      ],
      "execution_count": 0,
      "outputs": []
    },
    {
      "metadata": {
        "id": "5ptUd6Quci1T",
        "colab_type": "code",
        "outputId": "32c7a52c-0979-4959-cfd5-24dac490c95d",
        "colab": {
          "base_uri": "https://localhost:8080/",
          "height": 34
        }
      },
      "cell_type": "code",
      "source": [
        "print(sharma, dhoni)"
      ],
      "execution_count": 0,
      "outputs": [
        {
          "output_type": "stream",
          "text": [
            "134 91\n"
          ],
          "name": "stdout"
        }
      ]
    },
    {
      "metadata": {
        "id": "kcg_e8UgcmB8",
        "colab_type": "code",
        "colab": {}
      },
      "cell_type": "code",
      "source": [
        "num_x = None"
      ],
      "execution_count": 0,
      "outputs": []
    },
    {
      "metadata": {
        "id": "D6_63rqbhtl2",
        "colab_type": "code",
        "outputId": "a22dcac8-e641-4024-d16b-e0a1079e354d",
        "colab": {
          "base_uri": "https://localhost:8080/",
          "height": 34
        }
      },
      "cell_type": "code",
      "source": [
        "num_x = 10\n",
        "num_x is None"
      ],
      "execution_count": 0,
      "outputs": [
        {
          "output_type": "execute_result",
          "data": {
            "text/plain": [
              "False"
            ]
          },
          "metadata": {
            "tags": []
          },
          "execution_count": 25
        }
      ]
    },
    {
      "metadata": {
        "id": "QkV7rX2UhwRu",
        "colab_type": "code",
        "outputId": "87963051-03a1-4b68-99f4-0b3960e5d546",
        "colab": {
          "base_uri": "https://localhost:8080/",
          "height": 34
        }
      },
      "cell_type": "code",
      "source": [
        "float_number = 3.6467\n",
        "float_number"
      ],
      "execution_count": 0,
      "outputs": [
        {
          "output_type": "execute_result",
          "data": {
            "text/plain": [
              "3.6467"
            ]
          },
          "metadata": {
            "tags": []
          },
          "execution_count": 26
        }
      ]
    },
    {
      "metadata": {
        "id": "yS_kUZA2h93g",
        "colab_type": "code",
        "outputId": "098abbe1-4f77-42a2-8edb-4ed75d620d3b",
        "colab": {
          "base_uri": "https://localhost:8080/",
          "height": 34
        }
      },
      "cell_type": "code",
      "source": [
        "int(float_number)"
      ],
      "execution_count": 0,
      "outputs": [
        {
          "output_type": "execute_result",
          "data": {
            "text/plain": [
              "3"
            ]
          },
          "metadata": {
            "tags": []
          },
          "execution_count": 27
        }
      ]
    },
    {
      "metadata": {
        "id": "84FFUUMHiAtw",
        "colab_type": "code",
        "outputId": "786b1349-bcc9-4fdb-fdba-bd459b04f2eb",
        "colab": {
          "base_uri": "https://localhost:8080/",
          "height": 34
        }
      },
      "cell_type": "code",
      "source": [
        "str(float_number)"
      ],
      "execution_count": 0,
      "outputs": [
        {
          "output_type": "execute_result",
          "data": {
            "text/plain": [
              "'3.6467'"
            ]
          },
          "metadata": {
            "tags": []
          },
          "execution_count": 28
        }
      ]
    },
    {
      "metadata": {
        "id": "bcmhUzTHiCxR",
        "colab_type": "code",
        "colab": {}
      },
      "cell_type": "code",
      "source": [
        "# This is a tuple\n",
        "first_tuple = (12, 'million', 45.6, (3.4), 'billion')"
      ],
      "execution_count": 0,
      "outputs": []
    },
    {
      "metadata": {
        "id": "Gyz8fVbMiVxY",
        "colab_type": "code",
        "outputId": "ca2586ea-762e-449e-c1da-a43457b5e1b9",
        "colab": {
          "base_uri": "https://localhost:8080/",
          "height": 34
        }
      },
      "cell_type": "code",
      "source": [
        "first_tuple"
      ],
      "execution_count": 0,
      "outputs": [
        {
          "output_type": "execute_result",
          "data": {
            "text/plain": [
              "(12, 'million', 45.6, 3.4, 'billion')"
            ]
          },
          "metadata": {
            "tags": []
          },
          "execution_count": 30
        }
      ]
    },
    {
      "metadata": {
        "id": "oC8nS6wAibhO",
        "colab_type": "code",
        "outputId": "f7809e0e-5773-4823-a2f2-9cdfa011fc82",
        "colab": {
          "base_uri": "https://localhost:8080/",
          "height": 34
        }
      },
      "cell_type": "code",
      "source": [
        "# Access elements from a data is simple. tupele[i], i can be positive index or negative index\n",
        "print(first_tuple[0], first_tuple[2])"
      ],
      "execution_count": 0,
      "outputs": [
        {
          "output_type": "stream",
          "text": [
            "12 45.6\n"
          ],
          "name": "stdout"
        }
      ]
    },
    {
      "metadata": {
        "id": "y5J0lxEmiinB",
        "colab_type": "code",
        "outputId": "2a00dfb6-90db-47f9-cfa1-ab9e6bfc75ad",
        "colab": {
          "base_uri": "https://localhost:8080/",
          "height": 164
        }
      },
      "cell_type": "code",
      "source": [
        "first_tuple[2] = 'zero'\n",
        "# This code is supposed to fail\n",
        "# Tuple is immutable"
      ],
      "execution_count": 0,
      "outputs": [
        {
          "output_type": "error",
          "ename": "TypeError",
          "evalue": "ignored",
          "traceback": [
            "\u001b[0;31m---------------------------------------------------------------------------\u001b[0m",
            "\u001b[0;31mTypeError\u001b[0m                                 Traceback (most recent call last)",
            "\u001b[0;32m<ipython-input-35-145378249025>\u001b[0m in \u001b[0;36m<module>\u001b[0;34m()\u001b[0m\n\u001b[0;32m----> 1\u001b[0;31m \u001b[0mfirst_tuple\u001b[0m\u001b[0;34m[\u001b[0m\u001b[0;36m2\u001b[0m\u001b[0;34m]\u001b[0m \u001b[0;34m=\u001b[0m \u001b[0;34m'zero'\u001b[0m\u001b[0;34m\u001b[0m\u001b[0;34m\u001b[0m\u001b[0m\n\u001b[0m",
            "\u001b[0;31mTypeError\u001b[0m: 'tuple' object does not support item assignment"
          ]
        }
      ]
    },
    {
      "metadata": {
        "id": "XStjxCyvinc_",
        "colab_type": "code",
        "outputId": "398fe576-552b-461e-8cc6-f6fce2af565a",
        "colab": {
          "base_uri": "https://localhost:8080/",
          "height": 34
        }
      },
      "cell_type": "code",
      "source": [
        "print(first_tuple[-1],first_tuple[-3])"
      ],
      "execution_count": 0,
      "outputs": [
        {
          "output_type": "stream",
          "text": [
            "billion 45.6\n"
          ],
          "name": "stdout"
        }
      ]
    },
    {
      "metadata": {
        "id": "TZ-P0pvzi8sX",
        "colab_type": "code",
        "outputId": "0ad58085-9a74-4c8c-e34e-ec4292e8ebf7",
        "colab": {
          "base_uri": "https://localhost:8080/",
          "height": 34
        }
      },
      "cell_type": "code",
      "source": [
        "# Creates a subset slice from the tuple, the first index is inclusive while the second index is exclusive\n",
        "first_tuple[1:3]"
      ],
      "execution_count": 0,
      "outputs": [
        {
          "output_type": "execute_result",
          "data": {
            "text/plain": [
              "('million', 45.6)"
            ]
          },
          "metadata": {
            "tags": []
          },
          "execution_count": 38
        }
      ]
    },
    {
      "metadata": {
        "id": "lRqBqjnBjirE",
        "colab_type": "code",
        "outputId": "870d7608-38e3-4a72-bfab-4119e8f5208d",
        "colab": {
          "base_uri": "https://localhost:8080/",
          "height": 34
        }
      },
      "cell_type": "code",
      "source": [
        "first_tuple[1:]"
      ],
      "execution_count": 0,
      "outputs": [
        {
          "output_type": "execute_result",
          "data": {
            "text/plain": [
              "('million', 45.6, 3.4, 'billion')"
            ]
          },
          "metadata": {
            "tags": []
          },
          "execution_count": 39
        }
      ]
    },
    {
      "metadata": {
        "id": "aWRynzgajxj0",
        "colab_type": "code",
        "outputId": "19645526-4700-4c95-c8df-509b17a78350",
        "colab": {
          "base_uri": "https://localhost:8080/",
          "height": 34
        }
      },
      "cell_type": "code",
      "source": [
        "#Basic slicing tuples\n",
        "first_tuple = (12, 'million', 45.6, (3.4), 'billion')\n",
        "first_tuple[1:-1]"
      ],
      "execution_count": 0,
      "outputs": [
        {
          "output_type": "execute_result",
          "data": {
            "text/plain": [
              "('million', 45.6, 3.4)"
            ]
          },
          "metadata": {
            "tags": []
          },
          "execution_count": 40
        }
      ]
    },
    {
      "metadata": {
        "id": "4KjGYQbbkAY8",
        "colab_type": "code",
        "colab": {}
      },
      "cell_type": "code",
      "source": [
        "# Class work\n",
        "garbled = \"!XeXgXaXsXsXeXmX XtXeXrXcXeXsX XeXhXtX XmXaX XI\"\n",
        "print len(garbled)"
      ],
      "execution_count": 0,
      "outputs": []
    },
    {
      "metadata": {
        "id": "Wepy53u6kyEG",
        "colab_type": "code",
        "colab": {}
      },
      "cell_type": "code",
      "source": [
        "print(garbled[::-2])"
      ],
      "execution_count": 0,
      "outputs": []
    },
    {
      "metadata": {
        "id": "Zw1yScS3k0kZ",
        "colab_type": "code",
        "colab": {}
      },
      "cell_type": "code",
      "source": [
        "print(garbled[-1:-47:-2])"
      ],
      "execution_count": 0,
      "outputs": []
    },
    {
      "metadata": {
        "id": "rDSGOYq6k2ub",
        "colab_type": "code",
        "colab": {}
      },
      "cell_type": "code",
      "source": [
        "print garbled[-1:-48:-2]"
      ],
      "execution_count": 0,
      "outputs": []
    },
    {
      "metadata": {
        "id": "1M-ltJAbm_ET",
        "colab_type": "code",
        "outputId": "b6df715f-0391-4ffd-c847-746600325b3c",
        "colab": {
          "base_uri": "https://localhost:8080/",
          "height": 130
        }
      },
      "cell_type": "code",
      "source": [
        "tup_lst=[101, 'million', 35.6, 78, 11, 'Jack']\n",
        "print(tup_lst[1]"
      ],
      "execution_count": 0,
      "outputs": [
        {
          "output_type": "error",
          "ename": "SyntaxError",
          "evalue": "ignored",
          "traceback": [
            "\u001b[0;36m  File \u001b[0;32m\"<ipython-input-45-681641d45b15>\"\u001b[0;36m, line \u001b[0;32m2\u001b[0m\n\u001b[0;31m    print(tup_lst[1]\u001b[0m\n\u001b[0m                    ^\u001b[0m\n\u001b[0;31mSyntaxError\u001b[0m\u001b[0;31m:\u001b[0m unexpected EOF while parsing\n"
          ]
        }
      ]
    },
    {
      "metadata": {
        "id": "MaWGkDU3m_cY",
        "colab_type": "code",
        "outputId": "c3b3848c-e293-48e9-9e25-03d3fa60ccf8",
        "colab": {
          "base_uri": "https://localhost:8080/",
          "height": 34
        }
      },
      "cell_type": "code",
      "source": [
        "#We are doing lists here\n",
        "# List is similar to a tuple, one dimensional, mutable ordered sequence of items\n",
        "\n",
        "first_list = ['Mark', 101, 23.6, 'test', None, 11]\n",
        "first_list"
      ],
      "execution_count": 0,
      "outputs": [
        {
          "output_type": "execute_result",
          "data": {
            "text/plain": [
              "['Mark', 101, 23.6, 'test', None, 11]"
            ]
          },
          "metadata": {
            "tags": []
          },
          "execution_count": 1
        }
      ]
    },
    {
      "metadata": {
        "id": "iLRAGGt5c4iM",
        "colab_type": "code",
        "outputId": "2c53c9fe-a7d6-4624-e022-1c99d42c39cd",
        "colab": {
          "base_uri": "https://localhost:8080/",
          "height": 34
        }
      },
      "cell_type": "code",
      "source": [
        "first_list.append('James')\n",
        "first_list"
      ],
      "execution_count": 0,
      "outputs": [
        {
          "output_type": "execute_result",
          "data": {
            "text/plain": [
              "['Mark', 101, 23.6, 'test', None, 11, 'James', 'James']"
            ]
          },
          "metadata": {
            "tags": []
          },
          "execution_count": 4
        }
      ]
    },
    {
      "metadata": {
        "id": "x1nZZ4sgdFf1",
        "colab_type": "code",
        "outputId": "2fa62b18-16b5-463f-d8fa-86c21854a8b9",
        "colab": {
          "base_uri": "https://localhost:8080/",
          "height": 34
        }
      },
      "cell_type": "code",
      "source": [
        "first_list.remove('Mark')\n",
        "first_list"
      ],
      "execution_count": 0,
      "outputs": [
        {
          "output_type": "execute_result",
          "data": {
            "text/plain": [
              "[101, 23.6, 'test', None, 11, 'James', 'James']"
            ]
          },
          "metadata": {
            "tags": []
          },
          "execution_count": 5
        }
      ]
    },
    {
      "metadata": {
        "id": "-JlLTlTjdG8L",
        "colab_type": "code",
        "colab": {}
      },
      "cell_type": "code",
      "source": [
        "first_list.insert(1, 'James')"
      ],
      "execution_count": 0,
      "outputs": []
    },
    {
      "metadata": {
        "id": "JSOMQuoLdXaE",
        "colab_type": "code",
        "outputId": "0eb9b403-dff6-453a-d7f7-380a62525418",
        "colab": {
          "base_uri": "https://localhost:8080/",
          "height": 34
        }
      },
      "cell_type": "code",
      "source": [
        "first_list"
      ],
      "execution_count": 0,
      "outputs": [
        {
          "output_type": "execute_result",
          "data": {
            "text/plain": [
              "[101, 'James', 23.6, 'test', None, 11, 'James', 'James']"
            ]
          },
          "metadata": {
            "tags": []
          },
          "execution_count": 7
        }
      ]
    },
    {
      "metadata": {
        "id": "_xYyrUvsdYyc",
        "colab_type": "code",
        "outputId": "870928b7-bc3d-471a-c0ed-4417cea1f56f",
        "colab": {
          "base_uri": "https://localhost:8080/",
          "height": 34
        }
      },
      "cell_type": "code",
      "source": [
        "# Access elements in a list through  / index\n",
        "first_list[5]"
      ],
      "execution_count": 0,
      "outputs": [
        {
          "output_type": "execute_result",
          "data": {
            "text/plain": [
              "11"
            ]
          },
          "metadata": {
            "tags": []
          },
          "execution_count": 9
        }
      ]
    },
    {
      "metadata": {
        "id": "_dGDHuogdmXq",
        "colab_type": "code",
        "outputId": "426eea13-5132-49b3-87aa-0be347f893f9",
        "colab": {
          "base_uri": "https://localhost:8080/",
          "height": 34
        }
      },
      "cell_type": "code",
      "source": [
        "first_list[-2]"
      ],
      "execution_count": 0,
      "outputs": [
        {
          "output_type": "execute_result",
          "data": {
            "text/plain": [
              "'James'"
            ]
          },
          "metadata": {
            "tags": []
          },
          "execution_count": 10
        }
      ]
    },
    {
      "metadata": {
        "id": "IZ87t6NrfM5f",
        "colab_type": "code",
        "outputId": "6458bc59-1b44-4c0f-b2e9-176c115a3939",
        "colab": {
          "base_uri": "https://localhost:8080/",
          "height": 34
        }
      },
      "cell_type": "code",
      "source": [
        "# Slicing lists\n",
        "first_list[1:5]"
      ],
      "execution_count": 0,
      "outputs": [
        {
          "output_type": "execute_result",
          "data": {
            "text/plain": [
              "['James', 23.6, 'test', None]"
            ]
          },
          "metadata": {
            "tags": []
          },
          "execution_count": 11
        }
      ]
    },
    {
      "metadata": {
        "id": "laf8W17RfUCu",
        "colab_type": "code",
        "outputId": "67e8a2ec-2aa1-40cc-c1b7-580733094be1",
        "colab": {
          "base_uri": "https://localhost:8080/",
          "height": 34
        }
      },
      "cell_type": "code",
      "source": [
        "first_list[1:-1]"
      ],
      "execution_count": 0,
      "outputs": [
        {
          "output_type": "execute_result",
          "data": {
            "text/plain": [
              "['James', 23.6, 'test', None, 11, 'James']"
            ]
          },
          "metadata": {
            "tags": []
          },
          "execution_count": 12
        }
      ]
    },
    {
      "metadata": {
        "id": "lWVtyDlJfZHM",
        "colab_type": "code",
        "outputId": "8f85b4e4-a585-40e6-ca01-c13dd8a7d344",
        "colab": {
          "base_uri": "https://localhost:8080/",
          "height": 34
        }
      },
      "cell_type": "code",
      "source": [
        "first_list[1:]"
      ],
      "execution_count": 0,
      "outputs": [
        {
          "output_type": "execute_result",
          "data": {
            "text/plain": [
              "['James', 23.6, 'test', None, 11, 'James', 'James']"
            ]
          },
          "metadata": {
            "tags": []
          },
          "execution_count": 13
        }
      ]
    },
    {
      "metadata": {
        "id": "BpgblA7GfcP2",
        "colab_type": "code",
        "outputId": "78e80723-7cfc-4dd7-e350-acedf31f50cf",
        "colab": {
          "base_uri": "https://localhost:8080/",
          "height": 34
        }
      },
      "cell_type": "code",
      "source": [
        "# Understanding dictionaries\n",
        "\n",
        "first_dict = {'John': 'john@abc.com', 'Kelly': 'kelly@xyz.org', 'id': [23,81]}\n",
        "first_dict"
      ],
      "execution_count": 0,
      "outputs": [
        {
          "output_type": "execute_result",
          "data": {
            "text/plain": [
              "{'John': 'john@abc.com', 'Kelly': 'kelly@xyz.org', 'id': [23, 81]}"
            ]
          },
          "metadata": {
            "tags": []
          },
          "execution_count": 23
        }
      ]
    },
    {
      "metadata": {
        "id": "LD9Qpo1-gM_n",
        "colab_type": "code",
        "outputId": "9e72f3d6-5040-4c2c-a299-40adef137ee3",
        "colab": {
          "base_uri": "https://localhost:8080/",
          "height": 34
        }
      },
      "cell_type": "code",
      "source": [
        "# Get keys\n",
        "first_dict.keys()"
      ],
      "execution_count": 0,
      "outputs": [
        {
          "output_type": "execute_result",
          "data": {
            "text/plain": [
              "dict_keys(['John', 'Kelly', 'id'])"
            ]
          },
          "metadata": {
            "tags": []
          },
          "execution_count": 15
        }
      ]
    },
    {
      "metadata": {
        "id": "6gQ2HnJ7gUnR",
        "colab_type": "code",
        "outputId": "762fdf5d-18fd-4c1e-e5af-6eafffcfaad6",
        "colab": {
          "base_uri": "https://localhost:8080/",
          "height": 34
        }
      },
      "cell_type": "code",
      "source": [
        "# Get values\n",
        "first_dict.values()"
      ],
      "execution_count": 0,
      "outputs": [
        {
          "output_type": "execute_result",
          "data": {
            "text/plain": [
              "dict_values(['john@abc.com', 'kelly@xyz.org', [23, 81]])"
            ]
          },
          "metadata": {
            "tags": []
          },
          "execution_count": 16
        }
      ]
    },
    {
      "metadata": {
        "id": "AsibgGN1gYgi",
        "colab_type": "code",
        "outputId": "075eebc3-3077-4f58-f36b-60b014ce59e5",
        "colab": {
          "base_uri": "https://localhost:8080/",
          "height": 34
        }
      },
      "cell_type": "code",
      "source": [
        "first_dict[\"Kelly\"]"
      ],
      "execution_count": 0,
      "outputs": [
        {
          "output_type": "execute_result",
          "data": {
            "text/plain": [
              "'kelly@xyz.org'"
            ]
          },
          "metadata": {
            "tags": []
          },
          "execution_count": 17
        }
      ]
    },
    {
      "metadata": {
        "id": "jT6DGn7hgfH4",
        "colab_type": "code",
        "outputId": "8f7953aa-1bda-4b3e-b6ad-2e2b5d249d40",
        "colab": {
          "base_uri": "https://localhost:8080/",
          "height": 34
        }
      },
      "cell_type": "code",
      "source": [
        "first_dict['id']"
      ],
      "execution_count": 0,
      "outputs": [
        {
          "output_type": "execute_result",
          "data": {
            "text/plain": [
              "[23, 81]"
            ]
          },
          "metadata": {
            "tags": []
          },
          "execution_count": 18
        }
      ]
    },
    {
      "metadata": {
        "id": "ZYpulc96ghhY",
        "colab_type": "code",
        "colab": {}
      },
      "cell_type": "code",
      "source": [
        "#Modify dictionaries\n",
        "first_dict.update({'id':[32,55]})"
      ],
      "execution_count": 0,
      "outputs": []
    },
    {
      "metadata": {
        "id": "JQ2UeuhRgo5f",
        "colab_type": "code",
        "outputId": "89109e1c-3e39-4a18-ac9d-ec4cd2d1ebc1",
        "colab": {
          "base_uri": "https://localhost:8080/",
          "height": 34
        }
      },
      "cell_type": "code",
      "source": [
        "first_dict"
      ],
      "execution_count": 0,
      "outputs": [
        {
          "output_type": "execute_result",
          "data": {
            "text/plain": [
              "{'John': 'john@abc.com', 'Kelly': 'kelly@xyz.org', 'id': [32, 55]}"
            ]
          },
          "metadata": {
            "tags": []
          },
          "execution_count": 20
        }
      ]
    },
    {
      "metadata": {
        "id": "7S2A-DUtgrGv",
        "colab_type": "code",
        "colab": {}
      },
      "cell_type": "code",
      "source": [
        "# Delete key/value pairs\n",
        "del first_dict['id']"
      ],
      "execution_count": 0,
      "outputs": []
    },
    {
      "metadata": {
        "id": "S9f2DRDugtSQ",
        "colab_type": "code",
        "outputId": "a532af65-411e-4a1c-aa56-ef48293d81e8",
        "colab": {
          "base_uri": "https://localhost:8080/",
          "height": 34
        }
      },
      "cell_type": "code",
      "source": [
        "first_dict"
      ],
      "execution_count": 0,
      "outputs": [
        {
          "output_type": "execute_result",
          "data": {
            "text/plain": [
              "{'John': 'john@abc.com', 'Kelly': 'kelly@xyz.org'}"
            ]
          },
          "metadata": {
            "tags": []
          },
          "execution_count": 25
        }
      ]
    },
    {
      "metadata": {
        "id": "yb8bhYEOgvnY",
        "colab_type": "code",
        "colab": {}
      },
      "cell_type": "code",
      "source": [
        "# Sets\n",
        "auto_survey = set([\"Audi\", \"BMW\", \"Mercedes\", \"GM\", \"Ferrari\", 'GM', 'BMW', \"Tata\"])\n"
      ],
      "execution_count": 0,
      "outputs": []
    },
    {
      "metadata": {
        "id": "fdh7tIgliMIh",
        "colab_type": "code",
        "outputId": "3e163d6f-94ef-4cb8-abf8-0a00e5273cec",
        "colab": {
          "base_uri": "https://localhost:8080/",
          "height": 34
        }
      },
      "cell_type": "code",
      "source": [
        "auto_survey"
      ],
      "execution_count": 0,
      "outputs": [
        {
          "output_type": "execute_result",
          "data": {
            "text/plain": [
              "{'Audi', 'BMW', 'Ferrari', 'GM', 'Mercedes', 'Tata'}"
            ]
          },
          "metadata": {
            "tags": []
          },
          "execution_count": 27
        }
      ]
    },
    {
      "metadata": {
        "id": "YdH_w4XtiOte",
        "colab_type": "code",
        "colab": {}
      },
      "cell_type": "code",
      "source": [
        "auto_survey_set = {\"Audi\", \"BMW\", \"Mercedes\", \"GM\", \"Ferrari\", 'GM', 'BMW', \"Tata\"}"
      ],
      "execution_count": 0,
      "outputs": []
    },
    {
      "metadata": {
        "id": "WFcfpW__igmw",
        "colab_type": "code",
        "outputId": "0d9099a0-08c3-4e72-afaf-93f29a83f4cd",
        "colab": {
          "base_uri": "https://localhost:8080/",
          "height": 34
        }
      },
      "cell_type": "code",
      "source": [
        "type(auto_survey_set)"
      ],
      "execution_count": 0,
      "outputs": [
        {
          "output_type": "execute_result",
          "data": {
            "text/plain": [
              "set"
            ]
          },
          "metadata": {
            "tags": []
          },
          "execution_count": 29
        }
      ]
    },
    {
      "metadata": {
        "id": "dYtPFPh5iicv",
        "colab_type": "code",
        "colab": {}
      },
      "cell_type": "code",
      "source": [
        "# Basic Set operations\n",
        "\n",
        "auto_survey_set1 = {\"Audi\", \"BMW\", \"Mercedes\", \"GM\", \"Ferrari\", 'GM', 'BMW', \"Tata\"}\n",
        "auto_survey_set2 = { \"BMW\", \"Honda\", \"Hyundai\", \"Tesla\", 'GM', 'BMW', \"Tata\"}"
      ],
      "execution_count": 0,
      "outputs": []
    },
    {
      "metadata": {
        "id": "LA9VoK8hiqMx",
        "colab_type": "code",
        "outputId": "b5aea07a-b9ed-49e8-d127-840d2a5b0bb8",
        "colab": {
          "base_uri": "https://localhost:8080/",
          "height": 170
        }
      },
      "cell_type": "code",
      "source": [
        "# OR operation in sets (Union)\n",
        "combined_auto_survey_report = auto_survey_set1 | auto_survey_set2\n",
        "combined_auto_survey_report"
      ],
      "execution_count": 0,
      "outputs": [
        {
          "output_type": "execute_result",
          "data": {
            "text/plain": [
              "{'Audi',\n",
              " 'BMW',\n",
              " 'Ferrari',\n",
              " 'GM',\n",
              " 'Honda',\n",
              " 'Hyundai',\n",
              " 'Mercedes',\n",
              " 'Tata',\n",
              " 'Tesla'}"
            ]
          },
          "metadata": {
            "tags": []
          },
          "execution_count": 32
        }
      ]
    },
    {
      "metadata": {
        "id": "qvd-U2tHi8yV",
        "colab_type": "code",
        "colab": {}
      },
      "cell_type": "code",
      "source": [
        "# AND operation in sets (Intersection)\n",
        "common_auto_survey_report = auto_survey_set1 & auto_survey_set2"
      ],
      "execution_count": 0,
      "outputs": []
    },
    {
      "metadata": {
        "id": "xI601Wcajt5-",
        "colab_type": "code",
        "outputId": "87e15518-fd21-4398-cb56-641dd1b5cb7a",
        "colab": {
          "base_uri": "https://localhost:8080/",
          "height": 34
        }
      },
      "cell_type": "code",
      "source": [
        "common_auto_survey_report"
      ],
      "execution_count": 0,
      "outputs": [
        {
          "output_type": "execute_result",
          "data": {
            "text/plain": [
              "{'BMW', 'GM', 'Tata'}"
            ]
          },
          "metadata": {
            "tags": []
          },
          "execution_count": 34
        }
      ]
    },
    {
      "metadata": {
        "id": "NVXKTrsEju_G",
        "colab_type": "code",
        "colab": {}
      },
      "cell_type": "code",
      "source": [
        "# Basic In operator\n",
        "\n",
        "student_list = ['Tom', 'Jack', 'Nick', 'Sarah', 'Nicole']\n"
      ],
      "execution_count": 0,
      "outputs": []
    },
    {
      "metadata": {
        "id": "KhusX6scj9Yb",
        "colab_type": "code",
        "outputId": "a651d304-4ba5-4d42-8e81-08750f9b4fc4",
        "colab": {
          "base_uri": "https://localhost:8080/",
          "height": 34
        }
      },
      "cell_type": "code",
      "source": [
        "'Nick' in student_list"
      ],
      "execution_count": 0,
      "outputs": [
        {
          "output_type": "execute_result",
          "data": {
            "text/plain": [
              "True"
            ]
          },
          "metadata": {
            "tags": []
          },
          "execution_count": 36
        }
      ]
    },
    {
      "metadata": {
        "id": "iEIbmuz-j_n9",
        "colab_type": "code",
        "outputId": "f16116b7-2ed5-45db-969a-011363f3205f",
        "colab": {
          "base_uri": "https://localhost:8080/",
          "height": 34
        }
      },
      "cell_type": "code",
      "source": [
        "'Mark' in student_list"
      ],
      "execution_count": 0,
      "outputs": [
        {
          "output_type": "execute_result",
          "data": {
            "text/plain": [
              "False"
            ]
          },
          "metadata": {
            "tags": []
          },
          "execution_count": 37
        }
      ]
    },
    {
      "metadata": {
        "id": "hTpPNdUQkEMk",
        "colab_type": "code",
        "colab": {}
      },
      "cell_type": "code",
      "source": [
        "# Test the prescence of substring in the operator\n",
        "word = 'encyclopedia'"
      ],
      "execution_count": 0,
      "outputs": []
    },
    {
      "metadata": {
        "id": "DJTAs3tGkNdU",
        "colab_type": "code",
        "outputId": "3d1dd52a-856a-435f-e2a5-4302b4083a77",
        "colab": {
          "base_uri": "https://localhost:8080/",
          "height": 34
        }
      },
      "cell_type": "code",
      "source": [
        "'t' in word"
      ],
      "execution_count": 0,
      "outputs": [
        {
          "output_type": "execute_result",
          "data": {
            "text/plain": [
              "False"
            ]
          },
          "metadata": {
            "tags": []
          },
          "execution_count": 39
        }
      ]
    },
    {
      "metadata": {
        "id": "H6dFpQFDkPy3",
        "colab_type": "code",
        "outputId": "76046d4d-e44a-4e1b-b953-eebf9ad66ed7",
        "colab": {
          "base_uri": "https://localhost:8080/",
          "height": 34
        }
      },
      "cell_type": "code",
      "source": [
        "'i' in word"
      ],
      "execution_count": 0,
      "outputs": [
        {
          "output_type": "execute_result",
          "data": {
            "text/plain": [
              "True"
            ]
          },
          "metadata": {
            "tags": []
          },
          "execution_count": 40
        }
      ]
    },
    {
      "metadata": {
        "id": "wasWFA4QkR43",
        "colab_type": "code",
        "colab": {}
      },
      "cell_type": "code",
      "source": [
        "# Basic operator '+'\n",
        "test_score_1 = (68, 96, 71)\n",
        "test_score_2 = (92, 87, 83)\n"
      ],
      "execution_count": 0,
      "outputs": []
    },
    {
      "metadata": {
        "id": "9qN4mT0lkqx6",
        "colab_type": "code",
        "colab": {}
      },
      "cell_type": "code",
      "source": [
        "test_score = test_score_1+test_score_2"
      ],
      "execution_count": 0,
      "outputs": []
    },
    {
      "metadata": {
        "id": "FWYK3ps9ks8T",
        "colab_type": "code",
        "outputId": "11167a39-9fe5-4b6e-8203-7de4f4d4d083",
        "colab": {
          "base_uri": "https://localhost:8080/",
          "height": 34
        }
      },
      "cell_type": "code",
      "source": [
        "# Basic operator '*'\n",
        "age = (12, 17, 9)*3\n",
        "age"
      ],
      "execution_count": 0,
      "outputs": [
        {
          "output_type": "execute_result",
          "data": {
            "text/plain": [
              "(12, 17, 9, 12, 17, 9, 12, 17, 9)"
            ]
          },
          "metadata": {
            "tags": []
          },
          "execution_count": 44
        }
      ]
    },
    {
      "metadata": {
        "id": "QaUbbqVsk24d",
        "colab_type": "code",
        "outputId": "00722c13-7d96-4d52-df92-852a7a173a5e",
        "colab": {
          "base_uri": "https://localhost:8080/",
          "height": 34
        }
      },
      "cell_type": "code",
      "source": [
        "ID = [101, 23, 77, 45]*2\n",
        "ID\n"
      ],
      "execution_count": 0,
      "outputs": [
        {
          "output_type": "execute_result",
          "data": {
            "text/plain": [
              "[101, 23, 77, 45, 101, 23, 77, 45]"
            ]
          },
          "metadata": {
            "tags": []
          },
          "execution_count": 46
        }
      ]
    },
    {
      "metadata": {
        "id": "Iz7VwWEqlC_b",
        "colab_type": "code",
        "outputId": "e629f5e0-08f9-446f-efbd-e56270bb6454",
        "colab": {
          "base_uri": "https://localhost:8080/",
          "height": 34
        }
      },
      "cell_type": "code",
      "source": [
        "name = 'friend'*3\n",
        "name"
      ],
      "execution_count": 0,
      "outputs": [
        {
          "output_type": "execute_result",
          "data": {
            "text/plain": [
              "'friendfriendfriend'"
            ]
          },
          "metadata": {
            "tags": []
          },
          "execution_count": 47
        }
      ]
    },
    {
      "metadata": {
        "id": "605ZfMdslHmq",
        "colab_type": "code",
        "colab": {}
      },
      "cell_type": "code",
      "source": [
        "# Functions\n",
        "def my_first_function(name):\n",
        "  return name"
      ],
      "execution_count": 0,
      "outputs": []
    },
    {
      "metadata": {
        "id": "uMnmKg2flenZ",
        "colab_type": "code",
        "outputId": "93090b2b-ee0d-489e-94bd-f5348af97db0",
        "colab": {
          "base_uri": "https://localhost:8080/",
          "height": 34
        }
      },
      "cell_type": "code",
      "source": [
        "print(my_first_function(\"Jayanth Rasamsetti\"))"
      ],
      "execution_count": 0,
      "outputs": [
        {
          "output_type": "stream",
          "text": [
            "Jayanth Rasamsetti\n"
          ],
          "name": "stdout"
        }
      ]
    },
    {
      "metadata": {
        "id": "PC4XFWR2lh74",
        "colab_type": "code",
        "colab": {}
      },
      "cell_type": "code",
      "source": [
        "# Write a function to print the sum of all odd numbers less than equal to 'n'\n",
        "# e.g. \n",
        "# OddSum(2) = 1 = 1\n",
        "# OddSum(3) = 1+3 = 4\n",
        "# OddSum(5) = 1+3+5 = 9\n",
        "# .\n",
        "# .\n",
        "# OddSum(n) = ?"
      ],
      "execution_count": 0,
      "outputs": []
    },
    {
      "metadata": {
        "id": "ytJySnfsn-OG",
        "colab_type": "code",
        "colab": {}
      },
      "cell_type": "code",
      "source": [
        "def sum_odd(n):\n",
        "  sum=0 #Initiate the sum to 0\n",
        "  i=0 # Keep the counter at 0\n",
        "  while(i<=n): \n",
        "    if (i%2!=0): # Basic check of divisiblity with 2\n",
        "      sum=sum+i # Increment sum with i\n",
        "    i=i+1 # Increment i with 1\n",
        "  print (sum)  "
      ],
      "execution_count": 0,
      "outputs": []
    },
    {
      "metadata": {
        "id": "_LTyHH85oBbm",
        "colab_type": "code",
        "outputId": "9b53991a-108b-4f0e-89ad-1bd599aa574e",
        "colab": {
          "base_uri": "https://localhost:8080/",
          "height": 34
        }
      },
      "cell_type": "code",
      "source": [
        "sum_odd(5)"
      ],
      "execution_count": 0,
      "outputs": [
        {
          "output_type": "stream",
          "text": [
            "9\n"
          ],
          "name": "stdout"
        }
      ]
    },
    {
      "metadata": {
        "id": "0QqWDQ2BoTkG",
        "colab_type": "code",
        "colab": {}
      },
      "cell_type": "code",
      "source": [
        "# Built in sequence function in python\n",
        "# Enumerate\n",
        "store_list = ['McDonald', 'Taco Bell', 'Dunkin', 'Wendys', 'Chipotle']\n"
      ],
      "execution_count": 0,
      "outputs": []
    },
    {
      "metadata": {
        "id": "Li3_-AeqrMwy",
        "colab_type": "code",
        "outputId": "151c2e49-27f8-4606-da5f-b7b8446dfb4c",
        "colab": {
          "base_uri": "https://localhost:8080/",
          "height": 102
        }
      },
      "cell_type": "code",
      "source": [
        "for position, name in enumerate(store_list):\n",
        "  print(position, name)"
      ],
      "execution_count": 0,
      "outputs": [
        {
          "output_type": "stream",
          "text": [
            "0 McDonald\n",
            "1 Taco Bell\n",
            "2 Dunkin\n",
            "3 Wendys\n",
            "4 Chipotle\n"
          ],
          "name": "stdout"
        }
      ]
    },
    {
      "metadata": {
        "id": "k6P36a-WrUGj",
        "colab_type": "code",
        "colab": {}
      },
      "cell_type": "code",
      "source": [
        "# Create a data element and index map using dict\n",
        "store_map = dict((name, position) for position, name in enumerate(store_list))"
      ],
      "execution_count": 0,
      "outputs": []
    },
    {
      "metadata": {
        "id": "UAbSAEkArjFx",
        "colab_type": "code",
        "outputId": "1a44240a-20cc-4128-b0ef-2a80b70f07e7",
        "colab": {
          "base_uri": "https://localhost:8080/",
          "height": 34
        }
      },
      "cell_type": "code",
      "source": [
        "store_map"
      ],
      "execution_count": 0,
      "outputs": [
        {
          "output_type": "execute_result",
          "data": {
            "text/plain": [
              "{'Chipotle': 4, 'Dunkin': 2, 'McDonald': 0, 'Taco Bell': 1, 'Wendys': 3}"
            ]
          },
          "metadata": {
            "tags": []
          },
          "execution_count": 94
        }
      ]
    },
    {
      "metadata": {
        "id": "Fpc-C2M5rrM-",
        "colab_type": "code",
        "outputId": "8fb56572-e01b-4095-c57e-e95589783429",
        "colab": {
          "base_uri": "https://localhost:8080/",
          "height": 34
        }
      },
      "cell_type": "code",
      "source": [
        "# Sorted\n",
        "\n",
        "sorted([91, 93, 87,94, 3, 34])\n",
        "\n"
      ],
      "execution_count": 0,
      "outputs": [
        {
          "output_type": "execute_result",
          "data": {
            "text/plain": [
              "[3, 34, 87, 91, 93, 94]"
            ]
          },
          "metadata": {
            "tags": []
          },
          "execution_count": 96
        }
      ]
    },
    {
      "metadata": {
        "id": "D0tNTvQ3rwPc",
        "colab_type": "code",
        "outputId": "3b5b4df8-e6b5-44f6-df85-7a89b4e6df9b",
        "colab": {
          "base_uri": "https://localhost:8080/",
          "height": 306
        }
      },
      "cell_type": "code",
      "source": [
        "sorted('jayanthrasamsetti')"
      ],
      "execution_count": 0,
      "outputs": [
        {
          "output_type": "execute_result",
          "data": {
            "text/plain": [
              "['a',\n",
              " 'a',\n",
              " 'a',\n",
              " 'a',\n",
              " 'e',\n",
              " 'h',\n",
              " 'i',\n",
              " 'j',\n",
              " 'm',\n",
              " 'n',\n",
              " 'r',\n",
              " 's',\n",
              " 's',\n",
              " 't',\n",
              " 't',\n",
              " 't',\n",
              " 'y']"
            ]
          },
          "metadata": {
            "tags": []
          },
          "execution_count": 98
        }
      ]
    },
    {
      "metadata": {
        "id": "kA14pmPIr4wU",
        "colab_type": "code",
        "colab": {}
      },
      "cell_type": "code",
      "source": [
        "#Reversed\n",
        "\n",
        "num_list = range(9)"
      ],
      "execution_count": 0,
      "outputs": []
    },
    {
      "metadata": {
        "id": "_X-4zdUXsN2V",
        "colab_type": "code",
        "outputId": "4296950b-f743-46c3-ed08-fc06747b1126",
        "colab": {
          "base_uri": "https://localhost:8080/",
          "height": 34
        }
      },
      "cell_type": "code",
      "source": [
        "num_list\n"
      ],
      "execution_count": 0,
      "outputs": [
        {
          "output_type": "execute_result",
          "data": {
            "text/plain": [
              "range(0, 9)"
            ]
          },
          "metadata": {
            "tags": []
          },
          "execution_count": 100
        }
      ]
    },
    {
      "metadata": {
        "id": "9IvG4vLKsPXF",
        "colab_type": "code",
        "outputId": "5a16cc7c-5d37-4cbf-9781-21493a74ba5c",
        "colab": {
          "base_uri": "https://localhost:8080/",
          "height": 34
        }
      },
      "cell_type": "code",
      "source": [
        "list(reversed(num_list))"
      ],
      "execution_count": 0,
      "outputs": [
        {
          "output_type": "execute_result",
          "data": {
            "text/plain": [
              "[8, 7, 6, 5, 4, 3, 2, 1, 0]"
            ]
          },
          "metadata": {
            "tags": []
          },
          "execution_count": 102
        }
      ]
    },
    {
      "metadata": {
        "id": "-YTq7GcxsT7A",
        "colab_type": "code",
        "outputId": "0c5a3537-2603-4ed2-bf70-567839d803f1",
        "colab": {
          "base_uri": "https://localhost:8080/",
          "height": 34
        }
      },
      "cell_type": "code",
      "source": [
        "# Zip\n",
        "subjects = ['math', 'science', 'algebra']\n",
        "subject_count = ['one', 'two','three']\n",
        "# len(subject_count)\n",
        "len(subjects)"
      ],
      "execution_count": 0,
      "outputs": [
        {
          "output_type": "execute_result",
          "data": {
            "text/plain": [
              "3"
            ]
          },
          "metadata": {
            "tags": []
          },
          "execution_count": 113
        }
      ]
    },
    {
      "metadata": {
        "id": "YdDUQExJsjhY",
        "colab_type": "code",
        "outputId": "57a357f7-fcbd-4445-be89-1a9be51b1548",
        "colab": {
          "base_uri": "https://localhost:8080/",
          "height": 34
        }
      },
      "cell_type": "code",
      "source": [
        "total_subject = zip(subjects, subject_count)\n",
        "total_subject"
      ],
      "execution_count": 0,
      "outputs": [
        {
          "output_type": "execute_result",
          "data": {
            "text/plain": [
              "<zip at 0x7fd1bf6f93c8>"
            ]
          },
          "metadata": {
            "tags": []
          },
          "execution_count": 114
        }
      ]
    },
    {
      "metadata": {
        "id": "FXXb6Kv_sy_C",
        "colab_type": "code",
        "outputId": "170fe575-526f-4e6b-c014-66b86578b4bd",
        "colab": {
          "base_uri": "https://localhost:8080/",
          "height": 34
        }
      },
      "cell_type": "code",
      "source": [
        "print(total_subject)"
      ],
      "execution_count": 0,
      "outputs": [
        {
          "output_type": "stream",
          "text": [
            "<zip object at 0x7fd1bf6d60c8>\n"
          ],
          "name": "stdout"
        }
      ]
    },
    {
      "metadata": {
        "id": "y0hqlZyIsz7U",
        "colab_type": "code",
        "colab": {}
      },
      "cell_type": "code",
      "source": [
        "players = ['virat','dhoni',None, 'sharma']"
      ],
      "execution_count": 0,
      "outputs": []
    },
    {
      "metadata": {
        "id": "qubZWg47uRHV",
        "colab_type": "code",
        "outputId": "4a7bc45e-2ba3-4d86-cfd8-3f09308404f0",
        "colab": {
          "base_uri": "https://localhost:8080/",
          "height": 68
        }
      },
      "cell_type": "code",
      "source": [
        "# Continue statement\n",
        "for x in players:\n",
        "  if(x is None):\n",
        "    continue\n",
        "  print(x)"
      ],
      "execution_count": 0,
      "outputs": [
        {
          "output_type": "stream",
          "text": [
            "virat\n",
            "dhoni\n",
            "sharma\n"
          ],
          "name": "stdout"
        }
      ]
    },
    {
      "metadata": {
        "id": "gPPr9tl1uTYQ",
        "colab_type": "code",
        "outputId": "d41b55e3-e7fb-478f-ca23-81cb1f9f27d5",
        "colab": {
          "base_uri": "https://localhost:8080/",
          "height": 51
        }
      },
      "cell_type": "code",
      "source": [
        "# Break statement\n",
        "for x in players:\n",
        "  if(x is None):\n",
        "    break\n",
        "  print(x)"
      ],
      "execution_count": 0,
      "outputs": [
        {
          "output_type": "stream",
          "text": [
            "virat\n",
            "dhoni\n"
          ],
          "name": "stdout"
        }
      ]
    },
    {
      "metadata": {
        "id": "0HXI2KDxuo9v",
        "colab_type": "code",
        "outputId": "1ecf4009-1711-46ec-c8f7-837186501d8e",
        "colab": {
          "base_uri": "https://localhost:8080/",
          "height": 119
        }
      },
      "cell_type": "code",
      "source": [
        "temp = 100\n",
        "while temp>=95:\n",
        "  print(temp)\n",
        "  temp = temp -1"
      ],
      "execution_count": 0,
      "outputs": [
        {
          "output_type": "stream",
          "text": [
            "100\n",
            "99\n",
            "98\n",
            "97\n",
            "96\n",
            "95\n"
          ],
          "name": "stdout"
        }
      ]
    },
    {
      "metadata": {
        "id": "Bpm1iinzvORx",
        "colab_type": "code",
        "colab": {}
      },
      "cell_type": "code",
      "source": [
        "#Handling exceptions with a try-except block\n",
        "\n",
        "def test_float(x):\n",
        "  return float(x)\n",
        "\n"
      ],
      "execution_count": 0,
      "outputs": []
    },
    {
      "metadata": {
        "id": "p5ITPqO9vdni",
        "colab_type": "code",
        "outputId": "f11e5dcd-bf4c-45ac-8e60-3decabac5506",
        "colab": {
          "base_uri": "https://localhost:8080/",
          "height": 34
        }
      },
      "cell_type": "code",
      "source": [
        "test_float(7.34)\n"
      ],
      "execution_count": 0,
      "outputs": [
        {
          "output_type": "execute_result",
          "data": {
            "text/plain": [
              "7.34"
            ]
          },
          "metadata": {
            "tags": []
          },
          "execution_count": 128
        }
      ]
    },
    {
      "metadata": {
        "id": "bWaS62wVvoOF",
        "colab_type": "code",
        "outputId": "87679103-792e-4f8a-f420-398757bc20dc",
        "colab": {
          "base_uri": "https://localhost:8080/",
          "height": 266
        }
      },
      "cell_type": "code",
      "source": [
        "test_float('test_float')\n",
        "#This code is supposed to throw an error"
      ],
      "execution_count": 0,
      "outputs": [
        {
          "output_type": "error",
          "ename": "ValueError",
          "evalue": "ignored",
          "traceback": [
            "\u001b[0;31m---------------------------------------------------------------------------\u001b[0m",
            "\u001b[0;31mValueError\u001b[0m                                Traceback (most recent call last)",
            "\u001b[0;32m<ipython-input-129-eff7b377201b>\u001b[0m in \u001b[0;36m<module>\u001b[0;34m()\u001b[0m\n\u001b[0;32m----> 1\u001b[0;31m \u001b[0mtest_float\u001b[0m\u001b[0;34m(\u001b[0m\u001b[0;34m'test_float'\u001b[0m\u001b[0;34m)\u001b[0m\u001b[0;34m\u001b[0m\u001b[0;34m\u001b[0m\u001b[0m\n\u001b[0m",
            "\u001b[0;32m<ipython-input-127-95fb1c994f33>\u001b[0m in \u001b[0;36mtest_float\u001b[0;34m(x)\u001b[0m\n\u001b[1;32m      1\u001b[0m \u001b[0;34m\u001b[0m\u001b[0m\n\u001b[1;32m      2\u001b[0m \u001b[0;32mdef\u001b[0m \u001b[0mtest_float\u001b[0m\u001b[0;34m(\u001b[0m\u001b[0mx\u001b[0m\u001b[0;34m)\u001b[0m\u001b[0;34m:\u001b[0m\u001b[0;34m\u001b[0m\u001b[0;34m\u001b[0m\u001b[0m\n\u001b[0;32m----> 3\u001b[0;31m   \u001b[0;32mreturn\u001b[0m \u001b[0mfloat\u001b[0m\u001b[0;34m(\u001b[0m\u001b[0mx\u001b[0m\u001b[0;34m)\u001b[0m\u001b[0;34m\u001b[0m\u001b[0;34m\u001b[0m\u001b[0m\n\u001b[0m\u001b[1;32m      4\u001b[0m \u001b[0;34m\u001b[0m\u001b[0m\n",
            "\u001b[0;31mValueError\u001b[0m: could not convert string to float: 'test_float'"
          ]
        }
      ]
    },
    {
      "metadata": {
        "id": "WvQEmrgbvsEt",
        "colab_type": "code",
        "colab": {}
      },
      "cell_type": "code",
      "source": [
        "def test_float(x):\n",
        "  try:\n",
        "    return float(x)\n",
        "  except ValueError:\n",
        "    return 'Invalid input'"
      ],
      "execution_count": 0,
      "outputs": []
    },
    {
      "metadata": {
        "id": "JgyEYCjIv-ON",
        "colab_type": "code",
        "outputId": "ca0b253e-7717-4f87-bb84-fd221b06e8ff",
        "colab": {
          "base_uri": "https://localhost:8080/",
          "height": 34
        }
      },
      "cell_type": "code",
      "source": [
        "test_float('test_float')"
      ],
      "execution_count": 0,
      "outputs": [
        {
          "output_type": "execute_result",
          "data": {
            "text/plain": [
              "'Invalid input'"
            ]
          },
          "metadata": {
            "tags": []
          },
          "execution_count": 131
        }
      ]
    },
    {
      "metadata": {
        "id": "v6zMC18xwAi5",
        "colab_type": "code",
        "colab": {}
      },
      "cell_type": "code",
      "source": [
        "[] = List\n",
        "() = tuple\n",
        "{} = Dict, or set"
      ],
      "execution_count": 0,
      "outputs": []
    }
  ]
}