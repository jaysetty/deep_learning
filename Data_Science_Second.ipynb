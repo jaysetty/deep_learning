{
  "nbformat": 4,
  "nbformat_minor": 0,
  "metadata": {
    "colab": {
      "name": "Data_Science_Second.ipynb",
      "version": "0.3.2",
      "provenance": [],
      "collapsed_sections": []
    },
    "kernelspec": {
      "name": "python3",
      "display_name": "Python 3"
    }
  },
  "cells": [
    {
      "metadata": {
        "id": "FCH9BHjpUvps",
        "colab_type": "text"
      },
      "cell_type": "markdown",
      "source": [
        "This is a Python Notebook to work and understand with numpy arrays.\n",
        "\n",
        "Numpy  - Numerical Python (Numerical Python (NumPy) supports multidimensional arrays over which you can easily apply mathematical operations)\n",
        "\n",
        "NumPy is the foundational package for mathematical computing in Python."
      ]
    },
    {
      "metadata": {
        "id": "DVUX1_UxUuyB",
        "colab_type": "code",
        "colab": {}
      },
      "cell_type": "code",
      "source": [
        "import numpy as np # You can perform simple Math calculations to complex Deep Learning tasks on numpy!\n"
      ],
      "execution_count": 0,
      "outputs": []
    },
    {
      "metadata": {
        "id": "ezyco52pVEPK",
        "colab_type": "code",
        "colab": {}
      },
      "cell_type": "code",
      "source": [
        "distance = [10,15,17,26]\n",
        "time = [0.3, 0.47, 0.55, 1.20]\n",
        "# type(distance)"
      ],
      "execution_count": 0,
      "outputs": []
    },
    {
      "metadata": {
        "id": "XFNtv2_sVStM",
        "colab_type": "code",
        "outputId": "063cbf8c-910b-4fcf-df19-dbb741fba592",
        "colab": {
          "base_uri": "https://localhost:8080/",
          "height": 34
        }
      },
      "cell_type": "code",
      "source": [
        "# Converted distance list into numpy array of distance\n",
        "np_dist = np.array(distance)\n",
        "np_time = np.array(time)\n",
        "# type(np_dist) \n",
        "# type(np_time)"
      ],
      "execution_count": 0,
      "outputs": [
        {
          "output_type": "execute_result",
          "data": {
            "text/plain": [
              "numpy.ndarray"
            ]
          },
          "metadata": {
            "tags": []
          },
          "execution_count": 8
        }
      ]
    },
    {
      "metadata": {
        "id": "Kz7aaZtyVbiy",
        "colab_type": "code",
        "colab": {}
      },
      "cell_type": "code",
      "source": [
        "speed = np_dist/np_time"
      ],
      "execution_count": 0,
      "outputs": []
    },
    {
      "metadata": {
        "id": "Lkd_JUSVV1lT",
        "colab_type": "code",
        "outputId": "ec9cb7af-4b29-4cf4-d2d5-752cc933e38f",
        "colab": {
          "base_uri": "https://localhost:8080/",
          "height": 34
        }
      },
      "cell_type": "code",
      "source": [
        "speed"
      ],
      "execution_count": 0,
      "outputs": [
        {
          "output_type": "execute_result",
          "data": {
            "text/plain": [
              "array([33.33333333, 31.91489362, 30.90909091, 21.66666667])"
            ]
          },
          "metadata": {
            "tags": []
          },
          "execution_count": 11
        }
      ]
    },
    {
      "metadata": {
        "id": "SaKgBHbnV4KU",
        "colab_type": "code",
        "outputId": "b0949b1d-6217-427b-bacd-5bc232c77c93",
        "colab": {
          "base_uri": "https://localhost:8080/",
          "height": 34
        }
      },
      "cell_type": "code",
      "source": [
        "# Check\n",
        "\n",
        "# How many elements will the following code print?\n",
        "\n",
        "print(np.linspace(4,13,7)) # Prints a total 7 equally spaced values in between 4 & 13 (including)"
      ],
      "execution_count": 0,
      "outputs": [
        {
          "output_type": "stream",
          "text": [
            "[ 4.   5.5  7.   8.5 10.  11.5 13. ]\n"
          ],
          "name": "stdout"
        }
      ]
    },
    {
      "metadata": {
        "id": "IBztk4ohXVqg",
        "colab_type": "code",
        "outputId": "4d2aac99-c666-46f6-c992-744ceb49b7c8",
        "colab": {
          "base_uri": "https://localhost:8080/",
          "height": 34
        }
      },
      "cell_type": "code",
      "source": [
        "print(np.linspace(4,13,2))"
      ],
      "execution_count": 0,
      "outputs": [
        {
          "output_type": "stream",
          "text": [
            "[ 4. 13.]\n"
          ],
          "name": "stdout"
        }
      ]
    },
    {
      "metadata": {
        "id": "Q1aJmw5AX9jk",
        "colab_type": "code",
        "outputId": "1a971b87-d5f2-4786-a66d-42fe0d3c0ce7",
        "colab": {
          "base_uri": "https://localhost:8080/",
          "height": 34
        }
      },
      "cell_type": "code",
      "source": [
        "# Attributes of the ndarray\n",
        "# ndim\n",
        "\n",
        "np_city = np.array(['NYC', 'LA', 'Miami', 'Houston'])\n",
        "np_city.ndim"
      ],
      "execution_count": 0,
      "outputs": [
        {
          "output_type": "stream",
          "text": [
            "['NYC' 'LA' 'Miami' 'Houston']\n"
          ],
          "name": "stdout"
        }
      ]
    },
    {
      "metadata": {
        "id": "jlW8WUowY2V8",
        "colab_type": "code",
        "outputId": "f6d11813-39ac-4065-ee50-e7b016d6715f",
        "colab": {
          "base_uri": "https://localhost:8080/",
          "height": 34
        }
      },
      "cell_type": "code",
      "source": [
        "np_city_with_state = np.array([['NYC', 'LA', 'Miami', 'Houston'],['NY', 'CA', 'FL', 'TX']])\n",
        "np_city_with_state.ndim"
      ],
      "execution_count": 0,
      "outputs": [
        {
          "output_type": "execute_result",
          "data": {
            "text/plain": [
              "2"
            ]
          },
          "metadata": {
            "tags": []
          },
          "execution_count": 18
        }
      ]
    },
    {
      "metadata": {
        "id": "w8_j00lRZHN4",
        "colab_type": "code",
        "outputId": "9744de2e-20d2-4a0b-875e-c48c774ae62b",
        "colab": {
          "base_uri": "https://localhost:8080/",
          "height": 34
        }
      },
      "cell_type": "code",
      "source": [
        "# Numpy’s array class is “ndarray,” also referred to as “numpy.ndarray.” The attributes of ndarray are:\n",
        "\n",
        "# np_city_with_state.shape # Has 2 rows and 4 columns\n",
        "np_city.shape # Has 4 rows 1 column"
      ],
      "execution_count": 0,
      "outputs": [
        {
          "output_type": "execute_result",
          "data": {
            "text/plain": [
              "(4,)"
            ]
          },
          "metadata": {
            "tags": []
          },
          "execution_count": 23
        }
      ]
    },
    {
      "metadata": {
        "id": "7--HS889c7K6",
        "colab_type": "code",
        "colab": {}
      },
      "cell_type": "code",
      "source": [
        "# In Class Excercise\n",
        "#Print a np array with shape (1,4)\n",
        "\n",
        "#### Your code here####\n",
        "#### Your code here####\n",
        "# Clue: np_city=np.array([['NYC','LA','Miami','Houston']])"
      ],
      "execution_count": 0,
      "outputs": []
    },
    {
      "metadata": {
        "id": "XtqiNoFHZaHS",
        "colab_type": "code",
        "outputId": "d1a50d8a-b3ab-41fa-bfba-6e80189998dd",
        "colab": {
          "base_uri": "https://localhost:8080/",
          "height": 34
        }
      },
      "cell_type": "code",
      "source": [
        "# Size\n",
        "print(np_city.size, np_city_with_state.size)"
      ],
      "execution_count": 0,
      "outputs": [
        {
          "output_type": "stream",
          "text": [
            "4 8\n"
          ],
          "name": "stdout"
        }
      ]
    },
    {
      "metadata": {
        "id": "QHetXCRtakhv",
        "colab_type": "code",
        "outputId": "7db3d915-5154-4b8b-e273-6dda5258cb33",
        "colab": {
          "base_uri": "https://localhost:8080/",
          "height": 34
        }
      },
      "cell_type": "code",
      "source": [
        "np_city.dtype"
      ],
      "execution_count": 0,
      "outputs": [
        {
          "output_type": "execute_result",
          "data": {
            "text/plain": [
              "dtype('<U7')"
            ]
          },
          "metadata": {
            "tags": []
          },
          "execution_count": 28
        }
      ]
    },
    {
      "metadata": {
        "id": "_5YNBJy0a02J",
        "colab_type": "code",
        "outputId": "d3fdb883-22e0-461a-8305-2b8f8f880ba4",
        "colab": {
          "base_uri": "https://localhost:8080/",
          "height": 34
        }
      },
      "cell_type": "code",
      "source": [
        "np_city_with_state.dtype"
      ],
      "execution_count": 0,
      "outputs": [
        {
          "output_type": "execute_result",
          "data": {
            "text/plain": [
              "dtype('<U7')"
            ]
          },
          "metadata": {
            "tags": []
          },
          "execution_count": 29
        }
      ]
    },
    {
      "metadata": {
        "id": "J5wy3U4sa8lr",
        "colab_type": "code",
        "colab": {}
      },
      "cell_type": "code",
      "source": [
        "# Accessing Array Elements: Indexing\n",
        "\n",
        "cyclist_trials = np.array([[10,15,17,26],[12,11,21,24]])\n",
        "first_trial = cyclist_trials[0]"
      ],
      "execution_count": 0,
      "outputs": []
    },
    {
      "metadata": {
        "id": "mNCMEzB-c0kB",
        "colab_type": "code",
        "outputId": "9878a2dc-2cc9-4463-e7e6-abcf97373a06",
        "colab": {
          "base_uri": "https://localhost:8080/",
          "height": 34
        }
      },
      "cell_type": "code",
      "source": [
        "first_trial"
      ],
      "execution_count": 0,
      "outputs": [
        {
          "output_type": "execute_result",
          "data": {
            "text/plain": [
              "[10, 15, 17, 26]"
            ]
          },
          "metadata": {
            "tags": []
          },
          "execution_count": 38
        }
      ]
    },
    {
      "metadata": {
        "id": "ijyUwo8DeQgz",
        "colab_type": "code",
        "colab": {}
      },
      "cell_type": "code",
      "source": [
        "second_trail = cyclist_trials[1]"
      ],
      "execution_count": 0,
      "outputs": []
    },
    {
      "metadata": {
        "id": "Oyk4o-QheUJy",
        "colab_type": "code",
        "outputId": "704f9929-4a41-4a91-c9d6-d9395f87ecb3",
        "colab": {
          "base_uri": "https://localhost:8080/",
          "height": 34
        }
      },
      "cell_type": "code",
      "source": [
        "second_trail"
      ],
      "execution_count": 0,
      "outputs": [
        {
          "output_type": "execute_result",
          "data": {
            "text/plain": [
              "array([12, 11, 21, 24])"
            ]
          },
          "metadata": {
            "tags": []
          },
          "execution_count": 43
        }
      ]
    },
    {
      "metadata": {
        "id": "Q2TRj16teVza",
        "colab_type": "code",
        "colab": {}
      },
      "cell_type": "code",
      "source": [
        "first_cyclist_firstTrail = cyclist_trials[0][0]"
      ],
      "execution_count": 0,
      "outputs": []
    },
    {
      "metadata": {
        "id": "rVlrlNj5evFy",
        "colab_type": "code",
        "outputId": "52184151-b09a-4e0e-b962-055e798a7a9c",
        "colab": {
          "base_uri": "https://localhost:8080/",
          "height": 34
        }
      },
      "cell_type": "code",
      "source": [
        "first_cyclist_firstTrail"
      ],
      "execution_count": 0,
      "outputs": [
        {
          "output_type": "execute_result",
          "data": {
            "text/plain": [
              "10"
            ]
          },
          "metadata": {
            "tags": []
          },
          "execution_count": 45
        }
      ]
    },
    {
      "metadata": {
        "id": "nQ8tQO8NexQz",
        "colab_type": "code",
        "colab": {}
      },
      "cell_type": "code",
      "source": [
        "first_cyclist_all_trails = cyclist_trials[:,0]"
      ],
      "execution_count": 0,
      "outputs": []
    },
    {
      "metadata": {
        "id": "pu5OnrKTe81l",
        "colab_type": "code",
        "outputId": "133d7da0-15c0-4221-d2f9-cfcda754fdbe",
        "colab": {
          "base_uri": "https://localhost:8080/",
          "height": 34
        }
      },
      "cell_type": "code",
      "source": [
        "first_cyclist_all_trails"
      ],
      "execution_count": 0,
      "outputs": [
        {
          "output_type": "execute_result",
          "data": {
            "text/plain": [
              "array([10, 12])"
            ]
          },
          "metadata": {
            "tags": []
          },
          "execution_count": 47
        }
      ]
    },
    {
      "metadata": {
        "id": "0nfPWdU-fCqA",
        "colab_type": "code",
        "outputId": "a6b1c4ab-b819-4529-ded0-22b58c9441f4",
        "colab": {
          "base_uri": "https://localhost:8080/",
          "height": 34
        }
      },
      "cell_type": "code",
      "source": [
        "# Slicing your np arrays\n",
        "\n",
        "cyclist_trials.shape"
      ],
      "execution_count": 0,
      "outputs": [
        {
          "output_type": "execute_result",
          "data": {
            "text/plain": [
              "(2, 4)"
            ]
          },
          "metadata": {
            "tags": []
          },
          "execution_count": 48
        }
      ]
    },
    {
      "metadata": {
        "id": "Rt-gaJyFp4Ee",
        "colab_type": "code",
        "colab": {}
      },
      "cell_type": "code",
      "source": [
        "cyclist_trials = np.array([[10,15,17,26],[12,11,21,24]])\n",
        "two_cyclist_trial_data = cyclist_trials[:,1:3] # The first colon : means, all the rows & 1:3 means from 1st col upto 3rd col"
      ],
      "execution_count": 0,
      "outputs": []
    },
    {
      "metadata": {
        "id": "KDKovblHp_7M",
        "colab_type": "code",
        "outputId": "0dcd7293-226b-49e7-9457-a9280bd5136a",
        "colab": {
          "base_uri": "https://localhost:8080/",
          "height": 51
        }
      },
      "cell_type": "code",
      "source": [
        "two_cyclist_trial_data"
      ],
      "execution_count": 0,
      "outputs": [
        {
          "output_type": "execute_result",
          "data": {
            "text/plain": [
              "array([[15, 17],\n",
              "       [11, 21]])"
            ]
          },
          "metadata": {
            "tags": []
          },
          "execution_count": 53
        }
      ]
    },
    {
      "metadata": {
        "id": "uc5U5sXgqDb0",
        "colab_type": "code",
        "colab": {}
      },
      "cell_type": "code",
      "source": [
        "# To get the all rows and second column please fill this ?\n",
        "two_cyclist_trial_data = cyclist_trials[:,?]\n",
        "\n"
      ],
      "execution_count": 0,
      "outputs": []
    },
    {
      "metadata": {
        "id": "n_feRydQrRpw",
        "colab_type": "code",
        "outputId": "c87e1811-baba-49d7-ec94-6037bb0536bc",
        "colab": {
          "base_uri": "https://localhost:8080/",
          "height": 34
        }
      },
      "cell_type": "code",
      "source": [
        "first_col = cyclist_trials[:,0]\n",
        "first_col"
      ],
      "execution_count": 0,
      "outputs": [
        {
          "output_type": "execute_result",
          "data": {
            "text/plain": [
              "array([10, 12])"
            ]
          },
          "metadata": {
            "tags": []
          },
          "execution_count": 57
        }
      ]
    },
    {
      "metadata": {
        "id": "wOP5ioQ7rSLY",
        "colab_type": "code",
        "outputId": "c8e89833-a417-48e0-8f12-a01402a11cb8",
        "colab": {
          "base_uri": "https://localhost:8080/",
          "height": 34
        }
      },
      "cell_type": "code",
      "source": [
        "third_col = cyclist_trials[:,2]\n",
        "third_col"
      ],
      "execution_count": 0,
      "outputs": [
        {
          "output_type": "execute_result",
          "data": {
            "text/plain": [
              "array([17, 21])"
            ]
          },
          "metadata": {
            "tags": []
          },
          "execution_count": 59
        }
      ]
    },
    {
      "metadata": {
        "id": "z54ff8wTrm-Z",
        "colab_type": "code",
        "outputId": "c2677b81-8c97-47a9-c059-6199f59b0413",
        "colab": {
          "base_uri": "https://localhost:8080/",
          "height": 51
        }
      },
      "cell_type": "code",
      "source": [
        "first_third_col = cyclist_trials[:,(0,2)]\n",
        "first_third_col"
      ],
      "execution_count": 0,
      "outputs": [
        {
          "output_type": "execute_result",
          "data": {
            "text/plain": [
              "array([[10, 17],\n",
              "       [12, 21]])"
            ]
          },
          "metadata": {
            "tags": []
          },
          "execution_count": 61
        }
      ]
    },
    {
      "metadata": {
        "id": "dKbBZWOMsElV",
        "colab_type": "code",
        "outputId": "f074cb15-7f1e-4353-933f-d501635aea51",
        "colab": {
          "base_uri": "https://localhost:8080/",
          "height": 51
        }
      },
      "cell_type": "code",
      "source": [
        "# Iterate over elements in an array\n",
        "for x in cyclist_trials:\n",
        "  print(x)"
      ],
      "execution_count": 0,
      "outputs": [
        {
          "output_type": "stream",
          "text": [
            "[10 15 17 26]\n",
            "[12 11 21 24]\n"
          ],
          "name": "stdout"
        }
      ]
    },
    {
      "metadata": {
        "id": "g-BBeVwetBo2",
        "colab_type": "code",
        "outputId": "2de76732-8d28-422f-faae-da06bcc92d3c",
        "colab": {
          "base_uri": "https://localhost:8080/",
          "height": 51
        }
      },
      "cell_type": "code",
      "source": [
        "for y in first_third_col:\n",
        "  print(y)"
      ],
      "execution_count": 0,
      "outputs": [
        {
          "output_type": "stream",
          "text": [
            "[10 17]\n",
            "[12 21]\n"
          ],
          "name": "stdout"
        }
      ]
    },
    {
      "metadata": {
        "id": "iu__Y3MbtHtH",
        "colab_type": "code",
        "colab": {}
      },
      "cell_type": "code",
      "source": [
        "# Indexing with boolean arrays\n",
        "test_scores = np.array([[83,71,57,63], [54,68, 81, 45]])"
      ],
      "execution_count": 0,
      "outputs": []
    },
    {
      "metadata": {
        "id": "ILY7vaGftoKr",
        "colab_type": "code",
        "colab": {}
      },
      "cell_type": "code",
      "source": [
        "passing_score = test_scores>60"
      ],
      "execution_count": 0,
      "outputs": []
    },
    {
      "metadata": {
        "id": "KtZNhbu8tr0o",
        "colab_type": "code",
        "outputId": "21218343-a02a-4f30-96a9-07b42ad157d1",
        "colab": {
          "base_uri": "https://localhost:8080/",
          "height": 51
        }
      },
      "cell_type": "code",
      "source": [
        "passing_score"
      ],
      "execution_count": 0,
      "outputs": [
        {
          "output_type": "execute_result",
          "data": {
            "text/plain": [
              "array([[ True,  True, False,  True],\n",
              "       [False,  True,  True, False]])"
            ]
          },
          "metadata": {
            "tags": []
          },
          "execution_count": 66
        }
      ]
    },
    {
      "metadata": {
        "id": "v1Zg7sm5ttU3",
        "colab_type": "code",
        "outputId": "be5d1e23-0a8b-4d86-a2e3-f555e2ca7519",
        "colab": {
          "base_uri": "https://localhost:8080/",
          "height": 34
        }
      },
      "cell_type": "code",
      "source": [
        "test_scores[passing_score]"
      ],
      "execution_count": 0,
      "outputs": [
        {
          "output_type": "execute_result",
          "data": {
            "text/plain": [
              "array([83, 71, 63, 68, 81])"
            ]
          },
          "metadata": {
            "tags": []
          },
          "execution_count": 69
        }
      ]
    },
    {
      "metadata": {
        "id": "4MvhyBZHwr-g",
        "colab_type": "code",
        "colab": {}
      },
      "cell_type": "code",
      "source": [
        "# In class excercise\n",
        "# https://www.hackerrank.com/challenges/python-loops/problem"
      ],
      "execution_count": 0,
      "outputs": []
    },
    {
      "metadata": {
        "id": "UTzvdmJ4zsec",
        "colab_type": "code",
        "outputId": "8bf95a2d-39b4-45ff-b029-3db9697c0d61",
        "colab": {
          "base_uri": "https://localhost:8080/",
          "height": 51
        }
      },
      "cell_type": "code",
      "source": [
        "# Copy and Views\n",
        "\n",
        "NYC_Borough = np.array(['Manhattan', 'Bronx', 'Brooklyn', 'Staten Island', 'Queens'])\n",
        "NYC_Borough"
      ],
      "execution_count": 0,
      "outputs": [
        {
          "output_type": "execute_result",
          "data": {
            "text/plain": [
              "array(['Manhattan', 'Bronx', 'Brooklyn', 'Staten Island', 'Queens'],\n",
              "      dtype='<U13')"
            ]
          },
          "metadata": {
            "tags": []
          },
          "execution_count": 77
        }
      ]
    },
    {
      "metadata": {
        "id": "tWIkTUD8z7pn",
        "colab_type": "code",
        "colab": {}
      },
      "cell_type": "code",
      "source": [
        "Boroughs_in_NYC = NYC_Borough\n"
      ],
      "execution_count": 0,
      "outputs": []
    },
    {
      "metadata": {
        "id": "GwamgFXM0A5h",
        "colab_type": "code",
        "outputId": "abfbc2a1-2e66-4fa5-f699-a47ecdeda611",
        "colab": {
          "base_uri": "https://localhost:8080/",
          "height": 51
        }
      },
      "cell_type": "code",
      "source": [
        "Boroughs_in_NYC"
      ],
      "execution_count": 0,
      "outputs": [
        {
          "output_type": "execute_result",
          "data": {
            "text/plain": [
              "array(['Manhattan', 'Bronx', 'Brooklyn', 'Staten Island', 'Queens'],\n",
              "      dtype='<U13')"
            ]
          },
          "metadata": {
            "tags": []
          },
          "execution_count": 79
        }
      ]
    },
    {
      "metadata": {
        "id": "SOBs-9kH0FtD",
        "colab_type": "code",
        "outputId": "51dabfad-d193-4c27-ad0e-6e102deb6ded",
        "colab": {
          "base_uri": "https://localhost:8080/",
          "height": 34
        }
      },
      "cell_type": "code",
      "source": [
        "Boroughs_in_NYC is NYC_Borough # Both objects are same and no new copy is made"
      ],
      "execution_count": 0,
      "outputs": [
        {
          "output_type": "execute_result",
          "data": {
            "text/plain": [
              "True"
            ]
          },
          "metadata": {
            "tags": []
          },
          "execution_count": 80
        }
      ]
    },
    {
      "metadata": {
        "id": "tScrxYD70LP6",
        "colab_type": "code",
        "colab": {}
      },
      "cell_type": "code",
      "source": [
        "# Creates a shallow copy or a new object\n",
        "View_of_Borough_in_NYC = Boroughs_in_NYC.view()"
      ],
      "execution_count": 0,
      "outputs": []
    },
    {
      "metadata": {
        "id": "aK8WCgwy0dJa",
        "colab_type": "code",
        "outputId": "9a3f3349-2087-4ea9-93b1-dfd7be3b614b",
        "colab": {
          "base_uri": "https://localhost:8080/",
          "height": 34
        }
      },
      "cell_type": "code",
      "source": [
        "len(View_of_Borough_in_NYC)\n"
      ],
      "execution_count": 0,
      "outputs": [
        {
          "output_type": "execute_result",
          "data": {
            "text/plain": [
              "5"
            ]
          },
          "metadata": {
            "tags": []
          },
          "execution_count": 82
        }
      ]
    },
    {
      "metadata": {
        "id": "olzsguCW07m5",
        "colab_type": "code",
        "outputId": "a3b4aa2d-1885-4028-9a4e-b3847feab139",
        "colab": {
          "base_uri": "https://localhost:8080/",
          "height": 34
        }
      },
      "cell_type": "code",
      "source": [
        "View_of_Borough_in_NYC is Boroughs_in_NYC"
      ],
      "execution_count": 0,
      "outputs": [
        {
          "output_type": "execute_result",
          "data": {
            "text/plain": [
              "False"
            ]
          },
          "metadata": {
            "tags": []
          },
          "execution_count": 87
        }
      ]
    },
    {
      "metadata": {
        "id": "qZCc6nZx0iPy",
        "colab_type": "code",
        "colab": {}
      },
      "cell_type": "code",
      "source": [
        "View_of_Borough_in_NYC[4] = 'Central Park'"
      ],
      "execution_count": 0,
      "outputs": []
    },
    {
      "metadata": {
        "id": "lOZjPffO0njD",
        "colab_type": "code",
        "outputId": "104ec023-43dd-44cf-87f4-5e1f503a4c5a",
        "colab": {
          "base_uri": "https://localhost:8080/",
          "height": 51
        }
      },
      "cell_type": "code",
      "source": [
        "View_of_Borough_in_NYC"
      ],
      "execution_count": 0,
      "outputs": [
        {
          "output_type": "execute_result",
          "data": {
            "text/plain": [
              "array(['Manhattan', 'Bronx', 'Brooklyn', 'Staten Island', 'Central Park'],\n",
              "      dtype='<U13')"
            ]
          },
          "metadata": {
            "tags": []
          },
          "execution_count": 85
        }
      ]
    },
    {
      "metadata": {
        "id": "J6jx4Yxm0sVD",
        "colab_type": "code",
        "outputId": "4f50190f-98f5-4024-d0fa-9ad2f05d813c",
        "colab": {
          "base_uri": "https://localhost:8080/",
          "height": 51
        }
      },
      "cell_type": "code",
      "source": [
        "Boroughs_in_NYC"
      ],
      "execution_count": 0,
      "outputs": [
        {
          "output_type": "execute_result",
          "data": {
            "text/plain": [
              "array(['Manhattan', 'Bronx', 'Brooklyn', 'Staten Island', 'Central Park'],\n",
              "      dtype='<U13')"
            ]
          },
          "metadata": {
            "tags": []
          },
          "execution_count": 86
        }
      ]
    },
    {
      "metadata": {
        "id": "Cyu9J4oc0xIR",
        "colab_type": "code",
        "colab": {}
      },
      "cell_type": "code",
      "source": [
        "Copy_of_NYC_Borough = NYC_Borough.copy()"
      ],
      "execution_count": 0,
      "outputs": []
    },
    {
      "metadata": {
        "id": "yTsh-qRU1EU0",
        "colab_type": "code",
        "outputId": "602b1f47-4677-4650-dd32-db991e1db3b3",
        "colab": {
          "base_uri": "https://localhost:8080/",
          "height": 34
        }
      },
      "cell_type": "code",
      "source": [
        "Copy_of_NYC_Borough is NYC_Borough"
      ],
      "execution_count": 0,
      "outputs": [
        {
          "output_type": "execute_result",
          "data": {
            "text/plain": [
              "False"
            ]
          },
          "metadata": {
            "tags": []
          },
          "execution_count": 89
        }
      ]
    },
    {
      "metadata": {
        "id": "vr2FKGCb1GtX",
        "colab_type": "code",
        "outputId": "9c0a4eaa-f154-4c33-9cb3-0a363d3adc3d",
        "colab": {
          "base_uri": "https://localhost:8080/",
          "height": 88
        }
      },
      "cell_type": "code",
      "source": [
        "# Universal functions\n",
        "import numpy as np\n",
        "np_sqrt = np.sqrt([2,4,9,16])\n",
        "np_sqrt"
      ],
      "execution_count": 0,
      "outputs": [
        {
          "output_type": "stream",
          "text": [
            "/usr/local/lib/python3.6/dist-packages/ipykernel_launcher.py:2: RuntimeWarning: invalid value encountered in sqrt\n",
            "  \n"
          ],
          "name": "stderr"
        },
        {
          "output_type": "execute_result",
          "data": {
            "text/plain": [
              "array([1.41421356, 2.        , 3.        , 4.        ,        nan])"
            ]
          },
          "metadata": {
            "tags": []
          },
          "execution_count": 5
        }
      ]
    },
    {
      "metadata": {
        "id": "4H2Hy3db3T2p",
        "colab_type": "code",
        "outputId": "f9cc0ef6-ca59-4e7a-e75d-0e9b8b5f05f6",
        "colab": {
          "base_uri": "https://localhost:8080/",
          "height": 34
        }
      },
      "cell_type": "code",
      "source": [
        "from numpy import pi\n",
        "np.cos(0)"
      ],
      "execution_count": 0,
      "outputs": [
        {
          "output_type": "execute_result",
          "data": {
            "text/plain": [
              "1.0"
            ]
          },
          "metadata": {
            "tags": []
          },
          "execution_count": 6
        }
      ]
    },
    {
      "metadata": {
        "id": "d2TWdVW_3wOp",
        "colab_type": "code",
        "outputId": "3fe0c297-e95e-4cd5-c7e2-0ada44295c82",
        "colab": {
          "base_uri": "https://localhost:8080/",
          "height": 34
        }
      },
      "cell_type": "code",
      "source": [
        "np.sin(pi/2)"
      ],
      "execution_count": 0,
      "outputs": [
        {
          "output_type": "execute_result",
          "data": {
            "text/plain": [
              "1.0"
            ]
          },
          "metadata": {
            "tags": []
          },
          "execution_count": 7
        }
      ]
    },
    {
      "metadata": {
        "id": "GF7HdyUT3y-I",
        "colab_type": "code",
        "outputId": "1f4b327a-052d-4de6-d3f3-58ea4a965874",
        "colab": {
          "base_uri": "https://localhost:8080/",
          "height": 34
        }
      },
      "cell_type": "code",
      "source": [
        "np.cos(pi)"
      ],
      "execution_count": 0,
      "outputs": [
        {
          "output_type": "execute_result",
          "data": {
            "text/plain": [
              "-1.0"
            ]
          },
          "metadata": {
            "tags": []
          },
          "execution_count": 8
        }
      ]
    },
    {
      "metadata": {
        "id": "s0CvZ2To311R",
        "colab_type": "code",
        "outputId": "f0a09dbf-5260-45a4-8209-a1bf1559ab45",
        "colab": {
          "base_uri": "https://localhost:8080/",
          "height": 34
        }
      },
      "cell_type": "code",
      "source": [
        "np.floor([1.5,1.6,2.7,3.3,1.1,-0.3, -1.4])\n"
      ],
      "execution_count": 0,
      "outputs": [
        {
          "output_type": "execute_result",
          "data": {
            "text/plain": [
              "array([ 1.,  1.,  2.,  3.,  1., -1., -2.])"
            ]
          },
          "metadata": {
            "tags": []
          },
          "execution_count": 9
        }
      ]
    },
    {
      "metadata": {
        "id": "89eYu-98382Y",
        "colab_type": "code",
        "outputId": "2c397986-b916-4f54-a0a6-41a164196927",
        "colab": {
          "base_uri": "https://localhost:8080/",
          "height": 34
        }
      },
      "cell_type": "code",
      "source": [
        "np.exp([0,1,5])"
      ],
      "execution_count": 0,
      "outputs": [
        {
          "output_type": "execute_result",
          "data": {
            "text/plain": [
              "array([  1.        ,   2.71828183, 148.4131591 ])"
            ]
          },
          "metadata": {
            "tags": []
          },
          "execution_count": 10
        }
      ]
    },
    {
      "metadata": {
        "id": "pSXsq7N04NrM",
        "colab_type": "code",
        "colab": {}
      },
      "cell_type": "code",
      "source": [
        "# Manipulate shapes\n",
        "# Flatten, Resize, Reshape, Stack, Split\n",
        "\n",
        "new_cyclist_trials = np.array([[10,15,17,26,13,19], [12,11,21,24,14,33]])"
      ],
      "execution_count": 0,
      "outputs": []
    },
    {
      "metadata": {
        "id": "6Rm9EZ_P5Xli",
        "colab_type": "code",
        "outputId": "82ded7c6-93e7-41de-91a2-6e64b4e455c3",
        "colab": {
          "base_uri": "https://localhost:8080/",
          "height": 34
        }
      },
      "cell_type": "code",
      "source": [
        "new_cyclist_trials.flatten() #Flattens the data (copy)\n",
        "# new_cyclist_trials.ravel() #Flattens the data"
      ],
      "execution_count": 0,
      "outputs": [
        {
          "output_type": "execute_result",
          "data": {
            "text/plain": [
              "array([10, 15, 17, 26, 13, 19, 12, 11, 21, 24, 14, 33])"
            ]
          },
          "metadata": {
            "tags": []
          },
          "execution_count": 25
        }
      ]
    },
    {
      "metadata": {
        "id": "zOeZQIzx5bmq",
        "colab_type": "code",
        "outputId": "a21b811e-cb44-4fef-b6ff-c44ba2cce411",
        "colab": {
          "base_uri": "https://localhost:8080/",
          "height": 51
        }
      },
      "cell_type": "code",
      "source": [
        "new_cyclist_trials.reshape(2,6) # Ensure number of elements are the same!"
      ],
      "execution_count": 0,
      "outputs": [
        {
          "output_type": "execute_result",
          "data": {
            "text/plain": [
              "array([[10, 15, 17, 26, 13, 19],\n",
              "       [12, 11, 21, 24, 14, 33]])"
            ]
          },
          "metadata": {
            "tags": []
          },
          "execution_count": 26
        }
      ]
    },
    {
      "metadata": {
        "id": "ixk0fvxY6a3w",
        "colab_type": "code",
        "outputId": "838de630-06a8-4455-a8a7-2fa0a390266b",
        "colab": {
          "base_uri": "https://localhost:8080/",
          "height": 68
        }
      },
      "cell_type": "code",
      "source": [
        "np.hsplit(new_cyclist_trials, 2) # Reshape and split horizontally from 2nd column"
      ],
      "execution_count": 0,
      "outputs": [
        {
          "output_type": "execute_result",
          "data": {
            "text/plain": [
              "[array([[10, 15, 17],\n",
              "        [12, 11, 21]]), array([[26, 13, 19],\n",
              "        [24, 14, 33]])]"
            ]
          },
          "metadata": {
            "tags": []
          },
          "execution_count": 27
        }
      ]
    },
    {
      "metadata": {
        "id": "eiCN8JDZ6wgu",
        "colab_type": "code",
        "colab": {}
      },
      "cell_type": "code",
      "source": [
        "new_cyclist_1 = np.array([10,15,17,26,13,19])\n",
        "new_cyclist_2 = np.array([12,11,21,24,14,23])"
      ],
      "execution_count": 0,
      "outputs": []
    },
    {
      "metadata": {
        "id": "RBWMiRyp7WhI",
        "colab_type": "code",
        "outputId": "2f27cc63-0beb-4b4c-d133-ef76b9c08fde",
        "colab": {
          "base_uri": "https://localhost:8080/",
          "height": 34
        }
      },
      "cell_type": "code",
      "source": [
        "np.hstack((new_cyclist_1, new_cyclist_2)) #Stack horizontally"
      ],
      "execution_count": 0,
      "outputs": [
        {
          "output_type": "execute_result",
          "data": {
            "text/plain": [
              "array([10, 15, 17, 26, 13, 19, 12, 11, 21, 24, 14, 23])"
            ]
          },
          "metadata": {
            "tags": []
          },
          "execution_count": 29
        }
      ]
    },
    {
      "metadata": {
        "id": "KEKCNO5K7dSn",
        "colab_type": "code",
        "outputId": "2bb295f6-b96c-424d-8842-e8a114332d8e",
        "colab": {
          "base_uri": "https://localhost:8080/",
          "height": 34
        }
      },
      "cell_type": "code",
      "source": [
        "# Checkpoint\n",
        "# Broadcast\n",
        "\n",
        "array_a = np.array([2,3,5,8])\n",
        "array_b = np.array([0.3,0.3,0.3,0.3])\n",
        "\n",
        "# Multiply arrays\n",
        "array_a*array_b\n"
      ],
      "execution_count": 0,
      "outputs": [
        {
          "output_type": "execute_result",
          "data": {
            "text/plain": [
              "array([0.6, 0.9, 1.5, 2.4])"
            ]
          },
          "metadata": {
            "tags": []
          },
          "execution_count": 31
        }
      ]
    },
    {
      "metadata": {
        "id": "ZbWymQGc9k9a",
        "colab_type": "code",
        "outputId": "edc54c0c-586d-4966-922f-551baef097b9",
        "colab": {
          "base_uri": "https://localhost:8080/",
          "height": 34
        }
      },
      "cell_type": "code",
      "source": [
        "# Create a variable with scalar value\n",
        "scalar_c = 0.3\n",
        "# Mutiply 1D array with a scalar value\n",
        "array_a * scalar_c"
      ],
      "execution_count": 0,
      "outputs": [
        {
          "output_type": "execute_result",
          "data": {
            "text/plain": [
              "array([0.6, 0.9, 1.5, 2.4])"
            ]
          },
          "metadata": {
            "tags": []
          },
          "execution_count": 32
        }
      ]
    },
    {
      "metadata": {
        "id": "fc2kbeOO9yrg",
        "colab_type": "code",
        "colab": {}
      },
      "cell_type": "code",
      "source": [
        "# Broadcast limitations\n",
        "# Create a new array with a different shape\n",
        "array_d = np.array([4,3])"
      ],
      "execution_count": 0,
      "outputs": []
    },
    {
      "metadata": {
        "id": "FPsi2GwC-D2f",
        "colab_type": "code",
        "outputId": "6ab0f826-b6fe-44e4-d0ac-981ccb9dea64",
        "colab": {
          "base_uri": "https://localhost:8080/",
          "height": 164
        }
      },
      "cell_type": "code",
      "source": [
        "array_a*array_d"
      ],
      "execution_count": 0,
      "outputs": [
        {
          "output_type": "error",
          "ename": "ValueError",
          "evalue": "ignored",
          "traceback": [
            "\u001b[0;31m---------------------------------------------------------------------------\u001b[0m",
            "\u001b[0;31mValueError\u001b[0m                                Traceback (most recent call last)",
            "\u001b[0;32m<ipython-input-34-a534092130b7>\u001b[0m in \u001b[0;36m<module>\u001b[0;34m()\u001b[0m\n\u001b[0;32m----> 1\u001b[0;31m \u001b[0marray_a\u001b[0m\u001b[0;34m*\u001b[0m\u001b[0marray_d\u001b[0m\u001b[0;34m\u001b[0m\u001b[0;34m\u001b[0m\u001b[0m\n\u001b[0m",
            "\u001b[0;31mValueError\u001b[0m: operands could not be broadcast together with shapes (4,) (2,) "
          ]
        }
      ]
    },
    {
      "metadata": {
        "id": "XwAECNkV-F2Q",
        "colab_type": "code",
        "colab": {}
      },
      "cell_type": "code",
      "source": [
        "# A larger example for broadcast\n",
        "\n",
        "np_week_one = np.array([105,135, 195, 120, 165])\n",
        "np_week_two = np.array([123,156, 230, 200, 147])"
      ],
      "execution_count": 0,
      "outputs": []
    },
    {
      "metadata": {
        "id": "lGYfTyMw-RnM",
        "colab_type": "code",
        "outputId": "4078fa7e-12ac-4fd5-fbb0-78895ce88bb0",
        "colab": {
          "base_uri": "https://localhost:8080/",
          "height": 34
        }
      },
      "cell_type": "code",
      "source": [
        "total_earning = np_week_one + np_week_two\n",
        "\n",
        "total_earning"
      ],
      "execution_count": 0,
      "outputs": [
        {
          "output_type": "execute_result",
          "data": {
            "text/plain": [
              "array([228, 291, 425, 320, 312])"
            ]
          },
          "metadata": {
            "tags": []
          },
          "execution_count": 39
        }
      ]
    },
    {
      "metadata": {
        "id": "g4Y9Hlng-kPy",
        "colab_type": "code",
        "colab": {}
      },
      "cell_type": "code",
      "source": [
        "np_week_one_hrs = np_week_one /15"
      ],
      "execution_count": 0,
      "outputs": []
    },
    {
      "metadata": {
        "id": "v2DJI01v-0QX",
        "colab_type": "code",
        "outputId": "a1bb04db-bd27-48fa-bab9-d9d847d6bde7",
        "colab": {
          "base_uri": "https://localhost:8080/",
          "height": 34
        }
      },
      "cell_type": "code",
      "source": [
        "np_week_one_hrs"
      ],
      "execution_count": 0,
      "outputs": [
        {
          "output_type": "execute_result",
          "data": {
            "text/plain": [
              "array([ 7.,  9., 13.,  8., 11.])"
            ]
          },
          "metadata": {
            "tags": []
          },
          "execution_count": 41
        }
      ]
    },
    {
      "metadata": {
        "id": "XWAZLsAj-29S",
        "colab_type": "code",
        "colab": {}
      },
      "cell_type": "code",
      "source": [
        "# Basics of Linear Algebra\n",
        "test_scores = np.array([[83,71,70,91,89],[54,67,78,65,92]])"
      ],
      "execution_count": 0,
      "outputs": []
    },
    {
      "metadata": {
        "id": "PlM_-NKCDllH",
        "colab_type": "code",
        "outputId": "349ae69f-72d1-49ae-ce2e-21480e2c7497",
        "colab": {
          "base_uri": "https://localhost:8080/",
          "height": 102
        }
      },
      "cell_type": "code",
      "source": [
        "test_scores.transpose()"
      ],
      "execution_count": 0,
      "outputs": [
        {
          "output_type": "execute_result",
          "data": {
            "text/plain": [
              "array([[83, 54],\n",
              "       [71, 67],\n",
              "       [70, 78],\n",
              "       [91, 65],\n",
              "       [89, 92]])"
            ]
          },
          "metadata": {
            "tags": []
          },
          "execution_count": 44
        }
      ]
    },
    {
      "metadata": {
        "id": "HAiMGoGGDvpp",
        "colab_type": "code",
        "outputId": "8750b5c0-9b88-4cae-b276-90f933d3d231",
        "colab": {
          "base_uri": "https://localhost:8080/",
          "height": 51
        }
      },
      "cell_type": "code",
      "source": [
        "# Inverse and trace functions\n",
        "inverse_array = np.array([[10,20],[15,25]])\n",
        "np.linalg.inv(inverse_array)"
      ],
      "execution_count": 0,
      "outputs": [
        {
          "output_type": "execute_result",
          "data": {
            "text/plain": [
              "array([[-0.5,  0.4],\n",
              "       [ 0.3, -0.2]])"
            ]
          },
          "metadata": {
            "tags": []
          },
          "execution_count": 49
        }
      ]
    },
    {
      "metadata": {
        "id": "Z3VOS7wyEHdU",
        "colab_type": "code",
        "outputId": "8ec23a4f-e47e-4db4-dc84-9787564b9ce3",
        "colab": {
          "base_uri": "https://localhost:8080/",
          "height": 34
        }
      },
      "cell_type": "code",
      "source": [
        "trace_array = np.array([[10,20],[22,31]])\n",
        "np.trace(trace_array) # Sum of the diagonal elements"
      ],
      "execution_count": 0,
      "outputs": [
        {
          "output_type": "execute_result",
          "data": {
            "text/plain": [
              "41"
            ]
          },
          "metadata": {
            "tags": []
          },
          "execution_count": 48
        }
      ]
    },
    {
      "metadata": {
        "id": "3IBCZivmEQqP",
        "colab_type": "code",
        "colab": {}
      },
      "cell_type": "code",
      "source": [
        "# 10 20| -0.5 0.4\n",
        "# 15 25| 0.3  -0.2"
      ],
      "execution_count": 0,
      "outputs": []
    },
    {
      "metadata": {
        "id": "fuAwmm_7FxNG",
        "colab_type": "code",
        "outputId": "9ba3c4ae-1786-48e4-898b-c4e9bd9c5f80",
        "colab": {
          "resources": {
            "http://localhost:8080/nbextensions/google.colab/files.js": {
              "data": "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",
              "ok": true,
              "headers": [
                [
                  "content-type",
                  "application/javascript"
                ]
              ],
              "status": 200,
              "status_text": ""
            }
          },
          "base_uri": "https://localhost:8080/",
          "height": 69
        }
      },
      "cell_type": "code",
      "source": [
        "\n",
        "# Step to upload the file\n",
        "from google.colab import files\n",
        "uploaded = files.upload()"
      ],
      "execution_count": 0,
      "outputs": [
        {
          "output_type": "display_data",
          "data": {
            "text/html": [
              "\n",
              "     <input type=\"file\" id=\"files-dcfbf99c-902c-41d7-b231-ff0115b3f2ac\" name=\"files[]\" multiple disabled />\n",
              "     <output id=\"result-dcfbf99c-902c-41d7-b231-ff0115b3f2ac\">\n",
              "      Upload widget is only available when the cell has been executed in the\n",
              "      current browser session. Please rerun this cell to enable.\n",
              "      </output>\n",
              "      <script src=\"/nbextensions/google.colab/files.js\"></script> "
            ],
            "text/plain": [
              "<IPython.core.display.HTML object>"
            ]
          },
          "metadata": {
            "tags": []
          }
        },
        {
          "output_type": "stream",
          "text": [
            "Saving Olympic 2012 Medal Tally.xlsx to Olympic 2012 Medal Tally.xlsx\n"
          ],
          "name": "stdout"
        }
      ]
    },
    {
      "metadata": {
        "id": "A2hWoec3RH_C",
        "colab_type": "code",
        "outputId": "ca792458-0dc5-4e9d-eb1b-ef60fbf60cd3",
        "colab": {
          "base_uri": "https://localhost:8080/",
          "height": 85
        }
      },
      "cell_type": "code",
      "source": [
        "!ls\n",
        "!pwd"
      ],
      "execution_count": 0,
      "outputs": [
        {
          "output_type": "stream",
          "text": [
            " anscombe.json\t\t        mnist_test.csv\t\t\t README.md\n",
            " california_housing_test.csv    mnist_train_small.csv\n",
            " california_housing_train.csv  'Olympic 2012 Medal Tally.xlsx'\n",
            "/content/sample_data\n"
          ],
          "name": "stdout"
        }
      ]
    },
    {
      "metadata": {
        "id": "9nGJRK-rRVTx",
        "colab_type": "code",
        "outputId": "48d0b834-16a5-46b5-f1e8-978a43526128",
        "colab": {
          "base_uri": "https://localhost:8080/",
          "height": 34
        }
      },
      "cell_type": "code",
      "source": [
        "cd sample_data/\n"
      ],
      "execution_count": 0,
      "outputs": [
        {
          "output_type": "stream",
          "text": [
            "/content/sample_data\n"
          ],
          "name": "stdout"
        }
      ]
    },
    {
      "metadata": {
        "id": "VxEJZS0hS5IF",
        "colab_type": "code",
        "outputId": "349d76ff-c475-4e71-8b0f-e76db2b253f2",
        "colab": {
          "base_uri": "https://localhost:8080/",
          "height": 68
        }
      },
      "cell_type": "code",
      "source": [
        "!ls\n"
      ],
      "execution_count": 0,
      "outputs": [
        {
          "output_type": "stream",
          "text": [
            "anscombe.json\t\t      mnist_test.csv\n",
            "california_housing_test.csv   mnist_train_small.csv\n",
            "california_housing_train.csv  README.md\n"
          ],
          "name": "stdout"
        }
      ]
    },
    {
      "metadata": {
        "id": "MNgLxLKhgh7Z",
        "colab_type": "code",
        "colab": {}
      },
      "cell_type": "code",
      "source": [
        "# Assignment 1\n",
        "\n",
        "#Import required library\n",
        "import numpy as np\n",
        "\n",
        "#Manually add the dataset\n",
        "np_country = np.array(['Algeria','Angola','Argentina','Australia','Austria',\n",
        "                       'Bahamas','Bangladesh','Belarus','Belgium','Bhutan',\n",
        "                       'Brazil','Bulgaria','Cambodia','Cameroon','Chile','China',\n",
        "                       'Colombia','Cyprus','Denmark','El Salvador','Estonia',\n",
        "                       'Ethiopia','Fiji','Finland','France','Georgia','Ghana',\n",
        "                       'Grenada','Guinea','Haiti','Honduras','Hungary','India',\n",
        "                       'Indonesia','Ireland','Italy','Japan','Kenya',' South Korea',\n",
        "                       'Liberia','Malaysia','Mexico',' Morocco','Nepal','New Zealand',\n",
        "                       'Norway','Pakistan',' Peru','Qatar','Russia','Singapore',\n",
        "                       'South Africa','Spain','Sweden','Switzerland','Thailand',\n",
        "                       'United Arab Emirates','United Kingdom','United States',\n",
        "                       'Uruguay','Venezuela','Vietnam','Zimbabwe'])\n",
        "np_gdp = np.array([2255.225482,629.9553062,11601.63022,25306.82494,27266.40335,\n",
        "                   19466.99052,588.3691778,2890.345675,24733.62696,1445.760002,\n",
        "                   4803.398244,2618.876037,590.4521124,665.7982328,7122.938458,\n",
        "                   2639.54156,3362.4656,15378.16704,30860.12808,2579.115607,\n",
        "                   6525.541272,229.6769525,2242.689259,27570.4852,23016.84778,\n",
        "                   1334.646773,402.6953275,6047.200797,394.1156638,385.5793827,\n",
        "                   1414.072488,5745.981529,837.7464011,1206.991065,27715.52837,\n",
        "                   18937.24998,39578.07441,478.2194906,16684.21278,279.2204061,\n",
        "                   5345.213415,6288.25324,1908.304416,274.8728621,14646.42094,\n",
        "                   40034.85063,672.1547506,3359.517402,36152.66676,3054.727742,\n",
        "                   33529.83052,3825.093781,15428.32098,33630.24604,39170.41371,\n",
        "                   2699.123242,21058.43643,28272.40661,37691.02733,9581.05659,\n",
        "                   5671.912202,757.4009286,347.7456605])\n"
      ],
      "execution_count": 0,
      "outputs": []
    },
    {
      "metadata": {
        "id": "fICWxGHphsDO",
        "colab_type": "code",
        "outputId": "88c69276-e5c5-4ece-8778-495fe6bd12e3",
        "colab": {
          "base_uri": "https://localhost:8080/",
          "height": 34
        }
      },
      "cell_type": "code",
      "source": [
        "np_country.size, np_gdp.size\n"
      ],
      "execution_count": 0,
      "outputs": [
        {
          "output_type": "execute_result",
          "data": {
            "text/plain": [
              "(63, 63)"
            ]
          },
          "metadata": {
            "tags": []
          },
          "execution_count": 44
        }
      ]
    },
    {
      "metadata": {
        "id": "k8LMK5HTgiRm",
        "colab_type": "code",
        "outputId": "dd9d5bad-8468-4335-d649-596f821eefe8",
        "colab": {
          "base_uri": "https://localhost:8080/",
          "height": 34
        }
      },
      "cell_type": "code",
      "source": [
        "# Find and print the name of the country with the highest GDP,\n",
        "np_country[np.argmax(np_gdp)]"
      ],
      "execution_count": 0,
      "outputs": [
        {
          "output_type": "execute_result",
          "data": {
            "text/plain": [
              "'Norway'"
            ]
          },
          "metadata": {
            "tags": []
          },
          "execution_count": 45
        }
      ]
    },
    {
      "metadata": {
        "id": "IfLfQJvXgiXo",
        "colab_type": "code",
        "outputId": "a516c4c8-6134-4ab6-ae97-0ad7c1528974",
        "colab": {
          "base_uri": "https://localhost:8080/",
          "height": 34
        }
      },
      "cell_type": "code",
      "source": [
        "# Find and print the name of the country with the lowest GDP,\n",
        "np_country[np.argmin(np_gdp)]\n"
      ],
      "execution_count": 0,
      "outputs": [
        {
          "output_type": "execute_result",
          "data": {
            "text/plain": [
              "'Ethiopia'"
            ]
          },
          "metadata": {
            "tags": []
          },
          "execution_count": 46
        }
      ]
    },
    {
      "metadata": {
        "id": "2KSxwxZbgijg",
        "colab_type": "code",
        "outputId": "91e60eb5-c537-464b-fb02-ef09954ed079",
        "colab": {
          "base_uri": "https://localhost:8080/",
          "height": 54
        }
      },
      "cell_type": "code",
      "source": [
        "# Print out text and input values iteratively\n"
      ],
      "execution_count": 0,
      "outputs": [
        {
          "output_type": "stream",
          "text": [
            "{'Algeria': 2255.225482, 'Angola': 629.9553062, 'Argentina': 11601.63022, 'Australia': 25306.82494, 'Austria': 27266.40335, 'Bahamas': 19466.99052, 'Bangladesh': 588.3691778, 'Belarus': 2890.345675, 'Belgium': 24733.62696, 'Bhutan': 1445.760002, 'Brazil': 4803.398244, 'Bulgaria': 2618.876037, 'Cambodia': 590.4521124, 'Cameroon': 665.7982328, 'Chile': 7122.938458, 'China': 2639.54156, 'Colombia': 3362.4656, 'Cyprus': 15378.16704, 'Denmark': 30860.12808, 'El Salvador': 2579.115607, 'Estonia': 6525.541272, 'Ethiopia': 229.6769525, 'Fiji': 2242.689259, 'Finland': 27570.4852, 'France': 23016.84778, 'Georgia': 1334.646773, 'Ghana': 402.6953275, 'Grenada': 6047.200797, 'Guinea': 394.1156638, 'Haiti': 385.5793827, 'Honduras': 1414.072488, 'Hungary': 5745.981529, 'India': 837.7464011, 'Indonesia': 1206.991065, 'Ireland': 27715.52837, 'Italy': 18937.24998, 'Japan': 39578.07441, 'Kenya': 478.2194906, ' South Korea': 16684.21278, 'Liberia': 279.2204061, 'Malaysia': 5345.213415, 'Mexico': 6288.25324, ' Morocco': 1908.304416, 'Nepal': 274.8728621, 'New Zealand': 14646.42094, 'Norway': 40034.85063, 'Pakistan': 672.1547506, ' Peru': 3359.517402, 'Qatar': 36152.66676, 'Russia': 3054.727742, 'Singapore': 33529.83052, 'South Africa': 3825.093781, 'Spain': 15428.32098, 'Sweden': 33630.24604, 'Switzerland': 39170.41371, 'Thailand': 2699.123242, 'United Arab Emirates': 21058.43643, 'United Kingdom': 28272.40661, 'United States': 37691.02733, 'Uruguay': 9581.05659, 'Venezuela': 5671.912202, 'Vietnam': 757.4009286, 'Zimbabwe': 347.7456605}\n"
          ],
          "name": "stdout"
        }
      ]
    },
    {
      "metadata": {
        "id": "OuSjgQwRhLPn",
        "colab_type": "code",
        "outputId": "1f046ba9-d4e4-4f95-917f-097efb676798",
        "colab": {
          "base_uri": "https://localhost:8080/",
          "height": 54
        }
      },
      "cell_type": "code",
      "source": [
        "# Print out the entire list of the countries with their GDPs, and\n",
        "print(dict(zip(np_country,np_gdp)))"
      ],
      "execution_count": 0,
      "outputs": [
        {
          "output_type": "stream",
          "text": [
            "{'Algeria': 2255.225482, 'Angola': 629.9553062, 'Argentina': 11601.63022, 'Australia': 25306.82494, 'Austria': 27266.40335, 'Bahamas': 19466.99052, 'Bangladesh': 588.3691778, 'Belarus': 2890.345675, 'Belgium': 24733.62696, 'Bhutan': 1445.760002, 'Brazil': 4803.398244, 'Bulgaria': 2618.876037, 'Cambodia': 590.4521124, 'Cameroon': 665.7982328, 'Chile': 7122.938458, 'China': 2639.54156, 'Colombia': 3362.4656, 'Cyprus': 15378.16704, 'Denmark': 30860.12808, 'El Salvador': 2579.115607, 'Estonia': 6525.541272, 'Ethiopia': 229.6769525, 'Fiji': 2242.689259, 'Finland': 27570.4852, 'France': 23016.84778, 'Georgia': 1334.646773, 'Ghana': 402.6953275, 'Grenada': 6047.200797, 'Guinea': 394.1156638, 'Haiti': 385.5793827, 'Honduras': 1414.072488, 'Hungary': 5745.981529, 'India': 837.7464011, 'Indonesia': 1206.991065, 'Ireland': 27715.52837, 'Italy': 18937.24998, 'Japan': 39578.07441, 'Kenya': 478.2194906, ' South Korea': 16684.21278, 'Liberia': 279.2204061, 'Malaysia': 5345.213415, 'Mexico': 6288.25324, ' Morocco': 1908.304416, 'Nepal': 274.8728621, 'New Zealand': 14646.42094, 'Norway': 40034.85063, 'Pakistan': 672.1547506, ' Peru': 3359.517402, 'Qatar': 36152.66676, 'Russia': 3054.727742, 'Singapore': 33529.83052, 'South Africa': 3825.093781, 'Spain': 15428.32098, 'Sweden': 33630.24604, 'Switzerland': 39170.41371, 'Thailand': 2699.123242, 'United Arab Emirates': 21058.43643, 'United Kingdom': 28272.40661, 'United States': 37691.02733, 'Uruguay': 9581.05659, 'Venezuela': 5671.912202, 'Vietnam': 757.4009286, 'Zimbabwe': 347.7456605}\n"
          ],
          "name": "stdout"
        }
      ]
    },
    {
      "metadata": {
        "id": "-2ocGgfuhL8S",
        "colab_type": "code",
        "colab": {}
      },
      "cell_type": "code",
      "source": [
        "# Print the highest GDP value, lowest GDP value, \n",
        "# mean GDP value, standardized GDP value, and the sum of all the GDPs.\n",
        "\n"
      ],
      "execution_count": 0,
      "outputs": []
    },
    {
      "metadata": {
        "id": "6b3GoCicS6um",
        "colab_type": "code",
        "colab": {}
      },
      "cell_type": "code",
      "source": [
        "# Assignment 2\n",
        "# For the following dataset find out the below answers\n",
        "\n",
        "# Country\tCountry Code\tYear\tMedal Tally\n",
        "# Gold\tSilver\tBronze\n",
        "# Great Britain\tGBR\t2012\t29\t17\t19\n",
        "# China \tCHN\t2012\t38\t28\t22\n",
        "# Russia\tRUS\t2012\t24\t25\t32\n",
        "# United States\tUS\t2012\t46\t28\t29\n",
        "# Korea\tKOR\t2012\t13\t8\t7\n",
        "# Japan\tJPN\t2012\t7\t14\t17\n",
        "# Germany\tGER\t2012\t11\t11\t14\n",
        "import numpy as np\n",
        "np_olympic_country = np.array(['GBR','CHN',\"RUS\",'US','KOR','JPN','GER'])\n",
        "np_gold = np.array([29,38,24,46,13,7,11])\n",
        "np_silver = np.array([17,28,25,28,8,14,11])\n",
        "np_bronze = np.array([19,22,32,29,7,17,14])"
      ],
      "execution_count": 0,
      "outputs": []
    },
    {
      "metadata": {
        "id": "mN_lS4GyWIhH",
        "colab_type": "code",
        "outputId": "382b59e3-b2e7-43c4-b765-526f357d1f0d",
        "colab": {
          "base_uri": "https://localhost:8080/",
          "height": 34
        }
      },
      "cell_type": "code",
      "source": [
        "\n",
        "# Print the index name & country name for maximum number of golds\n",
        "max_gold_index = np_gold.argmax() # Prints the index with the maximum argument value\n",
        "max_gold_index\n",
        "\n",
        "# Print the country name for maximum number of golds\n",
        "print(np_olympic_country[max_gold_index])"
      ],
      "execution_count": 0,
      "outputs": [
        {
          "output_type": "stream",
          "text": [
            "US\n"
          ],
          "name": "stdout"
        }
      ]
    },
    {
      "metadata": {
        "id": "OCRXMtviWEEm",
        "colab_type": "code",
        "outputId": "bae5c730-c110-4035-f9cd-b5bdc78c2331",
        "colab": {
          "base_uri": "https://localhost:8080/",
          "height": 34
        }
      },
      "cell_type": "code",
      "source": [
        "# Print countries that have more than >20 golds\n",
        "print(np_olympic_country[np_gold>20])"
      ],
      "execution_count": 0,
      "outputs": [
        {
          "output_type": "stream",
          "text": [
            "['GBR' 'CHN' 'RUS' 'US']\n"
          ],
          "name": "stdout"
        }
      ]
    },
    {
      "metadata": {
        "id": "gkzeKQC7WraQ",
        "colab_type": "code",
        "outputId": "2578e9f6-cbe8-4f0a-999c-537e8da702d1",
        "colab": {
          "base_uri": "https://localhost:8080/",
          "height": 51
        }
      },
      "cell_type": "code",
      "source": [
        "# Print the medal tally\n",
        "np_tally=np_gold+np_silver+np_bronze\n",
        "np_olympic_country, np_tally"
      ],
      "execution_count": 0,
      "outputs": [
        {
          "output_type": "execute_result",
          "data": {
            "text/plain": [
              "(array(['GBR', 'CHN', 'RUS', 'US', 'KOR', 'JPN', 'GER'], dtype='<U3'),\n",
              " array([ 65,  88,  81, 103,  28,  38,  36]))"
            ]
          },
          "metadata": {
            "tags": []
          },
          "execution_count": 12
        }
      ]
    },
    {
      "metadata": {
        "id": "sBcnQs1AXMoZ",
        "colab_type": "code",
        "outputId": "f524a223-d894-492b-8421-6e17594e70e9",
        "colab": {
          "base_uri": "https://localhost:8080/",
          "height": 136
        }
      },
      "cell_type": "code",
      "source": [
        "# Print each country name with the corresponding number of gold medals\n",
        "i=0\n",
        "while i < np_olympic_country.size:\n",
        "  print (np_olympic_country[i],np_gold[i])\n",
        "  i=i+1"
      ],
      "execution_count": 0,
      "outputs": [
        {
          "output_type": "stream",
          "text": [
            "GBR 29\n",
            "CHN 38\n",
            "RUS 24\n",
            "US 46\n",
            "KOR 13\n",
            "JPN 7\n",
            "GER 11\n"
          ],
          "name": "stdout"
        }
      ]
    },
    {
      "metadata": {
        "id": "9B_agqgNBDbG",
        "colab_type": "code",
        "outputId": "856f4b7e-b317-4255-fec1-37dcf0474601",
        "colab": {
          "base_uri": "https://localhost:8080/",
          "height": 136
        }
      },
      "cell_type": "code",
      "source": [
        "# Print each country name with the total number of medals won\n",
        "i=0\n",
        "while i < np_olympic_country.size:\n",
        "  print (np_olympic_country[i],np_tally[i])\n",
        "  i=i+1"
      ],
      "execution_count": 0,
      "outputs": [
        {
          "output_type": "stream",
          "text": [
            "GBR 65\n",
            "CHN 88\n",
            "RUS 81\n",
            "US 103\n",
            "KOR 28\n",
            "JPN 38\n",
            "GER 36\n"
          ],
          "name": "stdout"
        }
      ]
    },
    {
      "metadata": {
        "id": "xz6pIqoqCCjF",
        "colab_type": "code",
        "colab": {}
      },
      "cell_type": "code",
      "source": [
        "# End of Assignment 2 please complete this on your own!\n",
        "\n",
        "# Please complete Assignment 1 on your own by tomorrow 10 am IST!\n",
        "\n"
      ],
      "execution_count": 0,
      "outputs": []
    },
    {
      "metadata": {
        "id": "xlHX5DQxQah6",
        "colab_type": "code",
        "colab": {}
      },
      "cell_type": "code",
      "source": [
        "# Scipy and the different Sub-packages; Enumerate the list\n",
        "# Integrals\n",
        "from scipy.integrate import quad\n",
        "\n"
      ],
      "execution_count": 0,
      "outputs": []
    },
    {
      "metadata": {
        "id": "gGpAC1z4RiDL",
        "colab_type": "code",
        "colab": {}
      },
      "cell_type": "code",
      "source": [
        "def integrateFunction(x):\n",
        "  return x*x"
      ],
      "execution_count": 0,
      "outputs": []
    },
    {
      "metadata": {
        "id": "9GnofqrARloU",
        "colab_type": "code",
        "outputId": "e29813b6-f5f4-4b78-8950-d864638f9d24",
        "colab": {
          "base_uri": "https://localhost:8080/",
          "height": 34
        }
      },
      "cell_type": "code",
      "source": [
        "quad(integrateFunction,0,1)"
      ],
      "execution_count": 0,
      "outputs": [
        {
          "output_type": "execute_result",
          "data": {
            "text/plain": [
              "(0.33333333333333337, 3.700743415417189e-15)"
            ]
          },
          "metadata": {
            "tags": []
          },
          "execution_count": 23
        }
      ]
    },
    {
      "metadata": {
        "id": "7Tk9hliQRp1Z",
        "colab_type": "code",
        "colab": {}
      },
      "cell_type": "code",
      "source": [
        "def integrateFn(x,a,b):\n",
        "  return x*a+b\n",
        "\n",
        "a = 3\n",
        "b = 2 "
      ],
      "execution_count": 0,
      "outputs": []
    },
    {
      "metadata": {
        "id": "SKtIX9otSjdq",
        "colab_type": "code",
        "outputId": "fbcd2393-5f0d-4935-8a4e-a89a2c567b54",
        "colab": {
          "base_uri": "https://localhost:8080/",
          "height": 34
        }
      },
      "cell_type": "code",
      "source": [
        "quad(integrateFn, 0, 1, args = (a,b))"
      ],
      "execution_count": 0,
      "outputs": [
        {
          "output_type": "execute_result",
          "data": {
            "text/plain": [
              "(3.5, 3.885780586188048e-14)"
            ]
          },
          "metadata": {
            "tags": []
          },
          "execution_count": 31
        }
      ]
    },
    {
      "metadata": {
        "id": "Bq_gjyfyTQeJ",
        "colab_type": "code",
        "outputId": "1aeb4208-6f67-44d3-b953-3de9d9216be0",
        "colab": {
          "base_uri": "https://localhost:8080/",
          "height": 34
        }
      },
      "cell_type": "code",
      "source": [
        "# Multiple integration\n",
        "import scipy.integrate as integrate\n",
        "def f(x,y):\n",
        "  return x+y\n",
        "integrate.dblquad(f,0,1,lambda x:0, lambda x:2)"
      ],
      "execution_count": 0,
      "outputs": [
        {
          "output_type": "execute_result",
          "data": {
            "text/plain": [
              "(3.0, 4.436070580899685e-14)"
            ]
          },
          "metadata": {
            "tags": []
          },
          "execution_count": 33
        }
      ]
    },
    {
      "metadata": {
        "id": "BBsrFY-wUlPI",
        "colab_type": "code",
        "outputId": "b6bc108b-3c61-4a6d-f8df-9b41ccb586ad",
        "colab": {
          "base_uri": "https://localhost:8080/",
          "height": 51
        }
      },
      "cell_type": "code",
      "source": [
        "# Linear Algebra\n",
        "\n",
        "import numpy as np\n",
        "from scipy import linalg\n",
        "matrix = np.array([[10,6],[2,7]])\n",
        "matrix"
      ],
      "execution_count": 0,
      "outputs": [
        {
          "output_type": "execute_result",
          "data": {
            "text/plain": [
              "array([[10,  6],\n",
              "       [ 2,  7]])"
            ]
          },
          "metadata": {
            "tags": []
          },
          "execution_count": 1
        }
      ]
    },
    {
      "metadata": {
        "id": "UaT1FP80GWKo",
        "colab_type": "code",
        "outputId": "142e4b5a-af8f-4f97-b12b-dbf140825818",
        "colab": {
          "base_uri": "https://localhost:8080/",
          "height": 34
        }
      },
      "cell_type": "code",
      "source": [
        "type(matrix)"
      ],
      "execution_count": 0,
      "outputs": [
        {
          "output_type": "execute_result",
          "data": {
            "text/plain": [
              "numpy.ndarray"
            ]
          },
          "metadata": {
            "tags": []
          },
          "execution_count": 2
        }
      ]
    },
    {
      "metadata": {
        "id": "lvY9E21aGZqx",
        "colab_type": "code",
        "outputId": "dd6b3444-305b-45ba-9459-5eff479ee473",
        "colab": {
          "base_uri": "https://localhost:8080/",
          "height": 51
        }
      },
      "cell_type": "code",
      "source": [
        "linalg.inv(matrix) #Inverse of a matrix"
      ],
      "execution_count": 0,
      "outputs": [
        {
          "output_type": "execute_result",
          "data": {
            "text/plain": [
              "array([[ 0.12068966, -0.10344828],\n",
              "       [-0.03448276,  0.17241379]])"
            ]
          },
          "metadata": {
            "tags": []
          },
          "execution_count": 3
        }
      ]
    },
    {
      "metadata": {
        "id": "G5h5u-caGb1Z",
        "colab_type": "code",
        "outputId": "41fc707c-3ea9-4eab-9e39-b42334e01714",
        "colab": {
          "base_uri": "https://localhost:8080/",
          "height": 34
        }
      },
      "cell_type": "code",
      "source": [
        "linalg.det(matrix) #Determinant of a matrix"
      ],
      "execution_count": 0,
      "outputs": [
        {
          "output_type": "execute_result",
          "data": {
            "text/plain": [
              "58.0"
            ]
          },
          "metadata": {
            "tags": []
          },
          "execution_count": 4
        }
      ]
    },
    {
      "metadata": {
        "id": "RHSOW26DGrv2",
        "colab_type": "code",
        "colab": {}
      },
      "cell_type": "code",
      "source": [
        "import numpy as np\n",
        "from scipy import linalg\n",
        "\n",
        "numArray = np.array([[2,3,1],[-1,5,4],[3,2,9]])\n",
        "numArrValue = np.array([21,9,6])"
      ],
      "execution_count": 0,
      "outputs": []
    },
    {
      "metadata": {
        "id": "YdlqG5AVHn_k",
        "colab_type": "code",
        "outputId": "6bdbc30c-0f27-4b2d-9f40-092473aa5e52",
        "colab": {
          "base_uri": "https://localhost:8080/",
          "height": 34
        }
      },
      "cell_type": "code",
      "source": [
        "linalg.solve(numArray, numArrValue)"
      ],
      "execution_count": 0,
      "outputs": [
        {
          "output_type": "execute_result",
          "data": {
            "text/plain": [
              "array([ 4.95,  4.35, -1.95])"
            ]
          },
          "metadata": {
            "tags": []
          },
          "execution_count": 10
        }
      ]
    },
    {
      "metadata": {
        "id": "Cdc6Kdk_HxWi",
        "colab_type": "code",
        "outputId": "372f3219-175c-4656-afcb-b19e75bfd860",
        "colab": {
          "base_uri": "https://localhost:8080/",
          "height": 34
        }
      },
      "cell_type": "code",
      "source": [
        "numArray1 = np.array([[2,3],[-1,5]])\n",
        "numArrValue1 = np.array([21,9])\n",
        "linalg.solve(numArray1, numArrValue1)"
      ],
      "execution_count": 0,
      "outputs": [
        {
          "output_type": "execute_result",
          "data": {
            "text/plain": [
              "array([6., 3.])"
            ]
          },
          "metadata": {
            "tags": []
          },
          "execution_count": 11
        }
      ]
    },
    {
      "metadata": {
        "id": "3p323Zd1IDL4",
        "colab_type": "code",
        "outputId": "5fa2f01f-4cab-4273-b41d-a3cd07217c97",
        "colab": {
          "base_uri": "https://localhost:8080/",
          "height": 34
        }
      },
      "cell_type": "code",
      "source": [
        "# Singular Value Decompisition (SVD)\n",
        "numSvdArr = np.array([[3,5,1],[9,5,7]])\n",
        "numSvdArr.shape"
      ],
      "execution_count": 0,
      "outputs": [
        {
          "output_type": "execute_result",
          "data": {
            "text/plain": [
              "(2, 3)"
            ]
          },
          "metadata": {
            "tags": []
          },
          "execution_count": 13
        }
      ]
    },
    {
      "metadata": {
        "id": "HnpseITnJPFh",
        "colab_type": "code",
        "outputId": "de888aad-2a6e-49bf-de14-a8a41696cf8e",
        "colab": {
          "base_uri": "https://localhost:8080/",
          "height": 119
        }
      },
      "cell_type": "code",
      "source": [
        "linalg.svd(numSvdArr)"
      ],
      "execution_count": 0,
      "outputs": [
        {
          "output_type": "execute_result",
          "data": {
            "text/plain": [
              "(array([[-0.37879831, -0.92547925],\n",
              "        [-0.92547925,  0.37879831]]),\n",
              " array([13.38464336,  3.29413449]),\n",
              " array([[-0.7072066 , -0.4872291 , -0.51231496],\n",
              "        [ 0.19208294, -0.82977932,  0.52399467],\n",
              "        [-0.68041382,  0.27216553,  0.68041382]]))"
            ]
          },
          "metadata": {
            "tags": []
          },
          "execution_count": 15
        }
      ]
    },
    {
      "metadata": {
        "id": "ub-ykIC4Kj0Q",
        "colab_type": "code",
        "colab": {}
      },
      "cell_type": "code",
      "source": [
        "# Checkpoint # Finished till here?\n"
      ],
      "execution_count": 0,
      "outputs": []
    },
    {
      "metadata": {
        "id": "_5rcZ_C4bLcf",
        "colab_type": "code",
        "outputId": "90887349-e86b-41c6-800f-75260be31271",
        "colab": {
          "base_uri": "https://localhost:8080/",
          "height": 51
        }
      },
      "cell_type": "code",
      "source": [
        "# Scipy Statistics Module\n",
        "\n",
        "from scipy.stats import norm\n",
        "norm.rvs(loc=0, scale=1, size=10) # Pick random variables from the normal function"
      ],
      "execution_count": 0,
      "outputs": [
        {
          "output_type": "execute_result",
          "data": {
            "text/plain": [
              "array([ 1.28590252,  2.01084374,  1.29577134, -0.15195433,  1.29827556,\n",
              "        0.16298279, -0.71664032, -1.09819286, -0.65188358,  0.58739777])"
            ]
          },
          "metadata": {
            "tags": []
          },
          "execution_count": 17
        }
      ]
    },
    {
      "metadata": {
        "id": "wij-QIFlbStn",
        "colab_type": "code",
        "outputId": "3f11b82c-e5f0-4a2c-cc35-3aa50124314e",
        "colab": {
          "base_uri": "https://localhost:8080/",
          "height": 34
        }
      },
      "cell_type": "code",
      "source": [
        "norm.cdf(5, loc=1, scale=2)"
      ],
      "execution_count": 0,
      "outputs": [
        {
          "output_type": "execute_result",
          "data": {
            "text/plain": [
              "0.9772498680518208"
            ]
          },
          "metadata": {
            "tags": []
          },
          "execution_count": 18
        }
      ]
    },
    {
      "metadata": {
        "id": "P7f8gO6objqQ",
        "colab_type": "code",
        "colab": {}
      },
      "cell_type": "code",
      "source": [
        ""
      ],
      "execution_count": 0,
      "outputs": []
    }
  ]
}