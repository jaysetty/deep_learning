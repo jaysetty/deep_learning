{
  "nbformat": 4,
  "nbformat_minor": 0,
  "metadata": {
    "colab": {
      "name": "2. Boston_Housing_Prices_Normalized_New.ipynb",
      "version": "0.3.2",
      "provenance": []
    },
    "kernelspec": {
      "display_name": "Python 2",
      "language": "python",
      "name": "python2"
    }
  },
  "cells": [
    {
      "metadata": {
        "id": "H1VUG_7gQ4Xn",
        "colab_type": "text"
      },
      "cell_type": "markdown",
      "source": [
        "# This is a basic code block to run a linear regression using Tensorflow on the Boston Housing Dataset\n"
      ]
    },
    {
      "metadata": {
        "id": "Mf0SwNxSRmV2",
        "colab_type": "text"
      },
      "cell_type": "markdown",
      "source": [
        "Data description\n",
        "The Boston data frame has 506 rows and 14 columns.\n",
        "https://www.kaggle.com/c/boston-housing\n",
        "\n",
        "We are trying to predict the price of the house. This is a regression problem."
      ]
    },
    {
      "metadata": {
        "colab_type": "text",
        "id": "hTmlUUfMxszm",
        "slideshow": {
          "slide_type": "slide"
        }
      },
      "cell_type": "markdown",
      "source": [
        "### Load tensorFlow"
      ]
    },
    {
      "metadata": {
        "colab_type": "code",
        "id": "jBZ4yRDwxszp",
        "outputId": "7703e3a8-ed60-4d90-83ca-1f295cc7bfb7",
        "slideshow": {
          "slide_type": "fragment"
        },
        "colab": {
          "base_uri": "https://localhost:8080/",
          "height": 428
        }
      },
      "cell_type": "code",
      "source": [
        "!pip install tensorflow\n"
      ],
      "execution_count": 1,
      "outputs": [
        {
          "output_type": "stream",
          "text": [
            "Requirement already satisfied: tensorflow in /usr/local/lib/python2.7/dist-packages (1.12.0)\n",
            "Requirement already satisfied: grpcio>=1.8.6 in /usr/local/lib/python2.7/dist-packages (from tensorflow) (1.15.0)\n",
            "Requirement already satisfied: mock>=2.0.0 in /usr/local/lib/python2.7/dist-packages (from tensorflow) (2.0.0)\n",
            "Requirement already satisfied: keras-applications>=1.0.6 in /usr/local/lib/python2.7/dist-packages (from tensorflow) (1.0.6)\n",
            "Requirement already satisfied: enum34>=1.1.6 in /usr/local/lib/python2.7/dist-packages (from tensorflow) (1.1.6)\n",
            "Requirement already satisfied: protobuf>=3.6.1 in /usr/local/lib/python2.7/dist-packages (from tensorflow) (3.6.1)\n",
            "Requirement already satisfied: keras-preprocessing>=1.0.5 in /usr/local/lib/python2.7/dist-packages (from tensorflow) (1.0.5)\n",
            "Requirement already satisfied: gast>=0.2.0 in /usr/local/lib/python2.7/dist-packages (from tensorflow) (0.2.2)\n",
            "Requirement already satisfied: wheel in /usr/local/lib/python2.7/dist-packages (from tensorflow) (0.32.3)\n",
            "Requirement already satisfied: absl-py>=0.1.6 in /usr/local/lib/python2.7/dist-packages (from tensorflow) (0.6.1)\n",
            "Requirement already satisfied: backports.weakref>=1.0rc1 in /usr/local/lib/python2.7/dist-packages (from tensorflow) (1.0.post1)\n",
            "Requirement already satisfied: six>=1.10.0 in /usr/local/lib/python2.7/dist-packages (from tensorflow) (1.11.0)\n",
            "Requirement already satisfied: tensorboard<1.13.0,>=1.12.0 in /usr/local/lib/python2.7/dist-packages (from tensorflow) (1.12.2)\n",
            "Requirement already satisfied: numpy>=1.13.3 in /usr/local/lib/python2.7/dist-packages (from tensorflow) (1.14.6)\n",
            "Requirement already satisfied: termcolor>=1.1.0 in /usr/local/lib/python2.7/dist-packages (from tensorflow) (1.1.0)\n",
            "Requirement already satisfied: astor>=0.6.0 in /usr/local/lib/python2.7/dist-packages (from tensorflow) (0.7.1)\n",
            "Requirement already satisfied: futures>=2.2.0 in /usr/local/lib/python2.7/dist-packages (from grpcio>=1.8.6->tensorflow) (3.2.0)\n",
            "Requirement already satisfied: funcsigs>=1; python_version < \"3.3\" in /usr/local/lib/python2.7/dist-packages (from mock>=2.0.0->tensorflow) (1.0.2)\n",
            "Requirement already satisfied: pbr>=0.11 in /usr/local/lib/python2.7/dist-packages (from mock>=2.0.0->tensorflow) (5.1.1)\n",
            "Requirement already satisfied: h5py in /usr/local/lib/python2.7/dist-packages (from keras-applications>=1.0.6->tensorflow) (2.8.0)\n",
            "Requirement already satisfied: setuptools in /usr/local/lib/python2.7/dist-packages (from protobuf>=3.6.1->tensorflow) (40.6.3)\n",
            "Requirement already satisfied: werkzeug>=0.11.10 in /usr/local/lib/python2.7/dist-packages (from tensorboard<1.13.0,>=1.12.0->tensorflow) (0.14.1)\n",
            "Requirement already satisfied: markdown>=2.6.8 in /usr/local/lib/python2.7/dist-packages (from tensorboard<1.13.0,>=1.12.0->tensorflow) (3.0.1)\n"
          ],
          "name": "stdout"
        }
      ]
    },
    {
      "metadata": {
        "colab_type": "code",
        "id": "46shpXZIxszw",
        "colab": {}
      },
      "cell_type": "code",
      "source": [
        "import tensorflow as tf"
      ],
      "execution_count": 0,
      "outputs": []
    },
    {
      "metadata": {
        "colab_type": "code",
        "id": "1xVtTfiJxsz1",
        "slideshow": {
          "slide_type": "fragment"
        },
        "colab": {}
      },
      "cell_type": "code",
      "source": [
        "#Reset Default graph - Needed only for Jupyter notebook\n",
        "tf.reset_default_graph()"
      ],
      "execution_count": 0,
      "outputs": []
    },
    {
      "metadata": {
        "colab_type": "text",
        "id": "xvojOjPLxsz4",
        "slideshow": {
          "slide_type": "slide"
        }
      },
      "cell_type": "markdown",
      "source": [
        "### Collect Data"
      ]
    },
    {
      "metadata": {
        "colab_type": "code",
        "id": "Tr_z_2YHxsz5",
        "slideshow": {
          "slide_type": "fragment"
        },
        "colab": {
          "base_uri": "https://localhost:8080/",
          "height": 68
        },
        "outputId": "96c43f4b-3661-4fc2-ba85-43edb3ff1d38"
      },
      "cell_type": "code",
      "source": [
        "from tensorflow.python.keras.datasets import boston_housing\n",
        "\n",
        "#Load data\n",
        "(features, actual_prices),_ = boston_housing.load_data(test_split=0)"
      ],
      "execution_count": 4,
      "outputs": [
        {
          "output_type": "stream",
          "text": [
            "Downloading data from https://storage.googleapis.com/tensorflow/tf-keras-datasets/boston_housing.npz\n",
            "57344/57026 [==============================] - 0s 0us/step\n",
            "65536/57026 [==================================] - 0s 0us/step\n"
          ],
          "name": "stdout"
        }
      ]
    },
    {
      "metadata": {
        "colab_type": "code",
        "id": "WTYuZMy-xsz8",
        "slideshow": {
          "slide_type": "fragment"
        },
        "colab": {
          "base_uri": "https://localhost:8080/",
          "height": 68
        },
        "outputId": "e62433e0-01ac-461f-8a94-10650e765ebc"
      },
      "cell_type": "code",
      "source": [
        "print('Number of examples: ', features.shape[0])\n",
        "print('Number of features for each example: ', features.shape[1])\n",
        "print('Shape of actual prices data: ', actual_prices.shape)"
      ],
      "execution_count": 5,
      "outputs": [
        {
          "output_type": "stream",
          "text": [
            "('Number of examples: ', 506)\n",
            "('Number of features for each example: ', 13)\n",
            "('Shape of actual prices data: ', (506,))\n"
          ],
          "name": "stdout"
        }
      ]
    },
    {
      "metadata": {
        "colab_type": "text",
        "id": "-fgQ0jC0xs0A",
        "slideshow": {
          "slide_type": "slide"
        }
      },
      "cell_type": "markdown",
      "source": [
        "# Building the graph"
      ]
    },
    {
      "metadata": {
        "colab_type": "text",
        "id": "Vdz81v2txs0C",
        "slideshow": {
          "slide_type": "slide"
        }
      },
      "cell_type": "markdown",
      "source": [
        "Define input data placeholders"
      ]
    },
    {
      "metadata": {
        "colab_type": "code",
        "id": "as3Pte2zxs0F",
        "slideshow": {
          "slide_type": "fragment"
        },
        "colab": {}
      },
      "cell_type": "code",
      "source": [
        "#Input features\n",
        "x = tf.placeholder(shape=[None,13],dtype=tf.float32, name='x-input')\n",
        "\n",
        "#Normalize the data\n",
        "x_n = tf.nn.l2_normalize(x,1)\n",
        "\n",
        "#Actual Prices\n",
        "y_ = tf.placeholder(shape=[None],dtype=tf.float32, name='y-input')"
      ],
      "execution_count": 0,
      "outputs": []
    },
    {
      "metadata": {
        "colab_type": "text",
        "id": "VJelDMpzxs0L",
        "slideshow": {
          "slide_type": "slide"
        }
      },
      "cell_type": "markdown",
      "source": [
        "Define Weights and Bias"
      ]
    },
    {
      "metadata": {
        "colab_type": "code",
        "id": "8o9RPWVTxs0O",
        "slideshow": {
          "slide_type": "fragment"
        },
        "colab": {}
      },
      "cell_type": "code",
      "source": [
        "W = tf.Variable(tf.zeros(shape=[13,1]), name=\"Weights\")\n",
        "b = tf.Variable(tf.zeros(shape=[1]),name=\"Bias\")"
      ],
      "execution_count": 0,
      "outputs": []
    },
    {
      "metadata": {
        "colab_type": "text",
        "id": "zMXXYdOSxs0Q",
        "slideshow": {
          "slide_type": "slide"
        }
      },
      "cell_type": "markdown",
      "source": [
        "Prediction"
      ]
    },
    {
      "metadata": {
        "colab_type": "code",
        "id": "U8Cty1y0xs0S",
        "slideshow": {
          "slide_type": "fragment"
        },
        "colab": {}
      },
      "cell_type": "code",
      "source": [
        "#We will use normalized data\n",
        "#y = tf.add(tf.matmul(x,W),b,name='output')\n",
        "y = tf.add(tf.matmul(x_n,W),b,name='output')"
      ],
      "execution_count": 0,
      "outputs": []
    },
    {
      "metadata": {
        "colab_type": "text",
        "id": "lQmS3Tauxs0V",
        "slideshow": {
          "slide_type": "slide"
        }
      },
      "cell_type": "markdown",
      "source": [
        "Loss (Cost) Function"
      ]
    },
    {
      "metadata": {
        "colab_type": "code",
        "id": "-FRXmDd5xs0X",
        "slideshow": {
          "slide_type": "fragment"
        },
        "colab": {}
      },
      "cell_type": "code",
      "source": [
        "loss = tf.reduce_mean(tf.square(y-y_),name='Loss')"
      ],
      "execution_count": 0,
      "outputs": []
    },
    {
      "metadata": {
        "colab_type": "text",
        "id": "q_yQ7iTmxs0b",
        "slideshow": {
          "slide_type": "slide"
        }
      },
      "cell_type": "markdown",
      "source": [
        "GradientDescent Optimizer to minimize Loss"
      ]
    },
    {
      "metadata": {
        "colab_type": "code",
        "id": "Bl6hcWXVxs0c",
        "slideshow": {
          "slide_type": "fragment"
        },
        "colab": {}
      },
      "cell_type": "code",
      "source": [
        "train_op = tf.train.GradientDescentOptimizer(0.03).minimize(loss)"
      ],
      "execution_count": 0,
      "outputs": []
    },
    {
      "metadata": {
        "colab_type": "text",
        "id": "8-W6WFdrxs0f",
        "slideshow": {
          "slide_type": "slide"
        }
      },
      "cell_type": "markdown",
      "source": [
        "# Executing the Graph"
      ]
    },
    {
      "metadata": {
        "colab_type": "code",
        "id": "do6nf9oqxs0g",
        "slideshow": {
          "slide_type": "fragment"
        },
        "colab": {}
      },
      "cell_type": "code",
      "source": [
        "#Lets start graph Execution\n",
        "sess = tf.Session()\n",
        "\n",
        "# variables need to be initialized before we can use them\n",
        "sess.run(tf.global_variables_initializer())\n",
        "\n",
        "#how many times data need to be shown to model\n",
        "training_epochs = 100"
      ],
      "execution_count": 0,
      "outputs": []
    },
    {
      "metadata": {
        "colab_type": "code",
        "id": "02gePXXbxs0j",
        "slideshow": {
          "slide_type": "slide"
        },
        "colab": {
          "base_uri": "https://localhost:8080/",
          "height": 187
        },
        "outputId": "3fc06c98-4673-4482-a12d-cc8c7e18d662"
      },
      "cell_type": "code",
      "source": [
        "for epoch in range(training_epochs):\n",
        "            \n",
        "    #Calculate train_op and loss\n",
        "    _, train_loss = sess.run([train_op,loss],feed_dict={x:features, y_:actual_prices})\n",
        "    \n",
        "    if epoch % 10 == 0:\n",
        "        print ('Training loss at step: ', epoch, ' is ', train_loss)"
      ],
      "execution_count": 12,
      "outputs": [
        {
          "output_type": "stream",
          "text": [
            "('Training loss at step: ', 0, ' is ', 592.12036)\n",
            "('Training loss at step: ', 10, ' is ', 128.12592)\n",
            "('Training loss at step: ', 20, ' is ', 88.48478)\n",
            "('Training loss at step: ', 30, ' is ', 85.08909)\n",
            "('Training loss at step: ', 40, ' is ', 84.78946)\n",
            "('Training loss at step: ', 50, ' is ', 84.75502)\n",
            "('Training loss at step: ', 60, ' is ', 84.74392)\n",
            "('Training loss at step: ', 70, ' is ', 84.73506)\n",
            "('Training loss at step: ', 80, ' is ', 84.7273)\n",
            "('Training loss at step: ', 90, ' is ', 84.72013)\n"
          ],
          "name": "stdout"
        }
      ]
    },
    {
      "metadata": {
        "colab_type": "code",
        "id": "FNeMFTxoxs0m",
        "slideshow": {
          "slide_type": "slide"
        },
        "colab": {}
      },
      "cell_type": "code",
      "source": [
        "sess.close()"
      ],
      "execution_count": 0,
      "outputs": []
    },
    {
      "metadata": {
        "id": "6SRtgnhLQasy",
        "colab_type": "code",
        "colab": {}
      },
      "cell_type": "code",
      "source": [
        ""
      ],
      "execution_count": 0,
      "outputs": []
    }
  ]
}